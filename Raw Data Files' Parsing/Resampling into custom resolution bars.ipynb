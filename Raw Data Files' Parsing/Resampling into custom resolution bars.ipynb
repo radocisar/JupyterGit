{
 "cells": [
  {
   "cell_type": "code",
   "execution_count": null,
   "metadata": {},
   "outputs": [],
   "source": [
    "import pandas as pd\n",
    "import os\n",
    "import time\n",
    "import patoolib\n",
    "import gzip\n",
    "import shutil\n",
    "import numpy as np\n",
    "import matplotlib\n",
    "import matplotlib.pyplot as plt"
   ]
  },
  {
   "cell_type": "code",
   "execution_count": null,
   "metadata": {},
   "outputs": [],
   "source": [
    "patoolib.extract_archive(r\"L:\\Raw_1_sec_Bar_Data\\FX\\EURUSD\\Pickle\\EURUSD.pkl.gz\", \n",
    "                         outdir=r\"L:\\Raw_1_sec_Bar_Data\\FX\\EURUSD\\Pickle\\\\\")"
   ]
  },
  {
   "cell_type": "code",
   "execution_count": null,
   "metadata": {},
   "outputs": [],
   "source": [
    "df = pd.read_pickle(r\"L:\\Raw_1_sec_Bar_Data\\FX\\EURUSD\\Pickle\\EURUSD.pkl\")"
   ]
  },
  {
   "cell_type": "markdown",
   "metadata": {},
   "source": [
    "### Resampling into 1 Minute bars"
   ]
  },
  {
   "cell_type": "code",
   "execution_count": null,
   "metadata": {},
   "outputs": [],
   "source": [
    "min_1_low = df.loc[:,\"Low\"].resample(\"T\").apply(np.min)\n",
    "min_1_high = df.loc[:,\"High\"].resample(\"T\").apply(np.max)\n",
    "min_1_open = df.loc[:,\"Open\"].resample(\"T\").first()\n",
    "min_1_close = df.loc[:,\"Close\"].resample(\"T\").last()\n",
    "min_1_Trading_date_Actual_Time = df.loc[:,\"Trading_date_Actual_Time\"].resample(\"T\").first()\n",
    "min_1_Trading_date_Sequential_Time = df.loc[:,\"Trading_date_Sequential_Time\"].resample(\"T\").first()\n",
    "\n",
    "min_1_df = pd.DataFrame.from_dict({\"Open\":min_1_open,\"High\":min_1_high,\"Low\":min_1_low,\"Close\":min_1_close,\n",
    "                                        \"Trading_date_Actual_Time\":min_1_Trading_date_Actual_Time,\n",
    "                                        \"Trading_date_Sequential_Time\":min_1_Trading_date_Sequential_Time})\n",
    "\n",
    "min_1_df.head()"
   ]
  },
  {
   "cell_type": "code",
   "execution_count": 64,
   "metadata": {},
   "outputs": [
    {
     "data": {
      "text/plain": [
       "<matplotlib.axes._subplots.AxesSubplot at 0x2a2cad37710>"
      ]
     },
     "execution_count": 64,
     "metadata": {},
     "output_type": "execute_result"
    },
    {
     "data": {
      "image/png": "[encoded data removed]",
      "text/plain": [
       "<Figure size 432x288 with 1 Axes>"
      ]
     },
     "metadata": {},
     "output_type": "display_data"
    }
   ],
   "source": [
    "import seaborn as sns\n",
    "sns.set(style=\"whitegrid\", palette=\"pastel\", color_codes=True)\n",
    "\n",
    "# Load the example tips dataset\n",
    "tips = sns.load_dataset(\"tips\")\n",
    "flow = sns.load_dataset('iris')\n",
    "sns.distplot(flow['petal_length'], bins=10, kde = False)\n",
    "# plt.show()\n",
    "# # Draw a nested violinplot and split the violins for easier comparison\n",
    "# sns.violinplot(x=\"day\", y=\"total_bill\",\n",
    "#                split=True, inner=\"quartile\",\n",
    "#                data=tips)\n",
    "# sns.despine(left=True)"
   ]
  }
 ],
 "metadata": {
  "kernelspec": {
   "display_name": "Python 3",
   "language": "python",
   "name": "python3"
  },
  "language_info": {
   "codemirror_mode": {
    "name": "ipython",
    "version": 3
   },
   "file_extension": ".py",
   "mimetype": "text/x-python",
   "name": "python",
   "nbconvert_exporter": "python",
   "pygments_lexer": "ipython3",
   "version": "3.7.1"
  }
 },
 "nbformat": 4,
 "nbformat_minor": 2
}
