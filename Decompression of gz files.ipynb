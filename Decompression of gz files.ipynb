{
 "cells": [
  {
   "cell_type": "code",
   "execution_count": 3,
   "metadata": {},
   "outputs": [
    {
     "name": "stdout",
     "output_type": "stream",
     "text": [
      "patool: Extracting C:\\Raw_Data\\Raw_1_sec_Bar_Data\\US_Stocks\\INTU\\INTU_Bars_20180919.txt.gz ...\n",
      "patool: ... C:\\Raw_Data\\Raw_1_sec_Bar_Data\\US_Stocks\\INTU\\INTU_Bars_20180919.txt.gz extracted to `C:\\Raw_Data\\Raw_1_sec_Bar_Data\\US_Stocks\\INTU\\\\'.\n"
     ]
    },
    {
     "data": {
      "text/plain": [
       "'C:\\\\Raw_Data\\\\Raw_1_sec_Bar_Data\\\\US_Stocks\\\\INTU\\\\\\\\'"
      ]
     },
     "execution_count": 3,
     "metadata": {},
     "output_type": "execute_result"
    }
   ],
   "source": [
    "### Needs patool installed (pip isntall patool)\n",
    "\n",
    "import patoolib\n",
    "\n",
    "patoolib.extract_archive(r\"C:\\Raw_Data\\Raw_1_sec_Bar_Data\\US_Stocks\\INTU\\INTU_Bars_20180919.txt.gz\", \n",
    "                          outdir=r\"C:\\Raw_Data\\Raw_1_sec_Bar_Data\\US_Stocks\\INTU\\\\\")\n",
    "# patoolib.extract_archive(r\"C:\\Raw_Data\\Raw_1_sec_Bar_Data\\US_Stocks\\GOOG\\GOOG_Bars_20180913.txt.gz\", \n",
    "#                           outdir=r\"C:\\Raw_Data\\Raw_1_sec_Bar_Data\\US_Stocks\\GOOG\\\\\")\n",
    "# patoolib.extract_archive(r\"C:\\Raw_Data\\Raw_1_sec_Bar_Data\\US_Stocks\\GOOG\\GOOG_Bars_20180914.txt.gz\", \n",
    "#                           outdir=r\"C:\\Raw_Data\\Raw_1_sec_Bar_Data\\US_Stocks\\GOOG\\\\\")"
   ]
  }
 ],
 "metadata": {
  "kernelspec": {
   "display_name": "Python 3",
   "language": "python",
   "name": "python3"
  },
  "language_info": {
   "codemirror_mode": {
    "name": "ipython",
    "version": 3
   },
   "file_extension": ".py",
   "mimetype": "text/x-python",
   "name": "python",
   "nbconvert_exporter": "python",
   "pygments_lexer": "ipython3",
   "version": "3.7.0"
  }
 },
 "nbformat": 4,
 "nbformat_minor": 2
}
