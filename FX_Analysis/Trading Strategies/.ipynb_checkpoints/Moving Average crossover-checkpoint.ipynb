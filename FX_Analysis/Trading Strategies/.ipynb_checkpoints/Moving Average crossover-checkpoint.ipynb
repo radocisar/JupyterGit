{
 "cells": [
  {
   "cell_type": "markdown",
   "metadata": {},
   "source": [
    "### Calculate factors:"
   ]
  },
  {
   "cell_type": "code",
   "execution_count": null,
   "metadata": {},
   "outputs": [],
   "source": [
    "min_1_analyzed_df[\"SMA10\"] = min_1_analyzed_df[\"Close\"].rolling(45).mean()\n",
    "min_1_analyzed_df[\"SMA20\"] = min_1_analyzed_df[\"Close\"].rolling(105).mean()\n",
    "min_1_analyzed_df[\"Close_vs_SMA20\"] = min_1_analyzed_df[\"SMA20\"] - min_1_analyzed_df[\"Close\"]\n",
    "min_1_analyzed_df[\"SMA10_vs_SMA20\"] = min_1_analyzed_df[\"SMA10\"] - min_1_analyzed_df[\"SMA20\"]\n",
    "min_1_analyzed_df[\"SMA10_vs_SMA20_Shifted\"] = min_1_analyzed_df[\"SMA10_vs_SMA20\"].shift(1)\n",
    "min_1_analyzed_df.head()"
   ]
  },
  {
   "cell_type": "markdown",
   "metadata": {},
   "source": [
    "## Calculating Factor's Values"
   ]
  },
  {
   "cell_type": "code",
   "execution_count": null,
   "metadata": {},
   "outputs": [],
   "source": [
    "class po:    \n",
    "    \n",
    "    is_position_open = False\n",
    "\n",
    "    @classmethod\n",
    "    def position_opened(cls, opened):\n",
    "        if opened == True:\n",
    "            cls.is_position_open = True\n",
    "        else:\n",
    "            cls.is_position_open = False\n",
    "\n",
    "def enter_factor(row):\n",
    "    if (row.SMA10_vs_SMA20 < 0) & (row.Close_vs_SMA20 > 0) & (row.SMA10_vs_SMA20_Shifted >= 0) & (po.is_position_open == False):\n",
    "        entry = True\n",
    "    else:\n",
    "        entry = False\n",
    "    return entry\n",
    "\n",
    "def take_profit(row):\n",
    "    if (row.Close_vs_SMA20 < 0) & (po.is_position_open == True):\n",
    "        take_prft = True\n",
    "    else:\n",
    "        take_prft = False\n",
    "    return take_prft\n",
    "\n",
    "# def stop_loss(row):\n",
    "#     if (row.Close_vs_SMA20 < 0) & (po.is_position_open == True):\n",
    "#         stop_lss = True\n",
    "#     else:\n",
    "#         stop_lss = False\n",
    "#     return stop_lss\n",
    "\n",
    "def action_func(row):\n",
    "\n",
    "    #rtn = str(po.is_position_open)\n",
    "    \n",
    "    # Enter position\n",
    "    if enter_factor(row):\n",
    "        po.position_opened(opened=True)\n",
    "        #rtn = rtn + \"_\" + str(po.is_position_open)\n",
    "        return \"Entered\" #+ \"_\" + rtn\n",
    "        #print(\"3\")\n",
    "        \n",
    "    # Check if exit criteria has been met\n",
    "    elif take_profit(row):\n",
    "        po.position_opened(opened=False)\n",
    "        #rtn = rtn + \"_\" + str(po.is_position_open)\n",
    "        return \"Took Profit\" #+ \"_\" + rtn\n",
    "    \n",
    "    # Check if exit criteria has been met\n",
    "#     elif stop_loss(row):\n",
    "#         po.position_opened(opened=False)\n",
    "#         return \"Stopped Out\"\n",
    "        \n",
    "    else:\n",
    "        #rtn = \"else\" \n",
    "        return \"Waiting\" #+ \"_\" + rtn \n",
    "\n",
    "min_1_analyzed_df[\"Action\"] = min_1_analyzed_df.apply(action_func, axis=1)\n",
    "\n",
    "min_1_analyzed_df.head(50)"
   ]
  },
  {
   "cell_type": "markdown",
   "metadata": {},
   "source": [
    "## Plotting Prices and Factor's values"
   ]
  },
  {
   "cell_type": "code",
   "execution_count": null,
   "metadata": {},
   "outputs": [],
   "source": [
    "#%matplotlib inline\n",
    "\n",
    "fig = plt.figure(figsize=(15,15))\n",
    "ax1 = plt.subplot(3,1,1)\n",
    "min_1_analyzed_df[\"Close\"].head(100).plot(ax=ax1)\n",
    "ax2 = plt.subplot(3,1,1)\n",
    "min_1_analyzed_df[\"SMA10\"].head(100).plot(ax=ax1, color=\"r\")\n",
    "ax3 = plt.subplot(3,1,1)\n",
    "min_1_analyzed_df[\"SMA20\"].head(100).plot(ax=ax1, color=\"y\")\n",
    "plt.show()"
   ]
  }
 ],
 "metadata": {
  "kernelspec": {
   "display_name": "Python 3",
   "language": "python",
   "name": "python3"
  },
  "language_info": {
   "codemirror_mode": {
    "name": "ipython",
    "version": 3
   },
   "file_extension": ".py",
   "mimetype": "text/x-python",
   "name": "python",
   "nbconvert_exporter": "python",
   "pygments_lexer": "ipython3",
   "version": "3.7.1"
  }
 },
 "nbformat": 4,
 "nbformat_minor": 2
}
