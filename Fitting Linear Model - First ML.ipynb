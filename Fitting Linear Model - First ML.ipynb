{
 "cells": [
  {
   "cell_type": "code",
   "execution_count": 9,
   "metadata": {},
   "outputs": [
    {
     "data": {
      "text/plain": [
       "True"
      ]
     },
     "execution_count": 9,
     "metadata": {},
     "output_type": "execute_result"
    }
   ],
   "source": [
    "def user_in_experiment(user_id):\n",
    "    if user_id % 2 != 0:\n",
    "        return True\n",
    "    else:\n",
    "        return False\n",
    "\n",
    "user_in_experiment(5)\n",
    "# user_id_list = [1,2,3,4,5]\n",
    "# [user_in_experiment(l) for l in user_id_list]"
   ]
  },
  {
   "cell_type": "code",
   "execution_count": 24,
   "metadata": {},
   "outputs": [
    {
     "data": {
      "text/plain": [
       "['Rosa Mexicano', 'Dig Inn']"
      ]
     },
     "execution_count": 24,
     "metadata": {},
     "output_type": "execute_result"
    }
   ],
   "source": [
    "POPULAR_RESTAURANTS = [\"Laut\", \"Rosa Mexicano\", \"Ootoya\", \"Dig Inn\"]\n",
    "\n",
    "def get_popular_restaurants(list_of_rest):\n",
    "   pop_rest = [rest for rest in list_of_rest if rest in POPULAR_RESTAURANTS] \n",
    "   return pop_res\n",
    "\n",
    "list_of_rest = [\"res_1\", \"Rosa Mexicano\", \"res_2\", \"Dig Inn\", \"res_3\"]\n",
    "\n",
    "get_popular_restaurants(list_of_rest)\n"
   ]
  },
  {
   "cell_type": "code",
   "execution_count": 32,
   "metadata": {},
   "outputs": [
    {
     "data": {
      "text/plain": [
       "['Laut', 'Ootoya', 'Burger & Lobster', 'Chipotle']"
      ]
     },
     "execution_count": 32,
     "metadata": {},
     "output_type": "execute_result"
    }
   ],
   "source": [
    "restaurants = [\n",
    "    {\n",
    "\"name\": \"Ootoya\",\n",
    "        \"rating\":8.0\n",
    "    },\n",
    "    {\n",
    "\"name\": \"Chipotle\",\n",
    "        \"rating\":6.6\n",
    "    },\n",
    "    {\n",
    "\"name\": \"Burger & Lobster\",\n",
    "        \"rating\": 7.2\n",
    "    },\n",
    "    {\n",
    "\"name\": \"Laut\",\n",
    "        \"rating\": 8.1\n",
    "    }\n",
    "]\n",
    "\n",
    "list_of_sorted_rest = [n[\"name\"] for n in sorted(restaurants,key=lambda x: x[\"rating\"],reverse=True)]\n",
    "list_of_sorted_rest"
   ]
  },
  {
   "cell_type": "code",
   "execution_count": 41,
   "metadata": {},
   "outputs": [
    {
     "data": {
      "text/plain": [
       "array([-9.44232006e-09])"
      ]
     },
     "execution_count": 41,
     "metadata": {},
     "output_type": "execute_result"
    }
   ],
   "source": [
    "from scipy.optimize import minimize\n",
    "\n",
    "orig_func = lambda x: x**2-49\n",
    "\n",
    "func = minimize(orig_func,[1,])\n",
    "\n",
    "func.x"
   ]
  },
  {
   "cell_type": "code",
   "execution_count": 60,
   "metadata": {},
   "outputs": [
    {
     "data": {
      "text/plain": [
       "array([-9.44232006e-09])"
      ]
     },
     "execution_count": 60,
     "metadata": {},
     "output_type": "execute_result"
    }
   ],
   "source": [
    "from scipy.optimize import minimize\n",
    "\n",
    "orig_func = lambda x: x**2-49\n",
    "\n",
    "min_func = minimize(orig_func,[1,])\n",
    "min_func[\"x\"]"
   ]
  },
  {
   "cell_type": "code",
   "execution_count": 59,
   "metadata": {},
   "outputs": [
    {
     "data": {
      "text/plain": [
       "array([2.49999993])"
      ]
     },
     "execution_count": 59,
     "metadata": {},
     "output_type": "execute_result"
    }
   ],
   "source": [
    "orig_func = lambda x: -(-x**2+5*x+7)\n",
    "max_func = minimize(orig_func,[1,])\n",
    "max_func[\"x\"]"
   ]
  },
  {
   "cell_type": "code",
   "execution_count": 21,
   "metadata": {},
   "outputs": [],
   "source": [
    "import tensorflow as tf\n",
    "\n",
    "a = tf.constant(5, name=\"input_a\")\n",
    "b = tf.constant(3, name=\"input_b\")\n",
    "c = tf.multiply(a,b, name=\"multiply_c\")\n",
    "d = tf.add(a,b, name=\"add_d\")\n",
    "e = tf.add(c,d, name=\"add_e\")\n",
    "sess = tf.Session()\n",
    "output = sess.run(e)\n",
    "writer=tf.summary.FileWriter('./my_graph_2',sess.graph)\n",
    "writer.close()\n",
    "sess.close()"
   ]
  },
  {
   "cell_type": "code",
   "execution_count": 38,
   "metadata": {},
   "outputs": [],
   "source": [
    "tf.reset_default_graph()"
   ]
  },
  {
   "cell_type": "code",
   "execution_count": 49,
   "metadata": {},
   "outputs": [],
   "source": [
    "W=tf.Variable([0.3],tf.float32)\n",
    "b=tf.Variable([-0.3],tf.float32)\n",
    "x=tf.placeholder(tf.float32)\n",
    "linear_model = W*x+b\n",
    "sess=tf.Session()\n",
    "init=tf.global_variables_initializer()\n",
    "sess.run(init)"
   ]
  },
  {
   "cell_type": "code",
   "execution_count": 52,
   "metadata": {},
   "outputs": [
    {
     "name": "stdout",
     "output_type": "stream",
     "text": [
      "[0.         0.3        0.6        0.90000004]\n"
     ]
    }
   ],
   "source": [
    "print(sess.run(linear_model, {x:[1,2,3,4]}))"
   ]
  },
  {
   "cell_type": "code",
   "execution_count": 148,
   "metadata": {},
   "outputs": [
    {
     "name": "stdout",
     "output_type": "stream",
     "text": [
      "57.989998\n",
      "\n",
      "57.989998\n",
      "[array([0.3], dtype=float32), array([-0.3], dtype=float32)]\n",
      "\n",
      "100 0.21272391 [array([-0.7133569], dtype=float32), array([0.5298736], dtype=float32)]\n",
      "400 0.17441937 [array([-0.7556314], dtype=float32), array([0.7201088], dtype=float32)]\n",
      "700 0.17441863 [array([-0.7558131], dtype=float32), array([0.7209266], dtype=float32)]\n",
      "1000 0.1744186 [array([-0.7558136], dtype=float32), array([0.7209286], dtype=float32)]\n",
      "1300 0.1744186 [array([-0.7558136], dtype=float32), array([0.7209286], dtype=float32)]\n",
      "1600 0.1744186 [array([-0.7558136], dtype=float32), array([0.7209286], dtype=float32)]\n",
      "1900 0.1744186 [array([-0.7558136], dtype=float32), array([0.7209286], dtype=float32)]\n",
      "2200 0.1744186 [array([-0.7558136], dtype=float32), array([0.7209286], dtype=float32)]\n",
      "2500 0.1744186 [array([-0.7558136], dtype=float32), array([0.7209286], dtype=float32)]\n",
      "2800 0.1744186 [array([-0.7558136], dtype=float32), array([0.7209286], dtype=float32)]\n",
      "3100 0.1744186 [array([-0.7558136], dtype=float32), array([0.7209286], dtype=float32)]\n",
      "3400 0.1744186 [array([-0.7558136], dtype=float32), array([0.7209286], dtype=float32)]\n",
      "3700 0.1744186 [array([-0.7558136], dtype=float32), array([0.7209286], dtype=float32)]\n",
      "4000 0.1744186 [array([-0.7558136], dtype=float32), array([0.7209286], dtype=float32)]\n",
      "4300 0.1744186 [array([-0.7558136], dtype=float32), array([0.7209286], dtype=float32)]\n",
      "4600 0.1744186 [array([-0.7558136], dtype=float32), array([0.7209286], dtype=float32)]\n",
      "4900 0.1744186 [array([-0.7558136], dtype=float32), array([0.7209286], dtype=float32)]\n",
      "5200 0.1744186 [array([-0.7558136], dtype=float32), array([0.7209286], dtype=float32)]\n",
      "5500 0.1744186 [array([-0.7558136], dtype=float32), array([0.7209286], dtype=float32)]\n",
      "5800 0.1744186 [array([-0.7558136], dtype=float32), array([0.7209286], dtype=float32)]\n",
      "6100 0.1744186 [array([-0.7558136], dtype=float32), array([0.7209286], dtype=float32)]\n",
      "6400 0.1744186 [array([-0.7558136], dtype=float32), array([0.7209286], dtype=float32)]\n",
      "6700 0.1744186 [array([-0.7558136], dtype=float32), array([0.7209286], dtype=float32)]\n",
      "7000 0.1744186 [array([-0.7558136], dtype=float32), array([0.7209286], dtype=float32)]\n",
      "7300 0.1744186 [array([-0.7558136], dtype=float32), array([0.7209286], dtype=float32)]\n",
      "7600 0.1744186 [array([-0.7558136], dtype=float32), array([0.7209286], dtype=float32)]\n",
      "7900 0.1744186 [array([-0.7558136], dtype=float32), array([0.7209286], dtype=float32)]\n",
      "8200 0.1744186 [array([-0.7558136], dtype=float32), array([0.7209286], dtype=float32)]\n",
      "8500 0.1744186 [array([-0.7558136], dtype=float32), array([0.7209286], dtype=float32)]\n",
      "8800 0.1744186 [array([-0.7558136], dtype=float32), array([0.7209286], dtype=float32)]\n",
      "9100 0.1744186 [array([-0.7558136], dtype=float32), array([0.7209286], dtype=float32)]\n",
      "9400 0.1744186 [array([-0.7558136], dtype=float32), array([0.7209286], dtype=float32)]\n",
      "9700 0.1744186 [array([-0.7558136], dtype=float32), array([0.7209286], dtype=float32)]\n",
      "\n",
      "\n",
      "[array([-0.7558136], dtype=float32), array([0.7209286], dtype=float32)]\n"
     ]
    }
   ],
   "source": [
    "W=tf.Variable([0.3],tf.float32)\n",
    "b=tf.Variable([-0.3],tf.float32)\n",
    "x=tf.placeholder(tf.float32)\n",
    "linear_model = W*x+b\n",
    "sess=tf.Session()\n",
    "init=tf.global_variables_initializer()\n",
    "sess.run(init)\n",
    "\n",
    "y=tf.placeholder(tf.float32)\n",
    "squared_deltas=tf.square(linear_model-y)\n",
    "cost=tf.reduce_sum(squared_deltas)\n",
    "print(sess.run(cost,{x:[1,2,4,5],y:[0,-1,-2,-3]}),end=\"\\n\\n\")\n",
    "\n",
    "optimizer = tf.train.GradientDescentOptimizer(0.009)\n",
    "train = optimizer.minimize(cost)\n",
    "\n",
    "a = 100\n",
    "print(sess.run(cost,{x:[1,2,4,5],y:[0,-1,-2,-3]}))\n",
    "print(sess.run([W,b]),end=\"\\n\\n\")\n",
    "for i in range(10000):\n",
    "    sess.run(train, {x:[1,2,4,5],y:[0,-1,-2,-3]})\n",
    "    if i==a:\n",
    "        print(a,sess.run(cost,{x:[1,2,4,5],y:[0,-1,-2,-3]}),end=\" \")\n",
    "        a += 300\n",
    "        print(sess.run([W,b]))\n",
    "print(end=\"\\n\\n\")\n",
    "print(sess.run([W,b]))\n",
    "sess.close()"
   ]
  }
 ],
 "metadata": {
  "kernelspec": {
   "display_name": "Python 3",
   "language": "python",
   "name": "python3"
  },
  "language_info": {
   "codemirror_mode": {
    "name": "ipython",
    "version": 3
   },
   "file_extension": ".py",
   "mimetype": "text/x-python",
   "name": "python",
   "nbconvert_exporter": "python",
   "pygments_lexer": "ipython3",
   "version": "3.7.1"
  }
 },
 "nbformat": 4,
 "nbformat_minor": 2
}
