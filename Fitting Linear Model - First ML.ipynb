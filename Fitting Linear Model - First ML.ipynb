{
 "cells": [
  {
   "cell_type": "code",
   "execution_count": 21,
   "metadata": {},
   "outputs": [],
   "source": [
    "import tensorflow as tf\n",
    "\n",
    "a = tf.constant(5, name=\"input_a\")\n",
    "b = tf.constant(3, name=\"input_b\")\n",
    "c = tf.multiply(a,b, name=\"multiply_c\")\n",
    "d = tf.add(a,b, name=\"add_d\")\n",
    "e = tf.add(c,d, name=\"add_e\")\n",
    "sess = tf.Session()\n",
    "output = sess.run(e)\n",
    "writer=tf.summary.FileWriter('./my_graph_2',sess.graph)\n",
    "writer.close()\n",
    "sess.close()"
   ]
  },
  {
   "cell_type": "code",
   "execution_count": 38,
   "metadata": {},
   "outputs": [],
   "source": [
    "tf.reset_default_graph()"
   ]
  },
  {
   "cell_type": "code",
   "execution_count": 49,
   "metadata": {},
   "outputs": [],
   "source": [
    "W=tf.Variable([0.3],tf.float32)\n",
    "b=tf.Variable([-0.3],tf.float32)\n",
    "x=tf.placeholder(tf.float32)\n",
    "linear_model = W*x+b\n",
    "sess=tf.Session()\n",
    "init=tf.global_variables_initializer()\n",
    "sess.run(init)"
   ]
  },
  {
   "cell_type": "code",
   "execution_count": 52,
   "metadata": {},
   "outputs": [
    {
     "name": "stdout",
     "output_type": "stream",
     "text": [
      "[0.         0.3        0.6        0.90000004]\n"
     ]
    }
   ],
   "source": [
    "print(sess.run(linear_model, {x:[1,2,3,4]}))"
   ]
  },
  {
   "cell_type": "code",
   "execution_count": 148,
   "metadata": {},
   "outputs": [
    {
     "name": "stdout",
     "output_type": "stream",
     "text": [
      "57.989998\n",
      "\n",
      "57.989998\n",
      "[array([0.3], dtype=float32), array([-0.3], dtype=float32)]\n",
      "\n",
      "100 0.21272391 [array([-0.7133569], dtype=float32), array([0.5298736], dtype=float32)]\n",
      "400 0.17441937 [array([-0.7556314], dtype=float32), array([0.7201088], dtype=float32)]\n",
      "700 0.17441863 [array([-0.7558131], dtype=float32), array([0.7209266], dtype=float32)]\n",
      "1000 0.1744186 [array([-0.7558136], dtype=float32), array([0.7209286], dtype=float32)]\n",
      "1300 0.1744186 [array([-0.7558136], dtype=float32), array([0.7209286], dtype=float32)]\n",
      "1600 0.1744186 [array([-0.7558136], dtype=float32), array([0.7209286], dtype=float32)]\n",
      "1900 0.1744186 [array([-0.7558136], dtype=float32), array([0.7209286], dtype=float32)]\n",
      "2200 0.1744186 [array([-0.7558136], dtype=float32), array([0.7209286], dtype=float32)]\n",
      "2500 0.1744186 [array([-0.7558136], dtype=float32), array([0.7209286], dtype=float32)]\n",
      "2800 0.1744186 [array([-0.7558136], dtype=float32), array([0.7209286], dtype=float32)]\n",
      "3100 0.1744186 [array([-0.7558136], dtype=float32), array([0.7209286], dtype=float32)]\n",
      "3400 0.1744186 [array([-0.7558136], dtype=float32), array([0.7209286], dtype=float32)]\n",
      "3700 0.1744186 [array([-0.7558136], dtype=float32), array([0.7209286], dtype=float32)]\n",
      "4000 0.1744186 [array([-0.7558136], dtype=float32), array([0.7209286], dtype=float32)]\n",
      "4300 0.1744186 [array([-0.7558136], dtype=float32), array([0.7209286], dtype=float32)]\n",
      "4600 0.1744186 [array([-0.7558136], dtype=float32), array([0.7209286], dtype=float32)]\n",
      "4900 0.1744186 [array([-0.7558136], dtype=float32), array([0.7209286], dtype=float32)]\n",
      "5200 0.1744186 [array([-0.7558136], dtype=float32), array([0.7209286], dtype=float32)]\n",
      "5500 0.1744186 [array([-0.7558136], dtype=float32), array([0.7209286], dtype=float32)]\n",
      "5800 0.1744186 [array([-0.7558136], dtype=float32), array([0.7209286], dtype=float32)]\n",
      "6100 0.1744186 [array([-0.7558136], dtype=float32), array([0.7209286], dtype=float32)]\n",
      "6400 0.1744186 [array([-0.7558136], dtype=float32), array([0.7209286], dtype=float32)]\n",
      "6700 0.1744186 [array([-0.7558136], dtype=float32), array([0.7209286], dtype=float32)]\n",
      "7000 0.1744186 [array([-0.7558136], dtype=float32), array([0.7209286], dtype=float32)]\n",
      "7300 0.1744186 [array([-0.7558136], dtype=float32), array([0.7209286], dtype=float32)]\n",
      "7600 0.1744186 [array([-0.7558136], dtype=float32), array([0.7209286], dtype=float32)]\n",
      "7900 0.1744186 [array([-0.7558136], dtype=float32), array([0.7209286], dtype=float32)]\n",
      "8200 0.1744186 [array([-0.7558136], dtype=float32), array([0.7209286], dtype=float32)]\n",
      "8500 0.1744186 [array([-0.7558136], dtype=float32), array([0.7209286], dtype=float32)]\n",
      "8800 0.1744186 [array([-0.7558136], dtype=float32), array([0.7209286], dtype=float32)]\n",
      "9100 0.1744186 [array([-0.7558136], dtype=float32), array([0.7209286], dtype=float32)]\n",
      "9400 0.1744186 [array([-0.7558136], dtype=float32), array([0.7209286], dtype=float32)]\n",
      "9700 0.1744186 [array([-0.7558136], dtype=float32), array([0.7209286], dtype=float32)]\n",
      "\n",
      "\n",
      "[array([-0.7558136], dtype=float32), array([0.7209286], dtype=float32)]\n"
     ]
    }
   ],
   "source": [
    "W=tf.Variable([0.3],tf.float32)\n",
    "b=tf.Variable([-0.3],tf.float32)\n",
    "x=tf.placeholder(tf.float32)\n",
    "linear_model = W*x+b\n",
    "sess=tf.Session()\n",
    "init=tf.global_variables_initializer()\n",
    "sess.run(init)\n",
    "\n",
    "y=tf.placeholder(tf.float32)\n",
    "squared_deltas=tf.square(linear_model-y)\n",
    "cost=tf.reduce_sum(squared_deltas)\n",
    "print(sess.run(cost,{x:[1,2,4,5],y:[0,-1,-2,-3]}),end=\"\\n\\n\")\n",
    "\n",
    "optimizer = tf.train.GradientDescentOptimizer(0.009)\n",
    "train = optimizer.minimize(cost)\n",
    "\n",
    "a = 100\n",
    "print(sess.run(cost,{x:[1,2,4,5],y:[0,-1,-2,-3]}))\n",
    "print(sess.run([W,b]),end=\"\\n\\n\")\n",
    "for i in range(10000):\n",
    "    sess.run(train, {x:[1,2,4,5],y:[0,-1,-2,-3]})\n",
    "    if i==a:\n",
    "        print(a,sess.run(cost,{x:[1,2,4,5],y:[0,-1,-2,-3]}),end=\" \")\n",
    "        a += 300\n",
    "        print(sess.run([W,b]))\n",
    "print(end=\"\\n\\n\")\n",
    "print(sess.run([W,b]))\n",
    "sess.close()"
   ]
  }
 ],
 "metadata": {
  "kernelspec": {
   "display_name": "Python 3",
   "language": "python",
   "name": "python3"
  },
  "language_info": {
   "codemirror_mode": {
    "name": "ipython",
    "version": 3
   },
   "file_extension": ".py",
   "mimetype": "text/x-python",
   "name": "python",
   "nbconvert_exporter": "python",
   "pygments_lexer": "ipython3",
   "version": "3.6.4"
  }
 },
 "nbformat": 4,
 "nbformat_minor": 2
}
