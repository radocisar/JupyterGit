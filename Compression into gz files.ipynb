{
 "cells": [
  {
   "cell_type": "code",
   "execution_count": 21,
   "metadata": {},
   "outputs": [
    {
     "name": "stdout",
     "output_type": "stream",
     "text": [
      "patool: Extracting C:\\Raw_Data\\Raw_1_sec_Bar_Data\\US_Stocks\\GOOGL\\GOOGL_Bars_20180904.txt.gz ...\n",
      "patool: ... C:\\Raw_Data\\Raw_1_sec_Bar_Data\\US_Stocks\\GOOGL\\GOOGL_Bars_20180904.txt.gz extracted to `C:\\Raw_Data\\Raw_1_sec_Bar_Data\\US_Stocks\\GOOGL\\\\'.\n",
      "patool: Extracting C:\\Raw_Data\\Raw_1_sec_Bar_Data\\US_Stocks\\GOOGL\\GOOGL_Bars_20180905.txt.gz ...\n",
      "patool: ... C:\\Raw_Data\\Raw_1_sec_Bar_Data\\US_Stocks\\GOOGL\\GOOGL_Bars_20180905.txt.gz extracted to `C:\\Raw_Data\\Raw_1_sec_Bar_Data\\US_Stocks\\GOOGL\\\\'.\n",
      "patool: Extracting C:\\Raw_Data\\Raw_1_sec_Bar_Data\\US_Stocks\\GOOGL\\GOOGL_Bars_20180906.txt.gz ...\n",
      "patool: ... C:\\Raw_Data\\Raw_1_sec_Bar_Data\\US_Stocks\\GOOGL\\GOOGL_Bars_20180906.txt.gz extracted to `C:\\Raw_Data\\Raw_1_sec_Bar_Data\\US_Stocks\\GOOGL\\\\'.\n",
      "patool: Extracting C:\\Raw_Data\\Raw_1_sec_Bar_Data\\US_Stocks\\GOOGL\\GOOGL_Bars_20180907.txt.gz ...\n",
      "patool: ... C:\\Raw_Data\\Raw_1_sec_Bar_Data\\US_Stocks\\GOOGL\\GOOGL_Bars_20180907.txt.gz extracted to `C:\\Raw_Data\\Raw_1_sec_Bar_Data\\US_Stocks\\GOOGL\\\\'.\n",
      "patool: Extracting C:\\Raw_Data\\Raw_1_sec_Bar_Data\\US_Stocks\\GOOGL\\GOOGL_Bars_20180910.txt.gz ...\n",
      "patool: ... C:\\Raw_Data\\Raw_1_sec_Bar_Data\\US_Stocks\\GOOGL\\GOOGL_Bars_20180910.txt.gz extracted to `C:\\Raw_Data\\Raw_1_sec_Bar_Data\\US_Stocks\\GOOGL\\\\'.\n",
      "patool: Extracting C:\\Raw_Data\\Raw_1_sec_Bar_Data\\US_Stocks\\GOOGL\\GOOGL_Bars_20180911.txt.gz ...\n",
      "patool: ... C:\\Raw_Data\\Raw_1_sec_Bar_Data\\US_Stocks\\GOOGL\\GOOGL_Bars_20180911.txt.gz extracted to `C:\\Raw_Data\\Raw_1_sec_Bar_Data\\US_Stocks\\GOOGL\\\\'.\n",
      "patool: Extracting C:\\Raw_Data\\Raw_1_sec_Bar_Data\\US_Stocks\\GOOGL\\GOOGL_Bars_20180912.txt.gz ...\n",
      "patool: ... C:\\Raw_Data\\Raw_1_sec_Bar_Data\\US_Stocks\\GOOGL\\GOOGL_Bars_20180912.txt.gz extracted to `C:\\Raw_Data\\Raw_1_sec_Bar_Data\\US_Stocks\\GOOGL\\\\'.\n",
      "patool: Extracting C:\\Raw_Data\\Raw_1_sec_Bar_Data\\US_Stocks\\GOOGL\\GOOGL_Bars_20180913.txt.gz ...\n",
      "patool: ... C:\\Raw_Data\\Raw_1_sec_Bar_Data\\US_Stocks\\GOOGL\\GOOGL_Bars_20180913.txt.gz extracted to `C:\\Raw_Data\\Raw_1_sec_Bar_Data\\US_Stocks\\GOOGL\\\\'.\n",
      "patool: Extracting C:\\Raw_Data\\Raw_1_sec_Bar_Data\\US_Stocks\\GOOGL\\GOOGL_Bars_20180914.txt.gz ...\n",
      "patool: ... C:\\Raw_Data\\Raw_1_sec_Bar_Data\\US_Stocks\\GOOGL\\GOOGL_Bars_20180914.txt.gz extracted to `C:\\Raw_Data\\Raw_1_sec_Bar_Data\\US_Stocks\\GOOGL\\\\'.\n"
     ]
    }
   ],
   "source": [
    "# f = open(r\"C:\\Raw_Data\\Raw_1_sec_Bar_Data\\US_Stocks\\MSFT\\test.txt\",\"r\")\n",
    "# print(f.readline())\n",
    "\n",
    "\n",
    "# from zipfile import ZipFile\n",
    "#import lzma\n",
    "# import pylzma\n",
    "#import zlib\n",
    "import gzip\n",
    "import shutil\n",
    "import patoolib\n",
    "import os\n",
    "import time\n",
    "\n",
    "# gzip.GzipFile(filename=r\"C:\\Raw_Data\\Raw_1_sec_Bar_Data\\US_Stocks\\MSFT\\MSFT_Bars_20180912.txt\",mode=)\n",
    "\n",
    "folder = r\"C:\\Raw_Data\\Raw_1_sec_Bar_Data\\US_Stocks\\GOOGL\"\n",
    "#print(folder)\n",
    "for files in os.listdir(r\"C:\\Raw_Data\\Raw_1_sec_Bar_Data\\US_Stocks\\GOOGL\\\\\"):\n",
    "    #print(files)\n",
    "    file_in = open(r\"C:\\Raw_Data\\Raw_1_sec_Bar_Data\\US_Stocks\\GOOGL\\{}\".format(files),\"rb\")\n",
    "    file_out = gzip.open(r\"C:\\Raw_Data\\Raw_1_sec_Bar_Data\\US_Stocks\\GOOGL\\{}.gz\".format(files),\"wb\")\n",
    "    shutil.copyfileobj(file_in,file_out)\n",
    "    file_in.close()\n",
    "    file_out.close()\n",
    "    os.remove(r\"C:\\Raw_Data\\Raw_1_sec_Bar_Data\\US_Stocks\\GOOGL\\{}\".format(files))\n",
    "\n",
    "for files in os.listdir(r\"C:\\Raw_Data\\Raw_1_sec_Bar_Data\\US_Stocks\\GOOGL\\\\\"):\n",
    "    #print(files)\n",
    "    patoolib.extract_archive(r\"C:\\Raw_Data\\Raw_1_sec_Bar_Data\\US_Stocks\\GOOGL\\{}\".format(files), \n",
    "                             outdir=r\"C:\\Raw_Data\\Raw_1_sec_Bar_Data\\US_Stocks\\GOOGL\\\\\")\n",
    "    os.remove(r\"C:\\Raw_Data\\Raw_1_sec_Bar_Data\\US_Stocks\\GOOGL\\{}\".format(files))\n",
    "\n",
    "\n",
    "# file_in1 = gzip.open(r\"C:\\Raw_Data\\Raw_1_sec_Bar_Data\\US_Stocks\\MSFT\\MSFT_Bars_20180912.txt.gz\",\"rb\")\n",
    "# file_out1 = open(r\"C:\\Raw_Data\\Raw_1_sec_Bar_Data\\US_Stocks\\MSFT\\MSFT_Bars_20180913.txt\",\"wb\")\n",
    "# folder = r\"C:\\Raw_Data\\Raw_1_sec_Bar_Data\\US_Stocks\\MSFT\\M\\\\\"\n",
    "# file_in1.write\n",
    "# shutil.copytree(file_in1,folder)\n",
    "# f = file_in1.read()\n",
    "# file_in1.close()\n",
    "# print(f)\n",
    "#file_out.close()\n",
    "\n",
    "\n",
    "# # save = open(r\"C:\\Raw_Data\\Raw_1_sec_Bar_Data\\US_Stocks\\MSFT\\MSFT_Bars_20180914.zip\",\"w\")\n",
    "# # save.write(compressed)\n",
    "\n",
    "# # zpfile = ZipFile(r\"C:\\Raw_Data\\Raw_1_sec_Bar_Data\\US_Stocks\\MSFT\\MSFT.zip\",mode=\"w\")\n",
    "# # zpfile.write(r\"C:\\Raw_Data\\Raw_1_sec_Bar_Data\\US_Stocks\\MSFT\\MSFT_Bars_20180914.txt\", compression=\"ZIP_STORED\")\n",
    "# # ZipFile(r\"C:\\Raw_Data\\Raw_1_sec_Bar_Data\\US_Stocks\\MSFT\\MSFT_Bars_20180914.txt\",mode=\"w\", compression=\"ZIP_LZMA\",allowZip64=True)\n",
    "# # with ZipFile(r\"C:\\Raw_Data\\Raw_1_sec_Bar_Data\\US_Stocks\\MSFT\\test.zip\", 'w') as myzip:\n",
    "\n",
    "# #     myzip.write(r\"C:\\Raw_Data\\Raw_1_sec_Bar_Data\\US_Stocks\\MSFT\\MSFT_Bars_20180914.txt\")"
   ]
  }
 ],
 "metadata": {
  "kernelspec": {
   "display_name": "Python 3",
   "language": "python",
   "name": "python3"
  },
  "language_info": {
   "codemirror_mode": {
    "name": "ipython",
    "version": 3
   },
   "file_extension": ".py",
   "mimetype": "text/x-python",
   "name": "python",
   "nbconvert_exporter": "python",
   "pygments_lexer": "ipython3",
   "version": "3.7.1"
  }
 },
 "nbformat": 4,
 "nbformat_minor": 2
}
