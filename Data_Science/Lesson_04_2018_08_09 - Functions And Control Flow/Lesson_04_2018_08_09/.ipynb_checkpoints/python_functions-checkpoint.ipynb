{
 "cells": [
  {
   "cell_type": "markdown",
   "metadata": {},
   "source": [
    "<img src=\"http://imgur.com/1ZcRyrc.png\" style=\"float: left; margin: 20px; height: 55px\">\n",
    "\n",
    "## Practise Python Functions\n",
    "\n",
    "---"
   ]
  },
  {
   "cell_type": "markdown",
   "metadata": {},
   "source": [
    "### Resources: potentially helpful functions\n",
    "\n",
    "* [Dictionaries](https://docs.python.org/3/tutorial/datastructures.html#dictionaries)\n",
    "* [`enumerate`](https://docs.python.org/3/library/functions.html#enumerate)\n",
    "* [`len`](https://docs.python.org/3/library/functions.html#len)\n",
    "* [`int`](https://docs.python.org/3/library/functions.html#int)\n",
    "* [`list`](https://docs.python.org/3/library/functions.html#func-list)\n",
    "* [`reversed`](https://docs.python.org/3/library/functions.html#reversed)"
   ]
  },
  {
   "cell_type": "markdown",
   "metadata": {},
   "source": [
    "---\n",
    "\n",
    "### 1) Write a function that takes the length of a side of a square as an argument and returns the area of the square."
   ]
  },
  {
   "cell_type": "code",
   "execution_count": 2,
   "metadata": {
    "collapsed": true
   },
   "outputs": [],
   "source": [
    "# A:"
   ]
  },
  {
   "cell_type": "markdown",
   "metadata": {},
   "source": [
    "---\n",
    "\n",
    "### 2) Write a function that takes the height and width of a triangle and returns the area."
   ]
  },
  {
   "cell_type": "code",
   "execution_count": 3,
   "metadata": {
    "collapsed": true
   },
   "outputs": [],
   "source": [
    "# A:"
   ]
  },
  {
   "cell_type": "markdown",
   "metadata": {},
   "source": [
    "---\n",
    "\n",
    "### 3) Write a function that takes a string as an argument and returns a tuple consisting of two elements:\n",
    "- **A list of all of the characters in the string.** \n",
    "- **A count of the number of characters in the string.**"
   ]
  },
  {
   "cell_type": "code",
   "execution_count": 4,
   "metadata": {
    "collapsed": true
   },
   "outputs": [],
   "source": [
    "# A:"
   ]
  },
  {
   "cell_type": "markdown",
   "metadata": {},
   "source": [
    "---\n",
    "\n",
    "### 4) Write a function that takes two integers, passed as strings, and returns the sum, difference, and product as a tuple (with all values as integers)."
   ]
  },
  {
   "cell_type": "code",
   "execution_count": 2,
   "metadata": {},
   "outputs": [],
   "source": [
    "# A:\n",
    "def sum_diff_prod(a,b):\n",
    "    sum_=a+b\n",
    "    diff=abs(a-b)\n",
    "    prod=a*b\n",
    "    return sum_,diff,prod"
   ]
  },
  {
   "cell_type": "code",
   "execution_count": 4,
   "metadata": {},
   "outputs": [
    {
     "data": {
      "text/plain": [
       "(9, 1, 20)"
      ]
     },
     "execution_count": 4,
     "metadata": {},
     "output_type": "execute_result"
    }
   ],
   "source": [
    "sum_diff_prod(4,5)"
   ]
  },
  {
   "cell_type": "markdown",
   "metadata": {},
   "source": [
    "---\n",
    "\n",
    "### 5) Write a function that takes a list as the argument and returns a tuple consisting of two elements:\n",
    "- **A list with the items in reverse order.**  \n",
    "- **A list of the items in the original list that have an odd index.**"
   ]
  },
  {
   "cell_type": "code",
   "execution_count": 51,
   "metadata": {},
   "outputs": [],
   "source": [
    "# A:\n",
    "def list(a):\n",
    "    reverse_order=a[::-1]\n",
    "    odd_index=a[1::2]\n",
    "    return reverse_order, odd_index"
   ]
  },
  {
   "cell_type": "code",
   "execution_count": 52,
   "metadata": {},
   "outputs": [
    {
     "data": {
      "text/plain": [
       "([6, 5, 4, 3, 2, 1], [2, 4, 6])"
      ]
     },
     "execution_count": 52,
     "metadata": {},
     "output_type": "execute_result"
    }
   ],
   "source": [
    "list([1,2,3,4,5,6])"
   ]
  },
  {
   "cell_type": "code",
   "execution_count": null,
   "metadata": {},
   "outputs": [],
   "source": [
    "# ---\n",
    "\n",
    "### Challenge: Write a function that returns the score for a word. A word's score is the sum of the scores of its letters. Each letter's score is equal to its position in the alphabet.\n",
    "\n",
    "So, for example:\n",
    "\n",
    "* A = 1, B = 2, C = 3, D = 4, E = 5\n",
    "* abe = 8 = (1 + 2 + 5)\n",
    "\n",
    "\n",
    "***Hint 1:*** *The string library has a property, `ascii_lowercase`, that can save some typing here.*\n",
    "\n",
    "Nowadays, most of the `string` module's components are already built into Python. However, it still has several [constant values](https://docs.python.org/3/library/string.html#string-constants) that can be useful, including:\n",
    "```python\n",
    "string.ascii_uppercase\n",
    "```\n",
    "\n",
    "***Hint 2:*** *you may want to use a `list`'s [`index` method](https://www.tutorialspoint.com/python3/list_index.htm)*"
   ]
  },
  {
   "cell_type": "code",
   "execution_count": 2,
   "metadata": {},
   "outputs": [
    {
     "data": {
      "text/plain": [
       "'ABCDEFGHIJKLMNOPQRSTUVWXYZ'"
      ]
     },
     "execution_count": 2,
     "metadata": {},
     "output_type": "execute_result"
    }
   ],
   "source": [
    "import string\n",
    "\n",
    "string.ascii_uppercase"
   ]
  },
  {
   "cell_type": "code",
   "execution_count": 19,
   "metadata": {},
   "outputs": [
    {
     "name": "stdout",
     "output_type": "stream",
     "text": [
      "[1, 2, 3, 4, 5, 6, 7, 8, 9, 10, 11, 12, 13, 14, 15, 16, 17, 18, 19, 20, 21, 22, 23, 24, 25]\n",
      "['a', 'b', 'c', 'd', 'e', 'f', 'g', 'h', 'i', 'j', 'k', 'l', 'm', 'n', 'o', 'p', 'q', 'r', 's', 't', 'u', 'v', 'w', 'x', 'y', 'z']\n",
      "['a', 'n', 'a', 'c', 'o', 'n', 'd', 'a']\n",
      "a 2 a\n",
      "n 15 n\n",
      "a 2 a\n",
      "c 4 c\n",
      "o 16 o\n",
      "n 15 n\n",
      "d 5 d\n",
      "a 2 a\n"
     ]
    },
    {
     "data": {
      "text/plain": [
       "61"
      ]
     },
     "execution_count": 19,
     "metadata": {},
     "output_type": "execute_result"
    }
   ],
   "source": [
    "# A:\n",
    "def word_score(word):\n",
    "#creating a list with numbers for each aplhabet letter\n",
    "    alphabet=string.ascii_lowercase\n",
    "    count=[]\n",
    "    index1=1   \n",
    "    while (index1<len(alphabet)):\n",
    "        count.append(index1)        \n",
    "        index1+=1\n",
    "    print(count)\n",
    "    \n",
    "#iterating through each letter of a given word            \n",
    "    index=0\n",
    "    sum_=0\n",
    "    alphabet_list=list(alphabet)\n",
    "    word.lower()\n",
    "    word_list=list(word) \n",
    "    print(alphabet_list)\n",
    "    print(word_list)\n",
    "    while (index<len(word)):\n",
    "        for letter,number in zip(alphabet_list,count):\n",
    "            #print(letter,number)\n",
    "            if word_list[index] is letter:\n",
    "                print(word[index],count[number], letter)\n",
    "                #print(sum_)\n",
    "                sum_+=int(count[number])\n",
    "                #print(word[index])\n",
    "        index+=1   \n",
    "    return sum_\n",
    "        \n",
    "word_score(\"anaconda\")"
   ]
  },
  {
   "cell_type": "code",
   "execution_count": null,
   "metadata": {},
   "outputs": [],
   "source": []
  }
 ],
 "metadata": {
  "anaconda-cloud": {},
  "kernelspec": {
   "display_name": "Python 3",
   "language": "python",
   "name": "python3"
  },
  "language_info": {
   "codemirror_mode": {
    "name": "ipython",
    "version": 3
   },
   "file_extension": ".py",
   "mimetype": "text/x-python",
   "name": "python",
   "nbconvert_exporter": "python",
   "pygments_lexer": "ipython3",
   "version": "3.6.5"
  }
 },
 "nbformat": 4,
 "nbformat_minor": 1
}
