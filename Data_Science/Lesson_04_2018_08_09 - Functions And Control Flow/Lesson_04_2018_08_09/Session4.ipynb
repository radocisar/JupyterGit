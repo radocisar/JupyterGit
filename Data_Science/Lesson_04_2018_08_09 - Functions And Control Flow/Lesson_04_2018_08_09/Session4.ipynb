{
 "cells": [
  {
   "cell_type": "code",
   "execution_count": 5,
   "metadata": {},
   "outputs": [
    {
     "name": "stdout",
     "output_type": "stream",
     "text": [
      "This statement is true\n",
      "Something else\n"
     ]
    }
   ],
   "source": [
    "if 1==1:\n",
    "    print(\"This statement is true\")\n",
    "print(\"Something else\")"
   ]
  },
  {
   "cell_type": "code",
   "execution_count": 9,
   "metadata": {},
   "outputs": [
    {
     "name": "stdout",
     "output_type": "stream",
     "text": [
      "False statement\n",
      "End of cell\n"
     ]
    }
   ],
   "source": [
    "if \"cat\"==\"dog\":\n",
    "   print(\"True Statement\")\n",
    "else:\n",
    "    print(\"False statement\")\n",
    "print(\"End of cell\")"
   ]
  },
  {
   "cell_type": "code",
   "execution_count": 13,
   "metadata": {},
   "outputs": [
    {
     "name": "stdout",
     "output_type": "stream",
     "text": [
      "what is the number?53\n",
      "over 50!\n"
     ]
    }
   ],
   "source": [
    "i=int(input(\"what is the number?\"))\n",
    "if i>50:\n",
    "    print(\"over 50!\")"
   ]
  },
  {
   "cell_type": "code",
   "execution_count": 15,
   "metadata": {},
   "outputs": [
    {
     "name": "stdout",
     "output_type": "stream",
     "text": [
      "medium\n"
     ]
    }
   ],
   "source": [
    "#if we want to know your health value is high, medium, low\n",
    "#where high is >=70, medium is between 70 and 40, low is <40\n",
    "health_value=67\n",
    "\n",
    "if health_value>=70:\n",
    "    print(\"high\")\n",
    "elif health_value >=40 and health_value<70:\n",
    "    print(\"medium\")\n",
    "else: \n",
    "    print(\"low\")"
   ]
  },
  {
   "cell_type": "code",
   "execution_count": 19,
   "metadata": {},
   "outputs": [
    {
     "name": "stdout",
     "output_type": "stream",
     "text": [
      "Medium\n",
      "medium\n"
     ]
    }
   ],
   "source": [
    "if health_value>70 and health_value==54:\n",
    "    print(\"high\")\n",
    "    print(\"golden_value\")\n",
    "elif health_value>70:\n",
    "    print(\"High\")\n",
    "elif health_value>40 and health_value ==54:\n",
    "    print(\"Medium\")\n",
    "    print(\"golden_value\")\n",
    "elif health_value >40:\n",
    "    print(\"Medium\")\n",
    "    if health_value==54:\n",
    "       print(\"Golden value\")\n",
    "    print(\"medium\")\n",
    "else:\n",
    "    print(\"High\")\n",
    "    if health_value==54:\n",
    "        print(\"Golden value\")"
   ]
  },
  {
   "cell_type": "code",
   "execution_count": 21,
   "metadata": {},
   "outputs": [
    {
     "name": "stdout",
     "output_type": "stream",
     "text": [
      "Alex\n"
     ]
    }
   ],
   "source": [
    "list_of_people=['Alex','Brian','Catherine','Diana','Ed']\n",
    "print(list_of_people[0])"
   ]
  },
  {
   "cell_type": "code",
   "execution_count": 28,
   "metadata": {},
   "outputs": [
    {
     "name": "stdout",
     "output_type": "stream",
     "text": [
      "The person name Alex is at index 0\n",
      "The person name Brian is at index 1\n",
      "The person name Catherine is at index 2\n",
      "The person name Diana is at index 3\n",
      "The person name Ed is at index 4\n"
     ]
    }
   ],
   "source": [
    "for index, person in enumerate(list_of_people):\n",
    "   print(\"The person name \"+person+ \" is at index\",index)"
   ]
  },
  {
   "cell_type": "code",
   "execution_count": 32,
   "metadata": {},
   "outputs": [
    {
     "name": "stdout",
     "output_type": "stream",
     "text": [
      "The person name Alex is at index 0\n",
      "The person name Brian is at index 1\n",
      "The person name Catherine is at index 2\n",
      "The person name Diana is at index 3\n",
      "The person name Ed is at index 4\n"
     ]
    }
   ],
   "source": [
    "for index in range (len(list_of_people)):\n",
    "    print(\"The person name \"+list_of_people[index]+ \" is at index\",index)"
   ]
  },
  {
   "cell_type": "code",
   "execution_count": 33,
   "metadata": {},
   "outputs": [
    {
     "name": "stdout",
     "output_type": "stream",
     "text": [
      "The person name Alex is at index 0\n",
      "The person name Brian is at index 1\n",
      "The person name Catherine is at index 2\n",
      "The person name Diana is at index 3\n",
      "The person name Ed is at index 4\n"
     ]
    }
   ],
   "source": [
    "for person in list_of_people:\n",
    "    print(\"The person name \"+person+ \" is at index\",list_of_people.index(person))"
   ]
  },
  {
   "cell_type": "code",
   "execution_count": null,
   "metadata": {},
   "outputs": [],
   "source": [
    "for index in range(1,16):\n",
    "    print(index)"
   ]
  },
  {
   "cell_type": "code",
   "execution_count": null,
   "metadata": {},
   "outputs": [],
   "source": [
    "for index in range(1,101):\n",
    "    if index%3==0 and index%5==0:\n",
    "        print(\"fizzbuzz\")\n",
    "    elif index%3==0:\n",
    "        print(\"fizz\")\n",
    "    elif index%5==0:\n",
    "        print(\"buzz\")\n",
    "    else:\n",
    "        print(index)"
   ]
  },
  {
   "cell_type": "code",
   "execution_count": 47,
   "metadata": {},
   "outputs": [
    {
     "name": "stdout",
     "output_type": "stream",
     "text": [
      "Ford is not a Toyota\n",
      "Audi is not a Toyota\n",
      "Mercedes is not a Toyota\n",
      "Peugeot is not a Toyota\n",
      "We found Toyota at index 4\n",
      "The car at index 4 is a Toyota\n"
     ]
    }
   ],
   "source": [
    "list_of_cars = ['Ford', 'Audi', 'Mercedes', 'Peugeot', 'Toyota']\n",
    "\n",
    "index = 0\n",
    "flag_toyota = False\n",
    "while (index < len(list_of_cars) and not flag_toyota):\n",
    "    if list_of_cars[index] == 'Toyota':\n",
    "        print(\"We found Toyota at index\", index)\n",
    "        flag_toyota = True\n",
    "    else:\n",
    "        print (list_of_cars[index] + ' is not a Toyota')\n",
    "        index += 1\n",
    "        \n",
    "if index>=len(list_of_cars):\n",
    "    print(\"No we did not find a Toyota\")\n",
    "else:\n",
    "    print ('The car at index ' + str(index) + ' is a Toyota')"
   ]
  },
  {
   "cell_type": "code",
   "execution_count": 50,
   "metadata": {},
   "outputs": [
    {
     "name": "stdout",
     "output_type": "stream",
     "text": [
      "Ford\n",
      "Audi\n",
      "Mercedes\n",
      "Peugeot\n",
      "Toyota\n"
     ]
    }
   ],
   "source": [
    "list_of_cars = ['Ford', 'Audi', 'Mercedes', 'Peugeot', 'Toyota','GM','Mitsubishi']\n",
    "\n",
    "for car in list_of_cars:\n",
    "    print(car)\n",
    "    if car==\"Toyota\":\n",
    "       break\n"
   ]
  },
  {
   "cell_type": "code",
   "execution_count": 51,
   "metadata": {},
   "outputs": [
    {
     "name": "stdout",
     "output_type": "stream",
     "text": [
      "-0.9036922050915067\n"
     ]
    }
   ],
   "source": [
    "from math import cos\n",
    "print(cos(35))"
   ]
  },
  {
   "cell_type": "code",
   "execution_count": 53,
   "metadata": {},
   "outputs": [],
   "source": [
    "def your_function(input_a, input_b):\n",
    "   #this is what your function does\n",
    "   print(input_a)\n",
    "   print(input_b)"
   ]
  },
  {
   "cell_type": "code",
   "execution_count": 54,
   "metadata": {},
   "outputs": [
    {
     "name": "stdout",
     "output_type": "stream",
     "text": [
      "Hello\n",
      "World\n"
     ]
    }
   ],
   "source": [
    "your_function(\"Hello\",\"World\")"
   ]
  },
  {
   "cell_type": "code",
   "execution_count": 56,
   "metadata": {},
   "outputs": [
    {
     "ename": "TypeError",
     "evalue": "your_function() takes 2 positional arguments but 3 were given",
     "output_type": "error",
     "traceback": [
      "\u001b[1;31m---------------------------------------------------------------------------\u001b[0m",
      "\u001b[1;31mTypeError\u001b[0m                                 Traceback (most recent call last)",
      "\u001b[1;32m<ipython-input-56-9b6b55ff4857>\u001b[0m in \u001b[0;36m<module>\u001b[1;34m()\u001b[0m\n\u001b[1;32m----> 1\u001b[1;33m \u001b[0myour_function\u001b[0m\u001b[1;33m(\u001b[0m\u001b[1;34m\"Hello\"\u001b[0m\u001b[1;33m,\u001b[0m\u001b[1;34m\"world\"\u001b[0m\u001b[1;33m,\u001b[0m\u001b[1;34m\"?\"\u001b[0m\u001b[1;33m)\u001b[0m\u001b[1;33m\u001b[0m\u001b[0m\n\u001b[0m",
      "\u001b[1;31mTypeError\u001b[0m: your_function() takes 2 positional arguments but 3 were given"
     ]
    }
   ],
   "source": [
    "your_function(\"Hello\",\"world\",\"?\")"
   ]
  },
  {
   "cell_type": "code",
   "execution_count": 58,
   "metadata": {},
   "outputs": [],
   "source": [
    "def rectangle_area(base,height):\n",
    "    #calculate the area of a rectangle\n",
    "    area=base*height\n",
    "    \n",
    "    return area"
   ]
  },
  {
   "cell_type": "code",
   "execution_count": 60,
   "metadata": {},
   "outputs": [
    {
     "data": {
      "text/plain": [
       "56.0"
      ]
     },
     "execution_count": 60,
     "metadata": {},
     "output_type": "execute_result"
    }
   ],
   "source": [
    "rectangle_area(10,5.6)"
   ]
  },
  {
   "cell_type": "code",
   "execution_count": 64,
   "metadata": {},
   "outputs": [
    {
     "name": "stdout",
     "output_type": "stream",
     "text": [
      "1495 288\n"
     ]
    }
   ],
   "source": [
    "area_1=rectangle_area(23,65)\n",
    "area_2=rectangle_area(9,32)\n",
    "\n",
    "print(area_1,area_2)"
   ]
  },
  {
   "cell_type": "code",
   "execution_count": 76,
   "metadata": {},
   "outputs": [],
   "source": [
    "def rectangle_area_2_0(base,height):\n",
    "    #calculate the area of a rectangle\n",
    "    \n",
    "    if (type(base)==int or type(base)==float) and (type(height)==int or type(height)==float):\n",
    "        area=base*height\n",
    "    else:\n",
    "        print(\"Wrong input!\")\n",
    "        area=\"no area\"\n",
    "    \n",
    "    return area"
   ]
  },
  {
   "cell_type": "code",
   "execution_count": 77,
   "metadata": {},
   "outputs": [
    {
     "name": "stdout",
     "output_type": "stream",
     "text": [
      "1035\n"
     ]
    }
   ],
   "source": [
    "area_3=rectangle_area_2_0(23,45)\n",
    "print (area_3)"
   ]
  },
  {
   "cell_type": "code",
   "execution_count": 72,
   "metadata": {},
   "outputs": [
    {
     "name": "stdout",
     "output_type": "stream",
     "text": [
      "Wrong input!\n"
     ]
    }
   ],
   "source": [
    "area_4=rectangle_area_2_0(34,\"67\")"
   ]
  },
  {
   "cell_type": "code",
   "execution_count": 80,
   "metadata": {},
   "outputs": [
    {
     "name": "stdout",
     "output_type": "stream",
     "text": [
      "2 12 24\n",
      "3 56 168\n",
      "54 3 162\n",
      "6 0 0\n",
      "8 4 32\n"
     ]
    }
   ],
   "source": [
    "#zip function\n",
    "list_of_base=[2,3,54,6,8]\n",
    "list_of_height=[12,56,3,0,4]\n",
    "\n",
    "for base,height in zip(list_of_base,list_of_height):\n",
    "    area=rectangle_area(base,height)\n",
    "    print(base,height,area)"
   ]
  },
  {
   "cell_type": "code",
   "execution_count": 82,
   "metadata": {},
   "outputs": [
    {
     "name": "stdout",
     "output_type": "stream",
     "text": [
      "2 12\n",
      "2 56\n",
      "2 3\n",
      "2 0\n",
      "2 4\n",
      "3 12\n",
      "3 56\n",
      "3 3\n",
      "3 0\n",
      "3 4\n",
      "54 12\n",
      "54 56\n",
      "54 3\n",
      "54 0\n",
      "54 4\n",
      "6 12\n",
      "6 56\n",
      "6 3\n",
      "6 0\n",
      "6 4\n",
      "8 12\n",
      "8 56\n",
      "8 3\n",
      "8 0\n",
      "8 4\n"
     ]
    }
   ],
   "source": [
    "for base in list_of_base:\n",
    "    for height in list_of_height:\n",
    "        print(base,height)"
   ]
  },
  {
   "cell_type": "code",
   "execution_count": 85,
   "metadata": {},
   "outputs": [
    {
     "ename": "SyntaxError",
     "evalue": "invalid syntax (<ipython-input-85-178a23b0c7eb>, line 4)",
     "output_type": "error",
     "traceback": [
      "\u001b[1;36m  File \u001b[1;32m\"<ipython-input-85-178a23b0c7eb>\"\u001b[1;36m, line \u001b[1;32m4\u001b[0m\n\u001b[1;33m    if base,height in zip(list_of_base,list_of_height):\u001b[0m\n\u001b[1;37m           ^\u001b[0m\n\u001b[1;31mSyntaxError\u001b[0m\u001b[1;31m:\u001b[0m invalid syntax\n"
     ]
    }
   ],
   "source": [
    "list_of_base=[2,3,54,6,8]\n",
    "list_of_height=[12,56,3,0,4]\n",
    "\n",
    "if base,height in zip(list_of_base,list_of_height):\n",
    "    if (type(base)==int or type(base)==float)and ((type(height)==int or type(height)==float):\n",
    "       area =rectange_area(base,height)\n",
    "       print(base,height,area)"
   ]
  },
  {
   "cell_type": "code",
   "execution_count": 100,
   "metadata": {},
   "outputs": [
    {
     "name": "stdout",
     "output_type": "stream",
     "text": [
      "Please enter word anaconda\n",
      "1\n"
     ]
    }
   ],
   "source": [
    "\n",
    "\n",
    "def number_of_vowels(word):\n",
    "    counter =0\n",
    "    vowels=['a', 'e', 'i', 'o', 'u']\n",
    "    for char in word:\n",
    "        for vowel in vowels:\n",
    "            if char in vowels:\n",
    "                counter=+1\n",
    "    return(counter)\n",
    "\n",
    "example=input(\"Please enter word \")\n",
    "\n",
    "print(number_of_vowels(example))"
   ]
  },
  {
   "cell_type": "code",
   "execution_count": 94,
   "metadata": {},
   "outputs": [],
   "source": [
    "def vowel_counter(word):\n",
    "    vowels=['a', 'e', 'i', 'o', 'u']\n",
    "    counter=0\n",
    "    for char in word:\n",
    "        if char in vowels:\n",
    "            print(char+ \" is a vowel\")\n",
    "        else:\n",
    "            print(char+ \" is not a vowel\")\n",
    "    return counter"
   ]
  },
  {
   "cell_type": "code",
   "execution_count": 97,
   "metadata": {},
   "outputs": [
    {
     "name": "stdout",
     "output_type": "stream",
     "text": [
      "a is a vowel\n",
      "u is a vowel\n",
      "t is not a vowel\n",
      "o is a vowel\n",
      "m is not a vowel\n",
      "a is a vowel\n",
      "t is not a vowel\n",
      "i is a vowel\n",
      "c is not a vowel\n"
     ]
    }
   ],
   "source": [
    "number=vowel_counter(\"automatic\")"
   ]
  },
  {
   "cell_type": "code",
   "execution_count": 102,
   "metadata": {},
   "outputs": [],
   "source": [
    "def vowel_counter_2_0(word):\n",
    "    vowels=['a', 'e', 'i', 'o', 'u']\n",
    "    counter=0\n",
    "    for vowel in vowels:\n",
    "        counter+=word.counter(vowel)\n",
    "    return counter"
   ]
  },
  {
   "cell_type": "code",
   "execution_count": 107,
   "metadata": {},
   "outputs": [
    {
     "name": "stdout",
     "output_type": "stream",
     "text": [
      "There are 2 vowels in hello \n"
     ]
    }
   ],
   "source": [
    "def get_vowels_2_0(word):\n",
    "    t=0\n",
    "    for x in \"aeiou\":\n",
    "        t+=word.lower().count(x)\n",
    "    print(f\"There are {t} vowels in {word} \")\n",
    "    return t\n",
    "n=get_vowels_2_0(\"hello\")"
   ]
  },
  {
   "cell_type": "code",
   "execution_count": 117,
   "metadata": {},
   "outputs": [],
   "source": [
    "def get_individual_vowels(word):\n",
    "    vowels=\"aeiou\"\n",
    "    for x in vowels:\n",
    "        print(\"Number of \",x,word.lower().count(x))\n",
    "        t=+word.lower().count(x)"
   ]
  },
  {
   "cell_type": "code",
   "execution_count": 118,
   "metadata": {
    "scrolled": true
   },
   "outputs": [
    {
     "name": "stdout",
     "output_type": "stream",
     "text": [
      "Number of  a 0\n",
      "Number of  e 1\n",
      "Number of  i 0\n",
      "Number of  o 1\n",
      "Number of  u 2\n"
     ]
    }
   ],
   "source": [
    "get_individual_vowels(\"underground\")"
   ]
  },
  {
   "cell_type": "code",
   "execution_count": 4,
   "metadata": {},
   "outputs": [],
   "source": [
    "#create a function which checks the password you insert and returns a True or false statement\n",
    "#must contain at least 6 characters, containing both characters and numbers\n",
    "def password_check(password):\n",
    "    list_of_numbers='0123456789'\n",
    "    list_of_letters='abcdefghijklmnopqrstuwxyz'\n",
    "    flag_length=False\n",
    "    flag_number=False\n",
    "    flag_letter=False\n",
    "    \n",
    "    if len(password)>=6:\n",
    "        flag_length=True\n",
    "        index=0\n",
    "        while(index < len(list_of_numbers) and flag_number is False):\n",
    "            if list_of_numbers[index] in password:\n",
    "                flag_number=True\n",
    "            else:\n",
    "                index+=1\n",
    "        index=0\n",
    "        while  (index<len(list_of_letters) and flag_letter is False):\n",
    "            if list_of_letters[index] in password:\n",
    "                flag_letter=True\n",
    "            else:\n",
    "                index+=1\n",
    "    \n",
    "    if flag_length and flag_number and flag_letter:\n",
    "        return True\n",
    "    else:\n",
    "        return False"
   ]
  },
  {
   "cell_type": "code",
   "execution_count": 10,
   "metadata": {},
   "outputs": [
    {
     "data": {
      "text/plain": [
       "False"
      ]
     },
     "execution_count": 10,
     "metadata": {},
     "output_type": "execute_result"
    }
   ],
   "source": [
    "password_check(\"test1\")\n"
   ]
  },
  {
   "cell_type": "code",
   "execution_count": null,
   "metadata": {},
   "outputs": [],
   "source": []
  }
 ],
 "metadata": {
  "kernelspec": {
   "display_name": "Python 3",
   "language": "python",
   "name": "python3"
  },
  "language_info": {
   "codemirror_mode": {
    "name": "ipython",
    "version": 3
   },
   "file_extension": ".py",
   "mimetype": "text/x-python",
   "name": "python",
   "nbconvert_exporter": "python",
   "pygments_lexer": "ipython3",
   "version": "3.6.5"
  }
 },
 "nbformat": 4,
 "nbformat_minor": 2
}
