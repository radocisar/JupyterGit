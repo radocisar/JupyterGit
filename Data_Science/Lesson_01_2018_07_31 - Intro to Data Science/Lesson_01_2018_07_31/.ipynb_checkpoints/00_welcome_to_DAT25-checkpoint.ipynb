{
 "cells": [
  {
   "cell_type": "markdown",
   "metadata": {
    "slideshow": {
     "slide_type": "slide"
    }
   },
   "source": [
    "<img src=\"http://imgur.com/1ZcRyrc.png\" style=\"float: left; margin: 20px; height: 55px\">\n",
    "\n",
    "# Welcome to the course! `#DAT25`"
   ]
  },
  {
   "cell_type": "markdown",
   "metadata": {
    "slideshow": {
     "slide_type": "subslide"
    }
   },
   "source": [
    "# Learning objectives\n",
    "\n",
    "- Meet the team\n",
    "- Meet the class\n",
    "- Setting up Classroom culture\n",
    "- Course Info\n",
    "- Install FEST\n",
    "- Intro to data science"
   ]
  },
  {
   "cell_type": "markdown",
   "metadata": {
    "slideshow": {
     "slide_type": "subslide"
    }
   },
   "source": [
    "# Introductions"
   ]
  },
  {
   "cell_type": "markdown",
   "metadata": {
    "slideshow": {
     "slide_type": "subslide"
    }
   },
   "source": [
    "## Your Instructor Team"
   ]
  },
  {
   "cell_type": "markdown",
   "metadata": {
    "slideshow": {
     "slide_type": "fragment"
    }
   },
   "source": [
    "Lead Instructor\n",
    "\n",
    "Paolo Turati, Lead Data Scientist, Decibel, London\n",
    "\n",
    "\n",
    "\n",
    "Teaching Assistants\n",
    "\n",
    "Jose Henrique Blanco, Data Scientist, The Quarry, London\n",
    "\n",
    "Blae Quayle, Data Scientist, DAZN, London"
   ]
  },
  {
   "cell_type": "markdown",
   "metadata": {
    "slideshow": {
     "slide_type": "subslide"
    }
   },
   "source": [
    "## Activity: Who are you?"
   ]
  },
  {
   "cell_type": "markdown",
   "metadata": {
    "slideshow": {
     "slide_type": "fragment"
    }
   },
   "source": [
    "Get to know your neighbour. Find out:"
   ]
  },
  {
   "cell_type": "markdown",
   "metadata": {
    "slideshow": {
     "slide_type": "fragment"
    }
   },
   "source": [
    "- their name"
   ]
  },
  {
   "cell_type": "markdown",
   "metadata": {
    "slideshow": {
     "slide_type": "fragment"
    }
   },
   "source": [
    "- what their job is"
   ]
  },
  {
   "cell_type": "markdown",
   "metadata": {
    "slideshow": {
     "slide_type": "fragment"
    }
   },
   "source": [
    "- their expectations and motivations for this course"
   ]
  },
  {
   "cell_type": "markdown",
   "metadata": {
    "slideshow": {
     "slide_type": "fragment"
    }
   },
   "source": [
    "- best memory from school days"
   ]
  },
  {
   "cell_type": "markdown",
   "metadata": {
    "slideshow": {
     "slide_type": "subslide"
    }
   },
   "source": [
    "# Classroom Culture\n",
    "\n",
    "Split the class in group of 4. Each group should address 3 rules."
   ]
  },
  {
   "cell_type": "markdown",
   "metadata": {
    "slideshow": {
     "slide_type": "subslide"
    }
   },
   "source": [
    "# Course info"
   ]
  },
  {
   "cell_type": "markdown",
   "metadata": {
    "slideshow": {
     "slide_type": "subslide"
    }
   },
   "source": [
    "## Calendar\n",
    "\n",
    "\n",
    "All the lessons will be held at the GA Campus, Relay Building, 114 Whitechapel High St., E1 7PT\n",
    "\n",
    "Week 1\n",
    "- 31-07-2018, 18.00 - 21.00\n",
    "- 02-08-2018, 18.00 - 21.00\n",
    "\n",
    "Week 2\n",
    "- 07-08-2018, 18.00 - 21.00\n",
    "- 09-08-2018, 18.00 - 21.00\n",
    "\n",
    "Week 3\n",
    "- 14-08-2018, 18.00 - 21.00\n",
    "- 16-08-2018, 18.00 - 21.00\n",
    "\n",
    "Week 4\n",
    "- 21-08-2018, 18.00 - 21.00\n",
    "- 23-08-2018, 18.00 - 21.00\n",
    "\n",
    "Week 5\n",
    "- 28-08-2018, 18.00 - 21.00\n",
    "- 30-08-2018, 18.00 - 21.00\n",
    "\n",
    "Week 6\n",
    "- 04-09-2018, 18.00 - 21.00\n",
    "- 06-09-2018, 18.00 - 21.00\n",
    "\n",
    "Week 7\n",
    "- 11-09-2018, 18.00 - 21.00\n",
    "- 13-09-2018, 18.00 - 21.00\n",
    "\n",
    "Week 8\n",
    "- 18-09-2018, 18.00 - 21.00\n",
    "- 20-09-2018, 18.00 - 21.00\n",
    "\n",
    "Week 9\n",
    "- 25-09-2018, 18.00 - 21.00\n",
    "- 27-09-2018, 18.00 - 21.00\n",
    "\n",
    "Week 10\n",
    "- 02-10-2018, 18.00 - 21.00\n",
    "- 04-10-2018, 18.00 - 21.00\n",
    "\n"
   ]
  },
  {
   "cell_type": "markdown",
   "metadata": {
    "slideshow": {
     "slide_type": "subslide"
    }
   },
   "source": [
    "## How to communicate with your LI and TA\n",
    "\n",
    "\n",
    "- Download and install Slack  (https://slack.com/)\n",
    "- Set up an account with the right workspace (ga-ldn-datascience.slack.com), channel dat25-july31\n",
    "- Office hours 21-21.30 for questions, 1 hour on Slack during the week\n",
    "\n",
    "But...bear in mind that messages on Slack will be deleted after 3 days (memory retention). The Slack App can be installed on portable devices and it's very handy for quick communication.\n",
    "\n",
    "For more complex questions, please contact us via email.\n",
    "\n",
    "Moreover we will always be available for chats during class.\n",
    "\n",
    "Split students between Jose and Blae, create slack channels\n",
    "\n",
    "\n",
    "### Office hours\n",
    "\n",
    "Paolo: Saturdays, 14.00 - 15.00 (on Slack)\n",
    "\n",
    "Jose: Saturdays, 13.00 - 14.00 (on Slack)\n",
    "\n",
    "Blae: Saturdays, 10.00 - 11.00 (on Slack)\n"
   ]
  },
  {
   "cell_type": "markdown",
   "metadata": {
    "slideshow": {
     "slide_type": "subslide"
    }
   },
   "source": [
    "## Where to find the course material\n",
    "\n",
    "All the notebooks related to the lessons, homeworks and other material can be found on the git repository of the course:\n",
    "\n",
    "https://git.generalassemb.ly/paoloturati/dat25\n",
    "\n",
    "\n",
    "This is the repository of GA:\n",
    "\n",
    "https://git.generalassemb.ly/\n",
    "\n",
    "\n",
    "Every week new material will be uploaded and updated, so watch this space.\n",
    "\n",
    "Do you have a github account? You need one, so once you sign up, let me know your username and I'll be able to grant you access to the course repository.\n",
    "Show how to create SSH key for access"
   ]
  },
  {
   "cell_type": "markdown",
   "metadata": {
    "slideshow": {
     "slide_type": "subslide"
    }
   },
   "source": [
    "## Homework\n",
    "\n",
    "At the end of each lesson you will be assigned some homework which you need to complete in order to consolidate what you learned in class. You will need to hand in your work the following week to the TA."
   ]
  },
  {
   "cell_type": "markdown",
   "metadata": {
    "slideshow": {
     "slide_type": "subslide"
    }
   },
   "source": [
    "## Final project\n",
    "\n",
    "During the first weeks of the course you will have to choose a data-project which you'll have to complete by the end of the course. The choice of the project is entirely down to you but it has to be a data-driven problem in which you can show the full pipeline of a data job. The LI and TA will be happy to support you and help you with your choice."
   ]
  },
  {
   "cell_type": "markdown",
   "metadata": {
    "slideshow": {
     "slide_type": "subslide"
    }
   },
   "source": [
    "# What you need to install"
   ]
  },
  {
   "cell_type": "markdown",
   "metadata": {
    "slideshow": {
     "slide_type": "subslide"
    }
   },
   "source": [
    "- You will need your laptop during the lessons because you will be required to do some work during class.\n",
    "\n",
    "- The tool which we will use for DAT25 is Jupyter Notebook (version for Python 3).\n",
    "\n",
    "- Jupyter Notebook is an environment designed to code and run Python scripts, hence you will need some of the Python libraries.\n",
    "\n",
    "- The best advice is to download the Anaconda, one of the most complete platform to work with Python.\n",
    "\n",
    "With Anaconda you can:\n",
    "- code in Python\n",
    "- run your code on Mac, Windows, Linux\n",
    "- code in R (not used for this course but hey, it's still pretty cool)\n",
    "\n",
    "With Anaconda you have:\n",
    "- Jupyter Notebook\n",
    "- many Python libraries included in the package\n",
    "\n",
    "For further info:\n",
    "- check your pre-work on MyGA\n",
    "\n",
    "Should you have any issue:\n",
    "- contact studentserviceslondon@generalassemb.ly"
   ]
  },
  {
   "cell_type": "markdown",
   "metadata": {
    "slideshow": {
     "slide_type": "subslide"
    }
   },
   "source": [
    "### BREAK"
   ]
  },
  {
   "cell_type": "markdown",
   "metadata": {
    "slideshow": {
     "slide_type": "subslide"
    }
   },
   "source": [
    "# Introduction to Data Science"
   ]
  },
  {
   "cell_type": "markdown",
   "metadata": {
    "slideshow": {
     "slide_type": "subslide"
    }
   },
   "source": [
    "### [Part 1: About the Course](#part1)"
   ]
  },
  {
   "cell_type": "markdown",
   "metadata": {
    "slideshow": {
     "slide_type": "subslide"
    }
   },
   "source": [
    "### [Part 2: What is Data Science?](#part2)\n",
    "\n",
    "- [What is Data Science?](#what-is-data-science)\n",
    "- [Data Science vs. Machine Learning vs. AI](#ai)\n",
    "- [Types of Data Science](#ds-types)\n",
    "- [Data roles](#data-roles)\n",
    "- [Skills of a Data Scientist](#ds-skills)"
   ]
  },
  {
   "cell_type": "markdown",
   "metadata": {
    "slideshow": {
     "slide_type": "subslide"
    }
   },
   "source": [
    "### [Part 3: Data Science workflow](#part3)\n",
    "\n",
    "- [A simple workflow](#simple-workflow)\n",
    "- [A more complex workflow](#complex-workflow)\n",
    "- [Activity: Data Science workflow in practice](#ds-workflow-activity)"
   ]
  },
  {
   "cell_type": "markdown",
   "metadata": {
    "slideshow": {
     "slide_type": "subslide"
    }
   },
   "source": [
    "### [What next?](#what-next)"
   ]
  },
  {
   "cell_type": "markdown",
   "metadata": {
    "slideshow": {
     "slide_type": "slide"
    }
   },
   "source": [
    "<a id=\"part1\"> </a>\n",
    "# Part 1: About the Course"
   ]
  },
  {
   "cell_type": "markdown",
   "metadata": {
    "slideshow": {
     "slide_type": "subslide"
    }
   },
   "source": [
    "## Course Outline\n",
    "\n",
    "Unit   | Title  | Topics Covered  | Length \n",
    "---    | ---    |  ---     | ---\n",
    "1 | Data Foundations  | Python Syntax, Development Environment | Lessons 1-4\n",
    "2 | Working with Data              | Stats Review, Visualisation, & EDA     | Lessons 5-9\n",
    "3 | Data Science Modeling          | Regression, Classification, Model Evaluation      | Lessons 10-14\n",
    "4 | Data Science Applications      | Time Series, NLP, Clustering, Wrap-up     | Lessons 15-20\n",
    "\n",
    "You'll be working on an individual project throughout Units 2-4"
   ]
  },
  {
   "cell_type": "markdown",
   "metadata": {
    "slideshow": {
     "slide_type": "subslide"
    }
   },
   "source": [
    "### Schedule\n",
    "\n",
    "Session Number  | Session | Unit Number\n",
    "--- | ---  | ---\n",
    "01 | Welcome to Data Science | Unit 1\n",
    "02 | Introduction to Data Science | Unit 1\n",
    "03 | Introduction to Python | Unit 1\n",
    "04 | Python Foundations | Unit 1\n",
    "--- | ---  | ---\n",
    "05 | Data Visualisation in Python | Unit 2\n",
    "06 | Statistics in Python | Unit 2\n",
    "07 | Experiments & Hypothesis Testing | Unit 2\n",
    "08 | Group Activity #1 | Unit 2\n",
    "09 | Project Lightning Talks | Unit 2\n",
    "--- | ---  | ---"
   ]
  },
  {
   "cell_type": "markdown",
   "metadata": {
    "slideshow": {
     "slide_type": "subslide"
    }
   },
   "source": [
    "### Schedule (continued)\n",
    "\n",
    "Session Number  | Session | Unit Number\n",
    "--- | ---  | ---\n",
    "10 | Introduction to Regression | Unit 3\n",
    "11 | Evaluating Machine Learning Models | Unit 3\n",
    "12 | Introduction to Classification | Unit 3\n",
    "13 | Logistic Regression | Unit 3\n",
    "14 | Decision Trees & Random Forests | Unit 3\n",
    "--- | ---  | ---\n",
    "15 | Intro to Natural Language Processing | Unit 4\n",
    "16 | Intro to Time Series | Unit 4\n",
    "17 | Clustering | Unit 4\n",
    "18 | Group Activity #2 | Unit 4\n",
    "19 | Wrap up & Final Project Presentations (Part 1) | Unit 4\n",
    "20 | Final Project Presentations (Part 2) | Unit 4"
   ]
  },
  {
   "cell_type": "markdown",
   "metadata": {
    "slideshow": {
     "slide_type": "subslide"
    }
   },
   "source": [
    "## Deliverables\n",
    "\n",
    "End of Unit  | Exercise | Final Project\n",
    "--- | ---  | ---\n",
    "Unit 1 | Python exercise | Start thinking...\n",
    "Unit 2 | Data exploration exercise | Proposal, dataset(s), lightning talk\n",
    "Unit 3 | Machine learning exercise | Exploratory data analysis\n",
    "Unit 4 | N/A | Technical report & presentation"
   ]
  },
  {
   "cell_type": "markdown",
   "metadata": {
    "slideshow": {
     "slide_type": "slide"
    }
   },
   "source": [
    "<a id=\"part2\"> </a>\n",
    "# Part 2: What is Data Science?\n"
   ]
  },
  {
   "cell_type": "markdown",
   "metadata": {
    "slideshow": {
     "slide_type": "subslide"
    }
   },
   "source": [
    "<a id=\"what-is-data-science\"> </a>\n",
    "\n",
    "## What is Data Science?\n",
    "\n",
    "*“Turn data into information and information into insight”*\n",
    "\n",
    "Carly Fiorina (HP)"
   ]
  },
  {
   "cell_type": "markdown",
   "metadata": {
    "slideshow": {
     "slide_type": "subslide"
    }
   },
   "source": [
    "- Answers human questions **with data**\n",
    "\n",
    "- Helps people make better decisions **with data**\n",
    "\n",
    "- Uses the scientific method to solve problems **with data**"
   ]
  },
  {
   "cell_type": "markdown",
   "metadata": {
    "slideshow": {
     "slide_type": "slide"
    }
   },
   "source": [
    "<a id=\"ai\"> </a>\n",
    "## Data Science vs. Machine Learning vs. AI"
   ]
  },
  {
   "cell_type": "markdown",
   "metadata": {
    "slideshow": {
     "slide_type": "fragment"
    }
   },
   "source": [
    "- Machine learning is broadly speaking the **use of statistics to make predictions**"
   ]
  },
  {
   "cell_type": "markdown",
   "metadata": {
    "slideshow": {
     "slide_type": "fragment"
    }
   },
   "source": [
    "- Data Science **uses** machine learning to perform the necessary predictive tasks\n",
    "    - Machine learning is just one of the tools in the Data Scientist's Toolbox"
   ]
  },
  {
   "cell_type": "markdown",
   "metadata": {
    "slideshow": {
     "slide_type": "fragment"
    }
   },
   "source": [
    "- AI is a broad term, more concerned with behaviour (e.g. playing games, like AlphaGO)\n",
    "    - An area called \"Reinforcement Learning\" is applicable for example"
   ]
  },
  {
   "cell_type": "markdown",
   "metadata": {
    "slideshow": {
     "slide_type": "slide"
    }
   },
   "source": [
    "<a id=\"ds-types\"></a>\n",
    "## Types of Data Science\n",
    "\n",
    "Lots of jobs are called \"Data Science\" but they're very different!\n",
    "\n",
    "<img src=\"assets/data-science-types.png\" />"
   ]
  },
  {
   "cell_type": "markdown",
   "metadata": {
    "slideshow": {
     "slide_type": "subslide"
    }
   },
   "source": [
    "Type **A** Data Scientists will:\n",
    "\n",
    "- probably have a **PhD** in a \"traditional\" science\n",
    "- focus on **new knowledge** and research\n",
    "- have well-defined problems to work on"
   ]
  },
  {
   "cell_type": "markdown",
   "metadata": {
    "slideshow": {
     "slide_type": "subslide"
    }
   },
   "source": [
    "Type **B** Data Scientists will:\n",
    "\n",
    "- have a variety of backgrounds\n",
    "- work in a less data-savvy environment\n",
    "    - datasets are not \"clean\"\n",
    "    - questions are ambiguous\n",
    "- focus on **helping make better decisions under uncertainty**\n",
    "- work within the framework of a business and its particular needs"
   ]
  },
  {
   "cell_type": "markdown",
   "metadata": {
    "slideshow": {
     "slide_type": "slide"
    }
   },
   "source": [
    "<a id=\"data-roles\"> </a>\n",
    "\n",
    "## Data Roles\n",
    "\n",
    "<img src=\"assets/data-roles.png\" />"
   ]
  },
  {
   "cell_type": "markdown",
   "metadata": {
    "slideshow": {
     "slide_type": "slide"
    }
   },
   "source": [
    "<a id=\"ds-skills\"> </a>\n",
    "\n",
    "## Skills of a Data Scientist\n",
    "\n",
    "<img src=\"assets/ds-venn.png\" />"
   ]
  },
  {
   "cell_type": "markdown",
   "metadata": {
    "slideshow": {
     "slide_type": "subslide"
    }
   },
   "source": [
    "### \"Hacking Skills\"\n",
    "\n",
    "- knowing how to write code\n",
    "- enough code to automate boring tasks\n",
    "- can use version control\n",
    "- *optional bonuses*:\n",
    "    - advanced programming (e.g. \"object-oriented\" or multiple programming languages)\n",
    "    - web development skills (HTML, CSS)"
   ]
  },
  {
   "cell_type": "markdown",
   "metadata": {
    "slideshow": {
     "slide_type": "subslide"
    }
   },
   "source": [
    "### \"Maths & Stats Knowledge\"\n",
    "\n",
    "- comfortable with descriptive statistics\n",
    "- understanding hypothesis testing and experimental design\n",
    "- knowledge of framework of \"how to predict things\"\n",
    "- understanding of probability\n",
    "- *optional bonuses*:\n",
    "    - advanced machine learning\n",
    "    - Bayesian statistics"
   ]
  },
  {
   "cell_type": "markdown",
   "metadata": {
    "slideshow": {
     "slide_type": "subslide"
    }
   },
   "source": [
    "### \"Substantive Expertise\"\n",
    "\n",
    "- understands the domain they're in enough to \"speak the language\"\n",
    "- can think like a customer\n",
    "- communication skills\n",
    "    - PowerPoint\n",
    "    - speaking to both technical and non-technical people\n",
    "- *optional bonuses*:\n",
    "    - deeper understanding of a domain\n",
    "    - public speaking"
   ]
  },
  {
   "cell_type": "markdown",
   "metadata": {
    "slideshow": {
     "slide_type": "slide"
    }
   },
   "source": [
    "<a id=\"part3\"> </a>\n",
    "\n",
    "# Part 3: Data Science Workflows"
   ]
  },
  {
   "cell_type": "markdown",
   "metadata": {
    "slideshow": {
     "slide_type": "subslide"
    }
   },
   "source": [
    "<a id=\"simple-workflow\"> </a>\n",
    "\n",
    "## A simple workflow\n",
    "\n",
    "1. Business Question\n",
    "\n",
    "2. Data Question\n",
    "\n",
    "3. Data Answer\n",
    "\n",
    "4. Business Answer\n",
    "\n",
    "*Credit: Renee Teate, [Becoming a Data Scientist](http://becomingadatascientist.com)*"
   ]
  },
  {
   "cell_type": "markdown",
   "metadata": {
    "slideshow": {
     "slide_type": "subslide"
    }
   },
   "source": [
    "### Example\n",
    "\n",
    "#### 1. Business Question\n",
    "\n",
    "\"Is it better to hold a sale of my pork pies in June or July?\""
   ]
  },
  {
   "cell_type": "markdown",
   "metadata": {
    "slideshow": {
     "slide_type": "fragment"
    }
   },
   "source": [
    "#### 2. Data Question\n",
    "\n",
    "\"In past years, did June or July have higher demand for pork pies?\""
   ]
  },
  {
   "cell_type": "markdown",
   "metadata": {
    "slideshow": {
     "slide_type": "fragment"
    }
   },
   "source": [
    "#### 3. Data Answer\n",
    "\n",
    "\"The average number of pork pies sold over the last 5 years in June was 25% higher than July.\""
   ]
  },
  {
   "cell_type": "markdown",
   "metadata": {
    "slideshow": {
     "slide_type": "fragment"
    }
   },
   "source": [
    "#### 4. Business Answer\n",
    "\n",
    "\"I recommend holding a sale in June based on seeing higher sales in the last 5 years.\""
   ]
  },
  {
   "cell_type": "markdown",
   "metadata": {
    "slideshow": {
     "slide_type": "fragment"
    }
   },
   "source": [
    "<a id=\"complex-workflow\"></a>\n",
    "## A More Complex Data Science Workflow\n",
    "\n",
    "---\n",
    "\n",
    "- **Frame**: Develop a hypothesis-driven approach to your analysis.\n",
    "- **Prepare**: Select, import, explore, and clean your data.\n",
    "- **Analyse**: Structure, visualise, and complete your analysis.\n",
    "- **Interpret**: Derive recommendations and business decisions from your data.\n",
    "- **Communicate**: Present (edited) insights from your data to different audiences."
   ]
  },
  {
   "cell_type": "markdown",
   "metadata": {
    "slideshow": {
     "slide_type": "subslide"
    }
   },
   "source": [
    "![](./assets/Data-Framework-White-BG.png)"
   ]
  },
  {
   "cell_type": "markdown",
   "metadata": {
    "slideshow": {
     "slide_type": "subslide"
    }
   },
   "source": [
    "#### Notes about this workflow\n",
    "\n",
    "_Remember, these steps are not hard-set rules; instead, think of them as problem-solving guidelines._\n",
    "\n",
    "\n",
    "- Some projects may not require every step.\n",
    "- These steps are iterative; it's normal to go back and repeat certain steps a few times in a row.\n",
    "- The process is cyclical; after completing the process, you may restart it on new findings."
   ]
  },
  {
   "cell_type": "markdown",
   "metadata": {
    "slideshow": {
     "slide_type": "slide"
    }
   },
   "source": [
    "<a id=\"ds-workflow-activity\"> </a>\n",
    "\n",
    "## Activity: Data Science Workflow\n",
    "\n",
    "You work for the TFL who want to use their data to:\n",
    "\n",
    "<ul style=\"list-style-type: none\">\n",
    "    <li>a) accurately predict the number of passengers for the summer months</li>\n",
    "    <li>b) predict whether or not the current staff will be sufficient</li>\n",
    "</ul>"
   ]
  },
  {
   "cell_type": "markdown",
   "metadata": {
    "slideshow": {
     "slide_type": "fragment"
    }
   },
   "source": [
    "Reminder about the workflow:\n",
    "\n",
    "    Frame -> Prepare -> Analyse -> Interpret -> Communicate"
   ]
  },
  {
   "cell_type": "markdown",
   "metadata": {
    "slideshow": {
     "slide_type": "subslide"
    }
   },
   "source": [
    "In groups, discuss what the Data Science workflow might look like for these two tasks, specifically:\n",
    "\n",
    "1. Frame\n",
    "    - what sort of data would you start from to solve task `a`?\n",
    "    - and for `b`?\n",
    "    - can `a` and `b` be linked?\n",
    "    - what is your first guess?\n",
    "2. Prepare\n",
    "    - how would you collect the data?\n",
    "3. Analyse\n",
    "    - how would you associate different dataset?\n",
    "    - what would impact the number of passengers? (only TFL-related facts? external facts?)\n",
    "4. Interpret & Communicate\n",
    "    - how could TFL take action based on your findings?\n",
    "    - what decisions would these two predictive models help make?"
   ]
  },
  {
   "cell_type": "markdown",
   "metadata": {
    "slideshow": {
     "slide_type": "slide"
    }
   },
   "source": [
    "<a id=\"what-next\"> </a>\n",
    "# What next?\n",
    "\n",
    "- examples of data-science problems\n",
    "- definitions of techniques to approach several data-science problems"
   ]
  },
  {
   "cell_type": "code",
   "execution_count": null,
   "metadata": {},
   "outputs": [],
   "source": []
  }
 ],
 "metadata": {
  "anaconda-cloud": {},
  "celltoolbar": "Slideshow",
  "kernelspec": {
   "display_name": "Python 3",
   "language": "python",
   "name": "python3"
  },
  "language_info": {
   "codemirror_mode": {
    "name": "ipython",
    "version": 3
   },
   "file_extension": ".py",
   "mimetype": "text/x-python",
   "name": "python",
   "nbconvert_exporter": "python",
   "pygments_lexer": "ipython3",
   "version": "3.6.5"
  }
 },
 "nbformat": 4,
 "nbformat_minor": 2
}
