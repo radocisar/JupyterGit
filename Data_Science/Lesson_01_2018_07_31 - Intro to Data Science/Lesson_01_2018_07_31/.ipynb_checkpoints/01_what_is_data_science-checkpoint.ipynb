{
 "cells": [
  {
   "cell_type": "markdown",
   "metadata": {
    "slideshow": {
     "slide_type": "slide"
    }
   },
   "source": [
    "<img src=\"http://imgur.com/1ZcRyrc.png\" style=\"float: left; margin: 20px; height: 55px\">\n",
    "\n",
    "# Welcome to the course! `#DAT25`"
   ]
  },
  {
   "cell_type": "markdown",
   "metadata": {
    "slideshow": {
     "slide_type": "subslide"
    }
   },
   "source": [
    "# Introductions"
   ]
  },
  {
   "cell_type": "markdown",
   "metadata": {
    "slideshow": {
     "slide_type": "subslide"
    }
   },
   "source": [
    "## About General Assembly"
   ]
  },
  {
   "cell_type": "markdown",
   "metadata": {
    "slideshow": {
     "slide_type": "subslide"
    }
   },
   "source": [
    "## Your Instructor Team"
   ]
  },
  {
   "cell_type": "markdown",
   "metadata": {
    "slideshow": {
     "slide_type": "subslide"
    }
   },
   "source": [
    "## Activity: Who are you?"
   ]
  },
  {
   "cell_type": "markdown",
   "metadata": {
    "slideshow": {
     "slide_type": "fragment"
    }
   },
   "source": [
    "Get to know your neighbour. Find out:"
   ]
  },
  {
   "cell_type": "markdown",
   "metadata": {
    "slideshow": {
     "slide_type": "fragment"
    }
   },
   "source": [
    "- their name"
   ]
  },
  {
   "cell_type": "markdown",
   "metadata": {
    "slideshow": {
     "slide_type": "fragment"
    }
   },
   "source": [
    "- what their job is"
   ]
  },
  {
   "cell_type": "markdown",
   "metadata": {
    "slideshow": {
     "slide_type": "fragment"
    }
   },
   "source": [
    "- why they've decided to take this course"
   ]
  },
  {
   "cell_type": "markdown",
   "metadata": {
    "slideshow": {
     "slide_type": "fragment"
    }
   },
   "source": [
    "- either:\n",
    "    - their first ever email address (if funny and embarrassing)\n",
    "    - or their favourite type of ice cream"
   ]
  },
  {
   "cell_type": "markdown",
   "metadata": {
    "slideshow": {
     "slide_type": "subslide"
    }
   },
   "source": [
    "## Classroom Values\n",
    "\n",
    "- What makes a **bad** classroom?\n",
    "    - Let's agree not to do those things!\n",
    "\n",
    "We'll write these down and have them handy in each class."
   ]
  },
  {
   "cell_type": "markdown",
   "metadata": {
    "slideshow": {
     "slide_type": "slide"
    }
   },
   "source": [
    "# Session 1: What is Data Science?"
   ]
  },
  {
   "cell_type": "markdown",
   "metadata": {
    "slideshow": {
     "slide_type": "subslide"
    }
   },
   "source": [
    "<a id=\"learning-objectives\"></a>\n",
    "### Learning Objectives\n",
    "*After this lesson, you will be able to:*\n",
    "\n",
    "- Discuss the topics and goals of our course.\n",
    "- Define the Data Science Workflow and common Machine Learning concepts.\n",
    "- Identify which type of predictive problem applies to a given task.\n",
    "- Set up and confirm your development environment."
   ]
  },
  {
   "cell_type": "markdown",
   "metadata": {
    "slideshow": {
     "slide_type": "subslide"
    }
   },
   "source": [
    "## Agenda"
   ]
  },
  {
   "cell_type": "markdown",
   "metadata": {
    "slideshow": {
     "slide_type": "subslide"
    }
   },
   "source": [
    "### [Part 1: About the Course](#part1)"
   ]
  },
  {
   "cell_type": "markdown",
   "metadata": {
    "slideshow": {
     "slide_type": "subslide"
    }
   },
   "source": [
    "### [Part 2: What is Data Science?](#part2)\n",
    "\n",
    "- [What is Data Science?](#what-is-data-science)\n",
    "- [Data Science problems](#ds-problems)\n",
    "- [Activity: Data Science problems](#ds-problems-activity)\n",
    "- [Supervised vs. Unsupervised Learning](#supervised)\n",
    "- [Data Science vs. Machine Learning vs. AI](#ai)\n",
    "- [Types of Data Science](#ds-types)\n",
    "- [Data roles](#data-roles)\n",
    "- [Skills of a Data Scientist](#ds-skills)"
   ]
  },
  {
   "cell_type": "markdown",
   "metadata": {
    "slideshow": {
     "slide_type": "subslide"
    }
   },
   "source": [
    "### BREAK"
   ]
  },
  {
   "cell_type": "markdown",
   "metadata": {
    "slideshow": {
     "slide_type": "subslide"
    }
   },
   "source": [
    "### [Part 3: Data Science workflow](#part3)\n",
    "\n",
    "- [A simple workflow](#simple-workflow)\n",
    "- [A more complex workflow](#complex-workflow)\n",
    "- [Activity: Data Science workflow in practice](#ds-workflow-activity)"
   ]
  },
  {
   "cell_type": "markdown",
   "metadata": {
    "slideshow": {
     "slide_type": "subslide"
    }
   },
   "source": [
    "### [Part 4: Your Development Environment](#part4)"
   ]
  },
  {
   "cell_type": "markdown",
   "metadata": {
    "slideshow": {
     "slide_type": "subslide"
    }
   },
   "source": [
    "### [What next?](#what-next)"
   ]
  },
  {
   "cell_type": "markdown",
   "metadata": {
    "slideshow": {
     "slide_type": "slide"
    }
   },
   "source": [
    "<a id=\"part1\"> </a>\n",
    "# Part 1: About the Course"
   ]
  },
  {
   "cell_type": "markdown",
   "metadata": {
    "slideshow": {
     "slide_type": "subslide"
    }
   },
   "source": [
    "## Course Outline\n",
    "\n",
    "Unit   | Title  | Topics Covered  | Length \n",
    "---    | ---    |  ---     | ---\n",
    "1 | Data Foundations  | Python Syntax, Development Environment | Lessons 1-3\n",
    "2 | Working with Data              | Stats Review, Visualisation, & EDA     | Lessons 4-9\n",
    "3 | Data Science Modeling          | Regression, Classification, Model Evaluation      | Lessons 10-14\n",
    "4 | Data Science Applications      | Time Series, NLP, Clustering, Wrap-up     | Lessons 15-20\n",
    "\n",
    "You'll be working on an individual project throughout Units 2-4"
   ]
  },
  {
   "cell_type": "markdown",
   "metadata": {
    "slideshow": {
     "slide_type": "subslide"
    }
   },
   "source": [
    "### Schedule\n",
    "\n",
    "Session Number  | Session | Unit Number\n",
    "--- | ---  | ---\n",
    "01 | Welcome to Data Science | Unit 1\n",
    "02 | Python Foundations | Unit 1\n",
    "03 | Managing Data | Unit 1\n",
    "--- | ---  | ---\n",
    "04 | Exploratory Data Analysis in Pandas | Unit 2\n",
    "05 | Data Visualisation in Python | Unit 2\n",
    "06 | Statistics in Python | Unit 2\n",
    "07 | Experiments & Hypothesis Testing | Unit 2\n",
    "08 | Group Activity #1 | Unit 2\n",
    "09 | Project Lightning Talks | Unit 2\n",
    "--- | ---  | ---"
   ]
  },
  {
   "cell_type": "markdown",
   "metadata": {
    "slideshow": {
     "slide_type": "subslide"
    }
   },
   "source": [
    "### Schedule (continued)\n",
    "\n",
    "Session Number  | Session | Unit Number\n",
    "--- | ---  | ---\n",
    "10 | Introduction to Regression | Unit 3\n",
    "11 | Evaluating Machine Learning Models | Unit 3\n",
    "12 | Introduction to Classification | Unit 3\n",
    "13 | Logistic Regression | Unit 3\n",
    "14 | Decision Trees & Random Forests | Unit 3\n",
    "--- | ---  | ---\n",
    "15 | Intro to Natural Language Processing | Unit 4\n",
    "16 | Intro to Time Series | Unit 4\n",
    "17 | Clustering | Unit 4\n",
    "18 | Group Activity #2 | Unit 4\n",
    "19 | Wrap up & Final Project Presentations (Part 1) | Unit 4\n",
    "20 | Final Project Presentations (Part 2) | Unit 4"
   ]
  },
  {
   "cell_type": "markdown",
   "metadata": {
    "slideshow": {
     "slide_type": "subslide"
    }
   },
   "source": [
    "## Deliverables\n",
    "\n",
    "End of Unit  | Exercise | Final Project\n",
    "--- | ---  | ---\n",
    "Unit 1 | Python exercise | Start thinking...\n",
    "Unit 2 | Data exploration exercise | Proposal, dataset(s), lightning talk\n",
    "Unit 3 | Machine learning exercise | Exploratory data analysis\n",
    "Unit 4 | N/A | Technical report & presentation"
   ]
  },
  {
   "cell_type": "markdown",
   "metadata": {
    "slideshow": {
     "slide_type": "slide"
    }
   },
   "source": [
    "<a id=\"part2\"> </a>\n",
    "# Part 2: What is Data Science?\n"
   ]
  },
  {
   "cell_type": "markdown",
   "metadata": {
    "slideshow": {
     "slide_type": "subslide"
    }
   },
   "source": [
    "<a id=\"what-is-data-science\"> </a>\n",
    "\n",
    "## What is Data Science?\n",
    "\n",
    "*“Turn data into information and information into insight”*\n",
    "\n",
    "Carly Fiorina (HP)"
   ]
  },
  {
   "cell_type": "markdown",
   "metadata": {
    "slideshow": {
     "slide_type": "subslide"
    }
   },
   "source": [
    "- Answers human questions **with data**\n",
    "\n",
    "- Helps people make better decisions **with data**\n",
    "\n",
    "- Uses the scientific method to solve problems **with data**"
   ]
  },
  {
   "cell_type": "markdown",
   "metadata": {
    "slideshow": {
     "slide_type": "subslide"
    }
   },
   "source": [
    "<a id=\"ds-problems\"> </a>\n",
    "\n",
    "## Data Science Problems\n",
    "\n",
    "Example questions for Data Science:\n",
    "\n",
    "- how many products will we sell tomorrow?\n",
    "- is this picture a hot dog or not a hot dog?\n",
    "- based on this user's purchase history, which other users should we target with similar ads?\n",
    "- is there something suspicious about this credit card transaction?"
   ]
  },
  {
   "cell_type": "markdown",
   "metadata": {
    "slideshow": {
     "slide_type": "subslide"
    }
   },
   "source": [
    "### How many products will we sell tomorrow?\n",
    "\n",
    "This is a <strong style=\"color:green\">regression</strong> problem, because the answer is a number on a **continuous** range"
   ]
  },
  {
   "cell_type": "markdown",
   "metadata": {
    "slideshow": {
     "slide_type": "subslide"
    }
   },
   "source": [
    "### Is this picture a hot dog or not a hot dog?\n",
    "\n",
    "This is a <strong style=\"color:green\">classification</strong> problem, because the answer is one of a **discrete set** of answers."
   ]
  },
  {
   "cell_type": "markdown",
   "metadata": {
    "slideshow": {
     "slide_type": "subslide"
    }
   },
   "source": [
    "### Based on this user's purchase history, which other users should we target with similar ads?\n",
    "\n",
    "This is a <strong style=\"color:green\">clustering</strong> problem, because we are **grouping together** users **without knowing the groups in advance**."
   ]
  },
  {
   "cell_type": "markdown",
   "metadata": {
    "slideshow": {
     "slide_type": "subslide"
    }
   },
   "source": [
    "### Is there something suspicious about this credit card transaction?\n",
    "\n",
    "This is an <strong style=\"color:green\">anomaly detection</strong> problem, because we are looking for things that are **outside some definition of \"normal\"**."
   ]
  },
  {
   "cell_type": "markdown",
   "metadata": {
    "slideshow": {
     "slide_type": "subslide"
    }
   },
   "source": [
    "### Should we launch this ad in summer or in winter?\n",
    "\n",
    "This is an <strong style=\"color:green\">decision making</strong> problem, because we are looking to predict the best outcome out of several scenarios."
   ]
  },
  {
   "cell_type": "markdown",
   "metadata": {
    "slideshow": {
     "slide_type": "subslide"
    }
   },
   "source": [
    "### If you listened to this artist, which other artist are you likely to enjoy?\n",
    "\n",
    "This question requires a <strong style=\"color:green\">recommendation algorithm</strong>, because we want to suggest possible solutions to the problem and there is not only one answer."
   ]
  },
  {
   "cell_type": "markdown",
   "metadata": {
    "slideshow": {
     "slide_type": "subslide"
    }
   },
   "source": [
    "<a id=\"ds-problems-activity\"> </a>\n",
    "\n",
    "## Activity: Data Science Problems\n",
    "\n",
    "In pairs, think of 2 examples each of a(n):\n",
    "\n",
    "- regression task\n",
    "- classification task\n",
    "- clustering task\n",
    "- anomaly detection task\n",
    "- decision making task\n",
    "- recommendation algorithm task"
   ]
  },
  {
   "cell_type": "markdown",
   "metadata": {
    "slideshow": {
     "slide_type": "subslide"
    }
   },
   "source": [
    "Remember:\n",
    "\n",
    "- Regression = **predicting continuous outcome**\n",
    "    - e.g. predicting tomorrow's sales\n",
    "- Classification = **telling the difference between discrete outcomes**\n",
    "    - e.g. is this a picture of a hot dog or not?\n",
    "- Clustering = **finding similar things without a \"true\" answer**\n",
    "    - finding similar users based on purchases\n",
    "- Anomaly detection = **finding \"strange\" things**\n",
    "    - identifying if a credit card transaction is suspicious (fraudulent)\n",
    "- Decision making = **finding different solutions and ranking them**\n",
    "    - deciding which season is the best time to launch an ad\n",
    "- Recommendation algorithm = **finding different solutions which can satisfy the reuirements**\n",
    "    - identifying a number of solutions which relate to the known one\n"
   ]
  },
  {
   "cell_type": "markdown",
   "metadata": {
    "slideshow": {
     "slide_type": "slide"
    }
   },
   "source": [
    "<a id=\"supervised\"> </a>\n",
    "## Supervised vs. Unsupervised"
   ]
  },
  {
   "cell_type": "markdown",
   "metadata": {
    "slideshow": {
     "slide_type": "fragment"
    }
   },
   "source": [
    "**Supervised** learning means **learning from examples i.e. past data**."
   ]
  },
  {
   "cell_type": "markdown",
   "metadata": {
    "slideshow": {
     "slide_type": "fragment"
    }
   },
   "source": [
    "**Unsupervised** learning means **we don't really know any answers ahead of time**."
   ]
  },
  {
   "cell_type": "markdown",
   "metadata": {
    "slideshow": {
     "slide_type": "fragment"
    }
   },
   "source": [
    "**Regression** and **classification** are both <strong style=\"color:green\">supervised</strong>."
   ]
  },
  {
   "cell_type": "markdown",
   "metadata": {
    "slideshow": {
     "slide_type": "fragment"
    }
   },
   "source": [
    "**Clustering** and **anomaly detection** are both <strong style=\"color:green\">unsupervised</strong>."
   ]
  },
  {
   "cell_type": "markdown",
   "metadata": {
    "slideshow": {
     "slide_type": "slide"
    }
   },
   "source": [
    "<a id=\"ai\"> </a>\n",
    "## Data Science vs. Machine Learning vs. AI"
   ]
  },
  {
   "cell_type": "markdown",
   "metadata": {
    "slideshow": {
     "slide_type": "fragment"
    }
   },
   "source": [
    "- Machine learning is broadly speaking the **use of statistics to make predictions**"
   ]
  },
  {
   "cell_type": "markdown",
   "metadata": {
    "slideshow": {
     "slide_type": "fragment"
    }
   },
   "source": [
    "- Data Science **uses** machine learning to perform the necessary predictive tasks\n",
    "    - Machine learning is just one of the tools in the Data Scientist's Toolbox"
   ]
  },
  {
   "cell_type": "markdown",
   "metadata": {
    "slideshow": {
     "slide_type": "fragment"
    }
   },
   "source": [
    "- AI is a broad term, more concerned with behaviour (e.g. playing games, like AlphaGO)\n",
    "    - An area called \"Reinforcement Learning\" is applicable for example"
   ]
  },
  {
   "cell_type": "markdown",
   "metadata": {
    "slideshow": {
     "slide_type": "slide"
    }
   },
   "source": [
    "<a id=\"ds-types\"></a>\n",
    "## Types of Data Science\n",
    "\n",
    "Lots of jobs are called \"Data Science\" but they're very different!\n",
    "\n",
    "<img src=\"assets/data-science-types.png\" />"
   ]
  },
  {
   "cell_type": "markdown",
   "metadata": {
    "slideshow": {
     "slide_type": "subslide"
    }
   },
   "source": [
    "Type **A** Data Scientists will:\n",
    "\n",
    "- probably have a **PhD** in a \"traditional\" science\n",
    "- focus on **new knowledge** and research\n",
    "- have well-defined problems to work on"
   ]
  },
  {
   "cell_type": "markdown",
   "metadata": {
    "slideshow": {
     "slide_type": "subslide"
    }
   },
   "source": [
    "Type **B** Data Scientists will:\n",
    "\n",
    "- have a variety of backgrounds\n",
    "- work in a less data-savvy environment\n",
    "    - datasets are not \"clean\"\n",
    "    - questions are ambiguous\n",
    "- focus on **helping make better decisions under uncertainty**\n",
    "- work within the framework of a business and its particular needs"
   ]
  },
  {
   "cell_type": "markdown",
   "metadata": {
    "slideshow": {
     "slide_type": "slide"
    }
   },
   "source": [
    "<a id=\"data-roles\"> </a>\n",
    "\n",
    "## Data Roles\n",
    "\n",
    "<img src=\"assets/data-roles.png\" />"
   ]
  },
  {
   "cell_type": "markdown",
   "metadata": {
    "slideshow": {
     "slide_type": "slide"
    }
   },
   "source": [
    "<a id=\"ds-skills\"> </a>\n",
    "\n",
    "## Skills of a Data Scientist\n",
    "\n",
    "<img src=\"assets/ds-venn.png\" />"
   ]
  },
  {
   "cell_type": "markdown",
   "metadata": {
    "slideshow": {
     "slide_type": "subslide"
    }
   },
   "source": [
    "### \"Hacking Skills\"\n",
    "\n",
    "- knowing how to write code\n",
    "- enough code to automate boring tasks\n",
    "- can use version control\n",
    "- *optional bonuses*:\n",
    "    - advanced programming (e.g. \"object-oriented\" or multiple programming languages)\n",
    "    - web development skills (HTML, CSS)"
   ]
  },
  {
   "cell_type": "markdown",
   "metadata": {
    "slideshow": {
     "slide_type": "subslide"
    }
   },
   "source": [
    "### \"Maths & Stats Knowledge\"\n",
    "\n",
    "- comfortable with descriptive statistics\n",
    "- understanding hypothesis testing and experimental design\n",
    "- knowledge of framework of \"how to predict things\"\n",
    "- understanding of probability\n",
    "- *optional bonuses*:\n",
    "    - advanced machine learning\n",
    "    - Bayesian statistics"
   ]
  },
  {
   "cell_type": "markdown",
   "metadata": {
    "slideshow": {
     "slide_type": "subslide"
    }
   },
   "source": [
    "### \"Substantive Expertise\"\n",
    "\n",
    "- understands the domain they're in enough to \"speak the language\"\n",
    "- can think like a customer\n",
    "- communication skills\n",
    "    - PowerPoint\n",
    "    - speaking to both technical and non-technical people\n",
    "- *optional bonuses*:\n",
    "    - deeper understanding of a domain\n",
    "    - public speaking"
   ]
  },
  {
   "cell_type": "markdown",
   "metadata": {
    "slideshow": {
     "slide_type": "slide"
    }
   },
   "source": [
    "# BREAK\n",
    "\n",
    "## During the break: Data Science skills\n",
    "\n",
    "Think about what parts of the Venn diagram you're strongest in. What parts do you feel you need to learn most about?\n",
    "\n",
    "During the break chat to someone for a couple of minutes about this."
   ]
  },
  {
   "cell_type": "markdown",
   "metadata": {
    "slideshow": {
     "slide_type": "slide"
    }
   },
   "source": [
    "<a id=\"part3\"> </a>\n",
    "\n",
    "# Part 3: Data Science Workflows"
   ]
  },
  {
   "cell_type": "markdown",
   "metadata": {
    "slideshow": {
     "slide_type": "subslide"
    }
   },
   "source": [
    "<a id=\"simple-workflow\"> </a>\n",
    "\n",
    "## A simple workflow\n",
    "\n",
    "1. Business Question\n",
    "\n",
    "2. Data Question\n",
    "\n",
    "3. Data Answer\n",
    "\n",
    "4. Business Answer\n",
    "\n",
    "*Credit: Renee Teate, [Becoming a Data Scientist](http://becomingadatascientist.com)*"
   ]
  },
  {
   "cell_type": "markdown",
   "metadata": {
    "slideshow": {
     "slide_type": "subslide"
    }
   },
   "source": [
    "### Example\n",
    "\n",
    "#### 1. Business Question\n",
    "\n",
    "\"Is it better to hold a sale of my pork pies in June or July?\""
   ]
  },
  {
   "cell_type": "markdown",
   "metadata": {
    "slideshow": {
     "slide_type": "fragment"
    }
   },
   "source": [
    "#### 2. Data Question\n",
    "\n",
    "\"In past years, did June or July have higher demand for pork pies?\""
   ]
  },
  {
   "cell_type": "markdown",
   "metadata": {
    "slideshow": {
     "slide_type": "fragment"
    }
   },
   "source": [
    "#### 3. Data Answer\n",
    "\n",
    "\"The average number of pork pies sold over the last 5 years in June was 25% higher than July.\""
   ]
  },
  {
   "cell_type": "markdown",
   "metadata": {
    "slideshow": {
     "slide_type": "fragment"
    }
   },
   "source": [
    "#### 4. Business Answer\n",
    "\n",
    "\"I recommend holding a sale in June based on seeing higher sales in the last 5 years.\""
   ]
  },
  {
   "cell_type": "markdown",
   "metadata": {
    "slideshow": {
     "slide_type": "fragment"
    }
   },
   "source": [
    "<a id=\"complex-workflow\"></a>\n",
    "## A More Complex Data Science Workflow\n",
    "\n",
    "---\n",
    "\n",
    "- **Frame**: Develop a hypothesis-driven approach to your analysis.\n",
    "- **Prepare**: Select, import, explore, and clean your data.\n",
    "- **Analyse**: Structure, visualise, and complete your analysis.\n",
    "- **Interpret**: Derive recommendations and business decisions from your data.\n",
    "- **Communicate**: Present (edited) insights from your data to different audiences."
   ]
  },
  {
   "cell_type": "markdown",
   "metadata": {
    "slideshow": {
     "slide_type": "subslide"
    }
   },
   "source": [
    "![](./assets/Data-Framework-White-BG.png)"
   ]
  },
  {
   "cell_type": "markdown",
   "metadata": {
    "slideshow": {
     "slide_type": "subslide"
    }
   },
   "source": [
    "#### Notes about this workflow\n",
    "\n",
    "_Remember, these steps are not hard-set rules; instead, think of them as problem-solving guidelines._\n",
    "\n",
    "\n",
    "- Some projects may not require every step.\n",
    "- These steps are iterative; it's normal to go back and repeat certain steps a few times in a row.\n",
    "- The process is cyclical; after completing the process, you may restart it on new findings."
   ]
  },
  {
   "cell_type": "markdown",
   "metadata": {
    "slideshow": {
     "slide_type": "slide"
    }
   },
   "source": [
    "<a id=\"ds-workflow-activity\"> </a>\n",
    "\n",
    "## Activity: Data Science Workflow\n",
    "\n",
    "You work for a real estate company who want to use their data to:\n",
    "\n",
    "<ul style=\"list-style-type: none\">\n",
    "    <li>a) accurately predict the sale price of a house</li>\n",
    "    <li>b) predict whether someone will default on their mortgage</li>\n",
    "</ul>"
   ]
  },
  {
   "cell_type": "markdown",
   "metadata": {
    "slideshow": {
     "slide_type": "fragment"
    }
   },
   "source": [
    "Reminder about the workflow:\n",
    "\n",
    "    Frame -> Prepare -> Analyse -> Interpret -> Communicate"
   ]
  },
  {
   "cell_type": "markdown",
   "metadata": {
    "slideshow": {
     "slide_type": "subslide"
    }
   },
   "source": [
    "In groups, discuss what the Data Science workflow might look like for these two tasks, specifically:\n",
    "\n",
    "1. Frame & Prepare\n",
    "    - what sort of data would you want to collect on houses for task `a`?\n",
    "    - and for `b`?\n",
    "2. Analyse\n",
    "    - what category of Data Science task (regression, classification, clustering, anomaly detection) are `a` and `b`?\n",
    "    - what assocations would you expect to see?\n",
    "    - what would you expect to be strongly predictive of house prices and whether someone will default?\n",
    "3. Interpret & Communicate\n",
    "    - how could a business take action based on your findings?\n",
    "    - what decisions would these two predictive models help make?"
   ]
  },
  {
   "cell_type": "markdown",
   "metadata": {
    "slideshow": {
     "slide_type": "slide"
    }
   },
   "source": [
    "<a id=\"part4\"> </a>\n",
    "\n",
    "# Part 4: Your Development Environment\n",
    "\n",
    "## Checklist\n",
    "\n",
    "- Have you installed **Anaconda**?\n",
    "- **Git Bash** for Windows users\n",
    "- Have you got access to GitHub Enterprise [https://git.generalassemb.ly/](https://git.generalassemb.ly/)?\n",
    "- Are you on Slack [https://ga-ldn-datascience.slack.com](https://ga-ldn-datascience.slack.com)?"
   ]
  },
  {
   "cell_type": "markdown",
   "metadata": {
    "slideshow": {
     "slide_type": "subslide"
    }
   },
   "source": [
    "#### Exercise\n",
    "\n",
    "** Preparing to code in Python **\n",
    "\n",
    "- Open a terminal / Git Bash / command prompt\n",
    "- type `jupyter notebook`: your browser should open with Jupyter\n",
    "- in Jupyter, type `print(\"Hello, world!\")`\n",
    "- if that worked, you're all set!"
   ]
  },
  {
   "cell_type": "markdown",
   "metadata": {
    "slideshow": {
     "slide_type": "subslide"
    }
   },
   "source": [
    "** Accessing the course materials **\n",
    "\n",
    "- Can you log in to [GitHub Enterprise](https://git.generalassemb.ly)?\n",
    "    - if so, can you access the [course repo](https://git.generalassemb.ly/davidasboth/dat23)?\n",
    "    - if you answer **no** to either of those, tell us!"
   ]
  },
  {
   "cell_type": "markdown",
   "metadata": {
    "slideshow": {
     "slide_type": "subslide"
    }
   },
   "source": [
    "** Accessing Slack **\n",
    "\n",
    "- Can you log in to [Slack](https://ga-ldn-datascience.slack.com)?\n",
    "    - if not, let us know!"
   ]
  },
  {
   "cell_type": "markdown",
   "metadata": {
    "slideshow": {
     "slide_type": "slide"
    }
   },
   "source": [
    "<a id=\"what-next\"> </a>\n",
    "# What next?\n",
    "\n",
    "- In GitHub Enterprise, you can have a read of, and a think about, a more detailed Data Science workflow case study\n",
    "    - it's called `data_science_workflow_example`\n",
    "    - it's a Jupyter notebook but you can view it in your browser\n",
    "    - these slides are also available\n",
    "- Continue your pre-work (if applicable)\n",
    "- On Thursday: `Python`"
   ]
  }
 ],
 "metadata": {
  "anaconda-cloud": {},
  "celltoolbar": "Slideshow",
  "kernelspec": {
   "display_name": "Python [conda env:anaconda3]",
   "language": "python",
   "name": "conda-env-anaconda3-py"
  },
  "language_info": {
   "codemirror_mode": {
    "name": "ipython",
    "version": 3
   },
   "file_extension": ".py",
   "mimetype": "text/x-python",
   "name": "python",
   "nbconvert_exporter": "python",
   "pygments_lexer": "ipython3",
   "version": "3.6.5"
  }
 },
 "nbformat": 4,
 "nbformat_minor": 2
}
