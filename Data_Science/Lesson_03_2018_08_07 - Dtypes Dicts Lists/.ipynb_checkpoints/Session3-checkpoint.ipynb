{
 "cells": [
  {
   "cell_type": "code",
   "execution_count": 3,
   "metadata": {},
   "outputs": [
    {
     "name": "stdout",
     "output_type": "stream",
     "text": [
      "[{'name': 'John', 'surname': 'Smith', 'age': 44, 'nationality': 'English'}, {'name': 'Jurgen', 'surname': 'Prits', 'age': 21, 'nationality': 'German'}]\n"
     ]
    }
   ],
   "source": [
    "#1st approach, list of dictionaries\n",
    "first_entry ={\n",
    "    \"name\":\"John\",\n",
    "    \"surname\": \"Smith\",\n",
    "    \"age\":44,\n",
    "    \"nationality\":\"English\"\n",
    "}\n",
    "\n",
    "second_entry ={\n",
    "    \"name\":\"Jurgen\",\n",
    "    \"surname\": \"Prits\",\n",
    "    \"age\":21,\n",
    "    \"nationality\":\"German\"\n",
    "}\n",
    "\n",
    "list_of_names=[first_entry,second_entry]\n",
    "print (list_of_names)"
   ]
  },
  {
   "cell_type": "code",
   "execution_count": null,
   "metadata": {},
   "outputs": [],
   "source": [
    "#second approach, dic of list\n",
    "\n",
    "dict_of_names={\n",
    "    \"name\":[\"John\", \"Jurgen\"],\n",
    "    \"surname\":[\"Smith\",\"Fritz\"],\n",
    "    \"age\":[44,21],\n",
    "    \"nationality\":[\"English\",\"German\"]\n",
    "}\n",
    "\n",
    "print (dict_of_names)"
   ]
  }
 ],
 "metadata": {
  "kernelspec": {
   "display_name": "Python 3",
   "language": "python",
   "name": "python3"
  },
  "language_info": {
   "codemirror_mode": {
    "name": "ipython",
    "version": 3
   },
   "file_extension": ".py",
   "mimetype": "text/x-python",
   "name": "python",
   "nbconvert_exporter": "python",
   "pygments_lexer": "ipython3",
   "version": "3.6.5"
  }
 },
 "nbformat": 4,
 "nbformat_minor": 2
}
