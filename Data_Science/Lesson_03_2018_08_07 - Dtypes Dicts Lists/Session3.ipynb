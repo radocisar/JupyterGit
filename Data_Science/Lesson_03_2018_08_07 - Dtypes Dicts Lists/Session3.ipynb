{
 "cells": [
  {
   "cell_type": "code",
   "execution_count": 3,
   "metadata": {},
   "outputs": [
    {
     "name": "stdout",
     "output_type": "stream",
     "text": [
      "[{'name': 'John', 'surname': 'Smith', 'age': 44, 'nationality': 'English'}, {'name': 'Jurgen', 'surname': 'Prits', 'age': 21, 'nationality': 'German'}]\n"
     ]
    }
   ],
   "source": [
    "#1st approach, list of dictionaries\n",
    "first_entry ={\n",
    "    \"name\":\"John\",\n",
    "    \"surname\": \"Smith\",\n",
    "    \"age\":44,\n",
    "    \"nationality\":\"English\"\n",
    "}\n",
    "\n",
    "second_entry ={\n",
    "    \"name\":\"Jurgen\",\n",
    "    \"surname\": \"Prits\",\n",
    "    \"age\":21,\n",
    "    \"nationality\":\"German\"\n",
    "}\n",
    "\n",
    "list_of_names=[first_entry,second_entry]\n",
    "print (list_of_names)"
   ]
  },
  {
   "cell_type": "code",
   "execution_count": 4,
   "metadata": {},
   "outputs": [
    {
     "name": "stdout",
     "output_type": "stream",
     "text": [
      "{'name': ['John', 'Jurgen'], 'surname': ['Smith', 'Fritz'], 'age': [44, 21], 'nationality': ['English', 'German']}\n"
     ]
    }
   ],
   "source": [
    "#second approach, dic of list\n",
    "\n",
    "dict_of_names={\n",
    "    \"name\":[\"John\", \"Jurgen\"],\n",
    "    \"surname\":[\"Smith\",\"Fritz\"],\n",
    "    \"age\":[44,21],\n",
    "    \"nationality\":[\"English\",\"German\"]\n",
    "}\n",
    "\n",
    "print (dict_of_names)"
   ]
  },
  {
   "cell_type": "code",
   "execution_count": 9,
   "metadata": {},
   "outputs": [
    {
     "name": "stdout",
     "output_type": "stream",
     "text": [
      "240\n",
      "80\n"
     ]
    }
   ],
   "source": [
    "import numpy as np\n",
    "import sys\n",
    "print (sys.getsizeof(dict_of_names))\n",
    "print (sys.getsizeof(list_of_names))"
   ]
  },
  {
   "cell_type": "code",
   "execution_count": 12,
   "metadata": {},
   "outputs": [],
   "source": [
    "list2=[2,3,4,5]\n",
    "integer_number=45"
   ]
  },
  {
   "cell_type": "code",
   "execution_count": 16,
   "metadata": {},
   "outputs": [
    {
     "name": "stdout",
     "output_type": "stream",
     "text": [
      "<class 'int'>\n",
      "13 22\n"
     ]
    }
   ],
   "source": [
    "print(type(integer_number))\n",
    "a=7+6\n",
    "b=87-65\n",
    "print (a,b)\n"
   ]
  },
  {
   "cell_type": "code",
   "execution_count": 19,
   "metadata": {},
   "outputs": [],
   "source": [
    "a_int=45\n",
    "a_float=5.6\n",
    "type(a_int)\n",
    "type(a_float)\n",
    "c=int(a_float)"
   ]
  },
  {
   "cell_type": "code",
   "execution_count": 20,
   "metadata": {},
   "outputs": [
    {
     "data": {
      "text/plain": [
       "str"
      ]
     },
     "execution_count": 20,
     "metadata": {},
     "output_type": "execute_result"
    }
   ],
   "source": [
    "x_string=\"a\"\n",
    "type(x_string)"
   ]
  },
  {
   "cell_type": "code",
   "execution_count": 26,
   "metadata": {},
   "outputs": [
    {
     "name": "stdout",
     "output_type": "stream",
     "text": [
      "hello hello\n",
      "hello world\n"
     ]
    }
   ],
   "source": [
    "string_a=\"hello\"\n",
    "string_b=string_a\n",
    "print(string_a,string_b)\n",
    "string_a+=\" world\"\n",
    "print(string_a)"
   ]
  },
  {
   "cell_type": "code",
   "execution_count": 29,
   "metadata": {},
   "outputs": [
    {
     "name": "stdout",
     "output_type": "stream",
     "text": [
      "hello test\n"
     ]
    }
   ],
   "source": [
    "#replace an element of the stirng\n",
    "s=\"hello world\"\n",
    "s2=s.replace(\"world\",\"test\")\n",
    "print(s2)"
   ]
  },
  {
   "cell_type": "code",
   "execution_count": 34,
   "metadata": {},
   "outputs": [
    {
     "data": {
      "text/plain": [
       "<method 'replace' of 'str' objects>"
      ]
     },
     "execution_count": 34,
     "metadata": {},
     "output_type": "execute_result"
    }
   ],
   "source": [
    "example=\"We love Python and we love Javascript\"\n",
    "example_2=example.replace(\"love\",\"hate\",1)\n",
    "example_2\n",
    "str.replace"
   ]
  },
  {
   "cell_type": "code",
   "execution_count": 36,
   "metadata": {},
   "outputs": [
    {
     "data": {
      "text/plain": [
       "'hel'"
      ]
     },
     "execution_count": 36,
     "metadata": {},
     "output_type": "execute_result"
    }
   ],
   "source": [
    "s=\"hello\"\n",
    "s[0:3]"
   ]
  },
  {
   "cell_type": "code",
   "execution_count": 43,
   "metadata": {},
   "outputs": [
    {
     "name": "stdout",
     "output_type": "stream",
     "text": [
      "h\n",
      "o\n",
      "he\n",
      "HelloWorld\n",
      "You rolled a3.\n"
     ]
    }
   ],
   "source": [
    "s=\"hello\"\n",
    "print(s[:1])\n",
    "print(s[-1])\n",
    "print(s[:2])\n",
    "print('Hello'+'World')\n",
    "dice_roll=3\n",
    "print('You rolled a'+str(dice_roll)+\".\")"
   ]
  },
  {
   "cell_type": "code",
   "execution_count": 46,
   "metadata": {},
   "outputs": [
    {
     "name": "stdout",
     "output_type": "stream",
     "text": [
      "Value 1 is 2 and value 2 is  3\n"
     ]
    }
   ],
   "source": [
    "value_1=2\n",
    "value_2=3\n",
    "print(f\"Value 1 is {value_1} and value 2 is  {value_2}\")"
   ]
  },
  {
   "cell_type": "code",
   "execution_count": 58,
   "metadata": {},
   "outputs": [
    {
     "data": {
      "text/plain": [
       "2"
      ]
     },
     "execution_count": 58,
     "metadata": {},
     "output_type": "execute_result"
    }
   ],
   "source": [
    "#insert vs append\n",
    "list_of_animals=[]\n",
    "list_of_animals.append(\"dog\")\n",
    "list_of_animals.append(\"deer\")\n",
    "#list_of_animals.append([\"cat\",\"mouse\"])\n",
    "list_of_animals.insert(2,\"bird\")\n",
    "list_of_animals.index(\"bird\")"
   ]
  },
  {
   "cell_type": "code",
   "execution_count": 53,
   "metadata": {},
   "outputs": [
    {
     "data": {
      "text/plain": [
       "'deer'"
      ]
     },
     "execution_count": 53,
     "metadata": {},
     "output_type": "execute_result"
    }
   ],
   "source": [
    "list_of_animals.pop(1)"
   ]
  },
  {
   "cell_type": "code",
   "execution_count": 60,
   "metadata": {},
   "outputs": [
    {
     "data": {
      "text/plain": [
       "2.0"
      ]
     },
     "execution_count": 60,
     "metadata": {},
     "output_type": "execute_result"
    }
   ],
   "source": [
    "#slicing the values\n",
    "l=[2.0,\"a\"]\n",
    "l[0]\n"
   ]
  },
  {
   "cell_type": "code",
   "execution_count": 67,
   "metadata": {},
   "outputs": [
    {
     "data": {
      "text/plain": [
       "[0, 2, 4, 6, 8]"
      ]
     },
     "execution_count": 67,
     "metadata": {},
     "output_type": "execute_result"
    }
   ],
   "source": [
    "#ranges - this determins the steps. Could be useful in the foor loop\n",
    "range_list=range(0,10,2)\n",
    "range_list\n",
    "list(range_list)"
   ]
  },
  {
   "cell_type": "code",
   "execution_count": 75,
   "metadata": {},
   "outputs": [
    {
     "data": {
      "text/plain": [
       "8"
      ]
     },
     "execution_count": 75,
     "metadata": {},
     "output_type": "execute_result"
    }
   ],
   "source": [
    "list_of_animals.append(\"deer\")\n",
    "list_of_animals.append(\"lion\")\n",
    "list_of_animals\n",
    "list_of_animals.count(\"deer\")"
   ]
  },
  {
   "cell_type": "code",
   "execution_count": 77,
   "metadata": {},
   "outputs": [],
   "source": [
    "list_of_countries=[\"Austria\",\"Australia\",\"Bangladesh\",\"Cambodia\"]"
   ]
  },
  {
   "cell_type": "code",
   "execution_count": 87,
   "metadata": {},
   "outputs": [
    {
     "data": {
      "text/plain": [
       "['dog',\n",
       " 'deer',\n",
       " 'bird',\n",
       " 'deer',\n",
       " 'deer',\n",
       " 'lion',\n",
       " 'deer',\n",
       " 'lion',\n",
       " 'deer',\n",
       " 'lion',\n",
       " 'deer',\n",
       " 'lion',\n",
       " 'deer',\n",
       " 'lion',\n",
       " 'deer',\n",
       " 'lion',\n",
       " 'Austria',\n",
       " 'Australia',\n",
       " 'Bangladesh',\n",
       " 'Cambodia']"
      ]
     },
     "execution_count": 87,
     "metadata": {},
     "output_type": "execute_result"
    }
   ],
   "source": [
    "#concatenating 2 lists together\n",
    "list_of_all=list_of_animals+list_of_countries\n",
    "list_of_all"
   ]
  },
  {
   "cell_type": "code",
   "execution_count": 89,
   "metadata": {},
   "outputs": [
    {
     "name": "stdout",
     "output_type": "stream",
     "text": [
      "['bird', 'deer', 'deer', 'lion', 'deer', 'lion', 'deer', 'lion', 'deer', 'lion', 'deer', 'lion', 'deer', 'lion', 'Austria', 'Australia', 'Bangladesh', 'Cambodia']\n"
     ]
    }
   ],
   "source": [
    "del list_of_all[0]\n",
    "print (list_of_all)"
   ]
  },
  {
   "cell_type": "code",
   "execution_count": 94,
   "metadata": {},
   "outputs": [
    {
     "name": "stdout",
     "output_type": "stream",
     "text": [
      "x=10\n"
     ]
    }
   ],
   "source": [
    "#unpacking the tuple with .format function\n",
    "point=(10,20)\n",
    "x,y=point\n",
    "print(\"x={}\".format(x))"
   ]
  },
  {
   "cell_type": "code",
   "execution_count": 5,
   "metadata": {},
   "outputs": [
    {
     "data": {
      "text/plain": [
       "{'China': 'Beijing', 'USA': 'Washington'}"
      ]
     },
     "execution_count": 5,
     "metadata": {},
     "output_type": "execute_result"
    }
   ],
   "source": [
    "#the keys stay the same but the values are changeable, You can only have one occurence of a key in dictionary but all the values \n",
    "#could be the same\n",
    "dict_of_capitals={\n",
    "    \"China\":\"Beijing\",\n",
    "    \"USA\":\"Washington\"\n",
    "}\n",
    "dict_of_capitals"
   ]
  },
  {
   "cell_type": "code",
   "execution_count": 6,
   "metadata": {},
   "outputs": [
    {
     "data": {
      "text/plain": [
       "'Beijing'"
      ]
     },
     "execution_count": 6,
     "metadata": {},
     "output_type": "execute_result"
    }
   ],
   "source": [
    "#can be called by the keys not values\n",
    "dict_of_capitals[\"China\"]"
   ]
  },
  {
   "cell_type": "code",
   "execution_count": 10,
   "metadata": {},
   "outputs": [
    {
     "data": {
      "text/plain": [
       "{'China': 'Beijing',\n",
       " 'USA': 'Washington',\n",
       " 'South Africa': 'Cape Town',\n",
       " 45: '4.5'}"
      ]
     },
     "execution_count": 10,
     "metadata": {},
     "output_type": "execute_result"
    }
   ],
   "source": [
    "#adding keys to dictionaries\n",
    "dict_of_capitals[\"South Africa\"]=\"Cape Town\"\n",
    "dict_of_capitals"
   ]
  },
  {
   "cell_type": "code",
   "execution_count": 11,
   "metadata": {},
   "outputs": [
    {
     "data": {
      "text/plain": [
       "{'China': 'Beijing',\n",
       " 'USA': 'Washington',\n",
       " 'South Africa': 'Pretoria',\n",
       " 45: '4.5'}"
      ]
     },
     "execution_count": 11,
     "metadata": {},
     "output_type": "execute_result"
    }
   ],
   "source": [
    "#chaning the values\n",
    "dict_of_capitals[\"South Africa\"]=\"Pretoria\"\n",
    "dict_of_capitals"
   ]
  },
  {
   "cell_type": "code",
   "execution_count": 12,
   "metadata": {},
   "outputs": [
    {
     "data": {
      "text/plain": [
       "{'China': 'Beijing',\n",
       " 'USA': 'Washington',\n",
       " 'South Africa': 'Pretoria',\n",
       " 45: '4.5'}"
      ]
     },
     "execution_count": 12,
     "metadata": {},
     "output_type": "execute_result"
    }
   ],
   "source": [
    "dict_of_capitals[45]=\"4.5\"\n",
    "dict_of_capitals"
   ]
  },
  {
   "cell_type": "code",
   "execution_count": 17,
   "metadata": {},
   "outputs": [
    {
     "data": {
      "text/plain": [
       "True"
      ]
     },
     "execution_count": 17,
     "metadata": {},
     "output_type": "execute_result"
    }
   ],
   "source": [
    "#listing the items, checking if a key is in dictionary or not\n",
    "list(dict_of_capitals)\n",
    "\"Nigeria\" in dict_of_capitals\n",
    "\"China\" in dict_of_capitals"
   ]
  },
  {
   "cell_type": "code",
   "execution_count": null,
   "metadata": {},
   "outputs": [],
   "source": [
    "from math import *\n",
    "\n"
   ]
  }
 ],
 "metadata": {
  "kernelspec": {
   "display_name": "Python 3",
   "language": "python",
   "name": "python3"
  },
  "language_info": {
   "codemirror_mode": {
    "name": "ipython",
    "version": 3
   },
   "file_extension": ".py",
   "mimetype": "text/x-python",
   "name": "python",
   "nbconvert_exporter": "python",
   "pygments_lexer": "ipython3",
   "version": "3.6.5"
  }
 },
 "nbformat": 4,
 "nbformat_minor": 2
}
