{
 "cells": [
  {
   "cell_type": "markdown",
   "metadata": {
    "slideshow": {
     "slide_type": "slide"
    }
   },
   "source": [
    "<img src=\"http://imgur.com/1ZcRyrc.png\" style=\"float: left; margin: 20px; height: 55px\">\n",
    "\n",
    "# Introduction to Statistical Inference\n",
    "\n",
    "---"
   ]
  },
  {
   "cell_type": "markdown",
   "metadata": {
    "slideshow": {
     "slide_type": "slide"
    }
   },
   "source": [
    "## Learning Objectives / Agenda"
   ]
  },
  {
   "cell_type": "markdown",
   "metadata": {
    "slideshow": {
     "slide_type": "fragment"
    }
   },
   "source": [
    "#### How much does my data actually tell me about the world?\n",
    "\n",
    "- Define a confidence interval and a p-value\n",
    "- Understand the theory of hypothesis testing\n",
    "- Know how to perform hypothesis tests and how to calculate confidence intervals and p-values using Python\n",
    "- Articulate the main considerations of study design and the problem with p-values"
   ]
  },
  {
   "cell_type": "markdown",
   "metadata": {
    "slideshow": {
     "slide_type": "fragment"
    }
   },
   "source": [
    "#### Why do things happen and how do we know?\n",
    "\n",
    "- Define correlation and calculate it using Python\n",
    "- Create appropriate plots to visualise correlations with Python\n",
    "- Describe the difference between correlation and causation\n",
    "- Articulate some ways to test for causation"
   ]
  },
  {
   "cell_type": "markdown",
   "metadata": {
    "slideshow": {
     "slide_type": "slide"
    }
   },
   "source": [
    "# Part 1\n",
    "\n",
    "## How much does my data actually tell me about the world?"
   ]
  },
  {
   "cell_type": "markdown",
   "metadata": {
    "slideshow": {
     "slide_type": "subslide"
    }
   },
   "source": [
    "Imagine you want to know the average height of people in your school."
   ]
  },
  {
   "cell_type": "markdown",
   "metadata": {
    "slideshow": {
     "slide_type": "fragment"
    }
   },
   "source": [
    "Since it's not practical to measure all the people in your school, you **sample** 100 people at **random** and measure their heights. The mean and standard deviation of these heights are 1.5m and 0.1m."
   ]
  },
  {
   "cell_type": "markdown",
   "metadata": {
    "slideshow": {
     "slide_type": "fragment"
    }
   },
   "source": [
    "- The size of the sample is very important because this determines the standard deviation\n",
    "- The randomness of the sample is very important to avoid bias in the calculation\n",
    "\n",
    "Based on the choice of sample size and randomness, you'll be more or less confident of your data"
   ]
  },
  {
   "cell_type": "markdown",
   "metadata": {
    "slideshow": {
     "slide_type": "fragment"
    }
   },
   "source": [
    "**How confident are you that people are 1.5m tall on average?**"
   ]
  },
  {
   "cell_type": "markdown",
   "metadata": {
    "slideshow": {
     "slide_type": "subslide"
    }
   },
   "source": [
    "Confidence intervals give you a tool to measure that"
   ]
  },
  {
   "cell_type": "markdown",
   "metadata": {
    "slideshow": {
     "slide_type": "fragment"
    }
   },
   "source": [
    "They're \"intervals\" because your confidence is tied to a **range** of values"
   ]
  },
  {
   "cell_type": "markdown",
   "metadata": {
    "slideshow": {
     "slide_type": "fragment"
    }
   },
   "source": [
    "You'd report something like *\"based on my sample, people are on average between 1.3m and 1.7m tall, with a 95% confidence.\"*"
   ]
  },
  {
   "cell_type": "markdown",
   "metadata": {
    "slideshow": {
     "slide_type": "fragment"
    }
   },
   "source": [
    "Where do those numbers come from?"
   ]
  },
  {
   "cell_type": "code",
   "execution_count": 3,
   "metadata": {
    "slideshow": {
     "slide_type": "subslide"
    }
   },
   "outputs": [
    {
     "data": {
      "text/plain": [
       "(1.3040036015459946, 1.6959963984540054)"
      ]
     },
     "execution_count": 3,
     "metadata": {},
     "output_type": "execute_result"
    }
   ],
   "source": [
    "from scipy import stats\n",
    "\n",
    "stats.norm.interval(0.95, loc=1.5, scale=0.1)"
   ]
  },
  {
   "cell_type": "markdown",
   "metadata": {
    "slideshow": {
     "slide_type": "subslide"
    }
   },
   "source": [
    "What does changing the 95% to 90% or 99% do?"
   ]
  },
  {
   "cell_type": "code",
   "execution_count": 2,
   "metadata": {
    "slideshow": {
     "slide_type": "subslide"
    }
   },
   "outputs": [
    {
     "name": "stdout",
     "output_type": "stream",
     "text": [
      "90% CI: (1.3355146373048528, 1.6644853626951472)\n",
      "99% CI: (1.24241706964511, 1.75758293035489)\n"
     ]
    }
   ],
   "source": [
    "from scipy import stats\n",
    "\n",
    "print(\"90% CI:\", stats.norm.interval(0.9, loc=1.5, scale=0.1))\n",
    "print(\"99% CI:\", stats.norm.interval(0.99, loc=1.5, scale=0.1))"
   ]
  },
  {
   "cell_type": "markdown",
   "metadata": {
    "slideshow": {
     "slide_type": "subslide"
    }
   },
   "source": [
    "What if we have a confidence interval of 10% or 99.999%?"
   ]
  },
  {
   "cell_type": "code",
   "execution_count": 3,
   "metadata": {
    "slideshow": {
     "slide_type": "fragment"
    }
   },
   "outputs": [
    {
     "name": "stdout",
     "output_type": "stream",
     "text": [
      "10% CI: (1.4874338653144925, 1.5125661346855075)\n",
      "99.999% CI: (1.0582826586529994, 1.9417173413467606)\n"
     ]
    }
   ],
   "source": [
    "print(\"10% CI:\", stats.norm.interval(0.10, loc=1.5, scale=0.1))\n",
    "print(\"99.999% CI:\", stats.norm.interval(0.99999, loc=1.5, scale=0.1))"
   ]
  },
  {
   "cell_type": "markdown",
   "metadata": {
    "slideshow": {
     "slide_type": "fragment"
    }
   },
   "source": [
    "What does this interval mean exactly?"
   ]
  },
  {
   "cell_type": "markdown",
   "metadata": {
    "slideshow": {
     "slide_type": "subslide"
    }
   },
   "source": [
    "- For a 10% confidence, we can say that 10% of our samples lie between 1.48m and 1.51m\n",
    "- For a 90% confidence, we can say that 90% of our samples lie between 1.33m and 1.66m\n",
    "\n",
    "...etc"
   ]
  },
  {
   "cell_type": "markdown",
   "metadata": {
    "slideshow": {
     "slide_type": "fragment"
    }
   },
   "source": [
    "...but\n",
    "\n",
    "if you are only confident about 10% of your samples, the remaining 90% could be very spread or very central, you have no way of knowing"
   ]
  },
  {
   "cell_type": "markdown",
   "metadata": {
    "slideshow": {
     "slide_type": "fragment"
    }
   },
   "source": [
    "So, the higher the confidence, the higher chance you have to correctly predict the range of your data"
   ]
  },
  {
   "cell_type": "markdown",
   "metadata": {
    "slideshow": {
     "slide_type": "subslide"
    }
   },
   "source": [
    "http://rpsychologist.com/d3/CI/"
   ]
  },
  {
   "cell_type": "markdown",
   "metadata": {
    "slideshow": {
     "slide_type": "slide"
    }
   },
   "source": [
    "## How sure can I be of my findings?"
   ]
  },
  {
   "cell_type": "markdown",
   "metadata": {
    "slideshow": {
     "slide_type": "subslide"
    }
   },
   "source": [
    "In doing science, we always want to err on the side of being sceptical."
   ]
  },
  {
   "cell_type": "markdown",
   "metadata": {
    "slideshow": {
     "slide_type": "fragment"
    }
   },
   "source": [
    "If you measure a difference between things, or an effect of X on Y, you want to assume it's due to chance."
   ]
  },
  {
   "cell_type": "markdown",
   "metadata": {
    "slideshow": {
     "slide_type": "fragment"
    }
   },
   "source": [
    "Then you have tools to try and suggest otherwise."
   ]
  },
  {
   "cell_type": "markdown",
   "metadata": {
    "slideshow": {
     "slide_type": "subslide"
    }
   },
   "source": [
    "### Example\n",
    "\n",
    "I want to find out if there's a significant height difference between horse jockeys and players from the NBA."
   ]
  },
  {
   "cell_type": "markdown",
   "metadata": {
    "slideshow": {
     "slide_type": "fragment"
    }
   },
   "source": [
    "The way we frame this in hypothesis testing is we have **two** hypotheses."
   ]
  },
  {
   "cell_type": "markdown",
   "metadata": {
    "slideshow": {
     "slide_type": "fragment"
    }
   },
   "source": [
    "The **null** hypothesis $H_0$, which assumes there is **no** difference (or no effect of X on Y)"
   ]
  },
  {
   "cell_type": "markdown",
   "metadata": {
    "slideshow": {
     "slide_type": "fragment"
    }
   },
   "source": [
    "The **alternate** hypothesis $H_1$, which assumes there **is** a difference (or an effect)"
   ]
  },
  {
   "cell_type": "markdown",
   "metadata": {
    "slideshow": {
     "slide_type": "fragment"
    }
   },
   "source": [
    "What are my hypotheses in this case?"
   ]
  },
  {
   "cell_type": "markdown",
   "metadata": {
    "slideshow": {
     "slide_type": "subslide"
    }
   },
   "source": [
    "$H_0$: there is no difference between jockeys and basketball players.\n",
    "\n",
    "$H_1$: there **is** such a difference."
   ]
  },
  {
   "cell_type": "markdown",
   "metadata": {
    "slideshow": {
     "slide_type": "fragment"
    }
   },
   "source": [
    "Then we need to decide on a **significance level**.\n",
    "\n",
    "In statistics this is called **p-value**, which describes the probability of the null hypotesis:\n",
    "- if the p-value is small (< 0.05), the null hypotesis is likely to be wrong\n",
    "- if the p-value is not small enough (> 0.05), the null hypotesis is not necessarily wrong, hence it cannot be rejected"
   ]
  },
  {
   "cell_type": "markdown",
   "metadata": {
    "slideshow": {
     "slide_type": "subslide"
    }
   },
   "source": [
    "For comparing the means of two groups we can use a t-test.\n",
    "\n",
    "https://towardsdatascience.com/inferential-statistics-series-t-test-using-numpy-2718f8f9bf2f\n",
    "\n",
    "https://docs.scipy.org/doc/scipy/reference/generated/scipy.stats.ttest_ind.html#scipy.stats.ttest_ind"
   ]
  },
  {
   "cell_type": "code",
   "execution_count": 13,
   "metadata": {
    "slideshow": {
     "slide_type": "subslide"
    }
   },
   "outputs": [
    {
     "data": {
      "text/html": [
       "<div>\n",
       "<style scoped>\n",
       "    .dataframe tbody tr th:only-of-type {\n",
       "        vertical-align: middle;\n",
       "    }\n",
       "\n",
       "    .dataframe tbody tr th {\n",
       "        vertical-align: top;\n",
       "    }\n",
       "\n",
       "    .dataframe thead th {\n",
       "        text-align: right;\n",
       "    }\n",
       "</style>\n",
       "<table border=\"1\" class=\"dataframe\">\n",
       "  <thead>\n",
       "    <tr style=\"text-align: right;\">\n",
       "      <th></th>\n",
       "      <th>jockeys</th>\n",
       "      <th>jockeys_2</th>\n",
       "      <th>basketball_players</th>\n",
       "    </tr>\n",
       "  </thead>\n",
       "  <tbody>\n",
       "    <tr>\n",
       "      <th>count</th>\n",
       "      <td>100.000000</td>\n",
       "      <td>100.000000</td>\n",
       "      <td>100.000000</td>\n",
       "    </tr>\n",
       "    <tr>\n",
       "      <th>mean</th>\n",
       "      <td>148.961535</td>\n",
       "      <td>150.223046</td>\n",
       "      <td>190.648963</td>\n",
       "    </tr>\n",
       "    <tr>\n",
       "      <th>std</th>\n",
       "      <td>9.081684</td>\n",
       "      <td>9.536690</td>\n",
       "      <td>10.842829</td>\n",
       "    </tr>\n",
       "    <tr>\n",
       "      <th>min</th>\n",
       "      <td>123.802549</td>\n",
       "      <td>130.812288</td>\n",
       "      <td>157.587327</td>\n",
       "    </tr>\n",
       "    <tr>\n",
       "      <th>25%</th>\n",
       "      <td>143.990943</td>\n",
       "      <td>141.943395</td>\n",
       "      <td>183.445565</td>\n",
       "    </tr>\n",
       "    <tr>\n",
       "      <th>50%</th>\n",
       "      <td>148.730437</td>\n",
       "      <td>150.841072</td>\n",
       "      <td>190.976957</td>\n",
       "    </tr>\n",
       "    <tr>\n",
       "      <th>75%</th>\n",
       "      <td>154.059521</td>\n",
       "      <td>155.381704</td>\n",
       "      <td>197.044374</td>\n",
       "    </tr>\n",
       "    <tr>\n",
       "      <th>max</th>\n",
       "      <td>168.522782</td>\n",
       "      <td>177.201692</td>\n",
       "      <td>228.527315</td>\n",
       "    </tr>\n",
       "  </tbody>\n",
       "</table>\n",
       "</div>"
      ],
      "text/plain": [
       "          jockeys   jockeys_2  basketball_players\n",
       "count  100.000000  100.000000          100.000000\n",
       "mean   148.961535  150.223046          190.648963\n",
       "std      9.081684    9.536690           10.842829\n",
       "min    123.802549  130.812288          157.587327\n",
       "25%    143.990943  141.943395          183.445565\n",
       "50%    148.730437  150.841072          190.976957\n",
       "75%    154.059521  155.381704          197.044374\n",
       "max    168.522782  177.201692          228.527315"
      ]
     },
     "execution_count": 13,
     "metadata": {},
     "output_type": "execute_result"
    }
   ],
   "source": [
    "import pandas as pd\n",
    "import numpy as np\n",
    "\n",
    "df = pd.DataFrame()\n",
    "\n",
    "np.random.seed(42)\n",
    "\n",
    "df[\"jockeys\"] = np.random.normal(150, 10, 100)\n",
    "df[\"jockeys_2\"] = np.random.normal(150, 10, 100)\n",
    "df[\"basketball_players\"] = np.random.normal(190, 10, 100)\n",
    "\n",
    "df.describe()"
   ]
  },
  {
   "cell_type": "code",
   "execution_count": 14,
   "metadata": {
    "slideshow": {
     "slide_type": "subslide"
    }
   },
   "outputs": [
    {
     "name": "stdout",
     "output_type": "stream",
     "text": [
      "2.452490316264101e-74\n"
     ]
    }
   ],
   "source": [
    "from scipy import stats\n",
    "\n",
    "t_statistic, p_value = stats.ttest_ind(df[\"jockeys\"],df[\"basketball_players\"])\n",
    "\n",
    "print(p_value)"
   ]
  },
  {
   "cell_type": "markdown",
   "metadata": {
    "slideshow": {
     "slide_type": "fragment"
    }
   },
   "source": [
    "That's a very small number. That means it is extremely unlikely that this difference is due to chance."
   ]
  },
  {
   "cell_type": "markdown",
   "metadata": {
    "slideshow": {
     "slide_type": "subslide"
    }
   },
   "source": [
    "Let's try with another random set of jockeys."
   ]
  },
  {
   "cell_type": "code",
   "execution_count": 15,
   "metadata": {
    "slideshow": {
     "slide_type": "fragment"
    }
   },
   "outputs": [
    {
     "name": "stdout",
     "output_type": "stream",
     "text": [
      "0.3392652865361483\n"
     ]
    }
   ],
   "source": [
    "t_statistic_2, p_value_2 = stats.ttest_ind(df[\"jockeys\"], df[\"jockeys_2\"])\n",
    "\n",
    "print(p_value_2)"
   ]
  },
  {
   "cell_type": "markdown",
   "metadata": {
    "slideshow": {
     "slide_type": "subslide"
    }
   },
   "source": [
    "In the first case, the p-value was tiny."
   ]
  },
  {
   "cell_type": "markdown",
   "metadata": {
    "slideshow": {
     "slide_type": "fragment"
    }
   },
   "source": [
    "That means that **assuming the null hypothesis**, i.e. \"there is no significant difference between groups\" (which we always do)..."
   ]
  },
  {
   "cell_type": "markdown",
   "metadata": {
    "slideshow": {
     "slide_type": "fragment"
    }
   },
   "source": [
    "it would be **extremely unlikely** to get two samples with such different means **purely by chance**."
   ]
  },
  {
   "cell_type": "markdown",
   "metadata": {
    "slideshow": {
     "slide_type": "fragment"
    }
   },
   "source": [
    "Therefore there **is** a significant difference between the groups, and we **reject the null hypothesis**."
   ]
  },
  {
   "cell_type": "markdown",
   "metadata": {
    "slideshow": {
     "slide_type": "subslide"
    }
   },
   "source": [
    "In the second case, the p-value was 0.34, meaning it is 34% likely we'd get a difference due to chance."
   ]
  },
  {
   "cell_type": "markdown",
   "metadata": {
    "slideshow": {
     "slide_type": "fragment"
    }
   },
   "source": [
    "That's not enough evidence to conclude a difference, so we **fail to reject the null hypothesis**."
   ]
  },
  {
   "cell_type": "markdown",
   "metadata": {
    "slideshow": {
     "slide_type": "subslide"
    }
   },
   "source": [
    "Important wording!\n",
    "\n",
    "Case 1: *\"we reject the null hypothesis\"* and **not** *\"we proved a difference\"* or *\"we proved the alternate hypothesis\"*\n",
    "\n",
    "Case 2: *\"we fail to reject the null hypothesis\"* and **not** *\"we proved there is no difference\"*"
   ]
  },
  {
   "cell_type": "markdown",
   "metadata": {
    "slideshow": {
     "slide_type": "fragment"
    }
   },
   "source": [
    "Remember, we're always cautious about our findings"
   ]
  },
  {
   "cell_type": "markdown",
   "metadata": {
    "slideshow": {
     "slide_type": "fragment"
    }
   },
   "source": [
    "The word **prove** is banned from a Data Scientist's vocabulary"
   ]
  }
 ],
 "metadata": {
  "celltoolbar": "Slideshow",
  "kernelspec": {
   "display_name": "Python 3",
   "language": "python",
   "name": "python3"
  },
  "language_info": {
   "codemirror_mode": {
    "name": "ipython",
    "version": 3
   },
   "file_extension": ".py",
   "mimetype": "text/x-python",
   "name": "python",
   "nbconvert_exporter": "python",
   "pygments_lexer": "ipython3",
   "version": "3.6.5"
  }
 },
 "nbformat": 4,
 "nbformat_minor": 2
}
