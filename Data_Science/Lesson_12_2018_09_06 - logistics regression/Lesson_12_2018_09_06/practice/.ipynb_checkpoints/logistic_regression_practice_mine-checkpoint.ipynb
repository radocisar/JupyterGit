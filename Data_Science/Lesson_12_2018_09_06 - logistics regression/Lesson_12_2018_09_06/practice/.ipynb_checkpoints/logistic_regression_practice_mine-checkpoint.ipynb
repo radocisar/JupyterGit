{
 "cells": [
  {
   "cell_type": "markdown",
   "metadata": {},
   "source": [
    "<img src=\"http://imgur.com/1ZcRyrc.png\" style=\"float: left; margin: 20px; height: 55px\">\n",
    "\n",
    "\n",
    "# Logistic Regression Practice"
   ]
  },
  {
   "cell_type": "markdown",
   "metadata": {},
   "source": [
    "\n",
    "## Introduction\n",
    "- Data about the Kickstarter Projects\n",
    "- **Goal**: Predict whether a project will be funded (check 'state' = 'successful')\n",
    "\n",
    "#### Read the data into Pandas"
   ]
  },
  {
   "cell_type": "code",
   "execution_count": 1,
   "metadata": {},
   "outputs": [
    {
     "data": {
      "text/plain": [
       "0             failed\n",
       "1             failed\n",
       "2             failed\n",
       "3             failed\n",
       "4           canceled\n",
       "5         successful\n",
       "6         successful\n",
       "7             failed\n",
       "8           canceled\n",
       "9           canceled\n",
       "10            failed\n",
       "11        successful\n",
       "12            failed\n",
       "13            failed\n",
       "14        successful\n",
       "15            failed\n",
       "16            failed\n",
       "17            failed\n",
       "18        successful\n",
       "19            failed\n",
       "20        successful\n",
       "21            failed\n",
       "22            failed\n",
       "23            failed\n",
       "24        successful\n",
       "25        successful\n",
       "26            failed\n",
       "27        successful\n",
       "28        successful\n",
       "29        successful\n",
       "             ...    \n",
       "378631    successful\n",
       "378632        failed\n",
       "378633        failed\n",
       "378634        failed\n",
       "378635        failed\n",
       "378636    successful\n",
       "378637    successful\n",
       "378638        failed\n",
       "378639    successful\n",
       "378640      canceled\n",
       "378641        failed\n",
       "378642    successful\n",
       "378643      canceled\n",
       "378644    successful\n",
       "378645        failed\n",
       "378646    successful\n",
       "378647        failed\n",
       "378648      canceled\n",
       "378649        failed\n",
       "378650        failed\n",
       "378651    successful\n",
       "378652    successful\n",
       "378653        failed\n",
       "378654        failed\n",
       "378655      canceled\n",
       "378656      canceled\n",
       "378657        failed\n",
       "378658        failed\n",
       "378659        failed\n",
       "378660        failed\n",
       "Name: state, Length: 378661, dtype: object"
      ]
     },
     "execution_count": 1,
     "metadata": {},
     "output_type": "execute_result"
    }
   ],
   "source": [
    "import pandas as pd\n",
    "import numpy as np\n",
    "import matplotlib.pyplot as plt\n",
    "%matplotlib inline\n",
    "\n",
    "projects = pd.read_csv('../assets/data/ks-projects-201801.csv')\n",
    "projects['state']"
   ]
  },
  {
   "cell_type": "markdown",
   "metadata": {},
   "source": [
    "#### 1: What is the distribution of our target?"
   ]
  },
  {
   "cell_type": "code",
   "execution_count": 2,
   "metadata": {},
   "outputs": [
    {
     "name": "stdout",
     "output_type": "stream",
     "text": [
      "197719\n",
      "133956\n",
      "38779\n",
      "2799\n",
      "3562\n",
      "1846\n"
     ]
    }
   ],
   "source": [
    "print(projects[projects['state'] == 'failed']['ID'].count())\n",
    "print(projects[projects['state'] == 'successful']['ID'].count())\n",
    "print(projects[projects['state'] == 'canceled']['ID'].count())\n",
    "print(projects[projects['state'] == 'live']['ID'].count())\n",
    "print(projects[projects['state'] == 'undefined']['ID'].count())\n",
    "print(projects[projects['state'] == 'suspended']['ID'].count())"
   ]
  },
  {
   "cell_type": "markdown",
   "metadata": {},
   "source": [
    "#### 2: Choose the features to use in the model\n",
    "\n",
    "Hint: try to visualise the data to understand what features could be more meaningful"
   ]
  },
  {
   "cell_type": "code",
   "execution_count": 3,
   "metadata": {},
   "outputs": [
    {
     "data": {
      "text/plain": [
       "Index(['ID', 'name', 'category', 'main_category', 'currency', 'deadline',\n",
       "       'goal', 'launched', 'pledged', 'state', 'backers', 'country',\n",
       "       'usd pledged', 'usd_pledged_real', 'usd_goal_real'],\n",
       "      dtype='object')"
      ]
     },
     "execution_count": 3,
     "metadata": {},
     "output_type": "execute_result"
    }
   ],
   "source": [
    "projects.columns"
   ]
  },
  {
   "cell_type": "code",
   "execution_count": 9,
   "metadata": {},
   "outputs": [
    {
     "data": {
      "image/png": "[encoded data removed]",
      "text/plain": [
       "<Figure size 432x288 with 1 Axes>"
      ]
     },
     "metadata": {},
     "output_type": "display_data"
    }
   ],
   "source": [
    "#projects['backers'].max()\n",
    "#troia = list(projects['goal'])\n",
    "troia = list(projects['pledged'])\n",
    "\n",
    "plt.scatter(projects['goal'], projects['pledged'])\n",
    "plt.grid()\n",
    "plt.show()\n",
    "#projects['goal'].median()\n",
    "#plt.hist(projects['backers'], 1000)\n",
    "#plt.hist(projects['usd pledged'], 1000000)\n",
    "#plt.grid()\n",
    "#plt.xlim(0, 4000)\n",
    "#plt.show()"
   ]
  },
  {
   "cell_type": "markdown",
   "metadata": {},
   "source": [
    "#### 3: Do a train-test split"
   ]
  },
  {
   "cell_type": "code",
   "execution_count": null,
   "metadata": {},
   "outputs": [],
   "source": []
  },
  {
   "cell_type": "markdown",
   "metadata": {},
   "source": [
    "#### 4: Fit a logistic regression model on your training set"
   ]
  },
  {
   "cell_type": "code",
   "execution_count": null,
   "metadata": {},
   "outputs": [],
   "source": []
  },
  {
   "cell_type": "markdown",
   "metadata": {},
   "source": [
    "#### 5: What is the interpretation of the coefficients?\n",
    "\n",
    "If you used a categorical feature, calculate the log odds for the baseline, and the log odds for one of its other values.\n",
    "\n",
    "What is the difference in log odds, and therefore the difference in probability?"
   ]
  },
  {
   "cell_type": "code",
   "execution_count": null,
   "metadata": {},
   "outputs": [],
   "source": []
  }
 ],
 "metadata": {
  "kernelspec": {
   "display_name": "Python 3",
   "language": "python",
   "name": "python3"
  },
  "language_info": {
   "codemirror_mode": {
    "name": "ipython",
    "version": 3
   },
   "file_extension": ".py",
   "mimetype": "text/x-python",
   "name": "python",
   "nbconvert_exporter": "python",
   "pygments_lexer": "ipython3",
   "version": "3.6.5"
  }
 },
 "nbformat": 4,
 "nbformat_minor": 2
}
