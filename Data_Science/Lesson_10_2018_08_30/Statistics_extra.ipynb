{
 "cells": [
  {
   "cell_type": "markdown",
   "metadata": {
    "slideshow": {
     "slide_type": "slide"
    }
   },
   "source": [
    "<img src=\"http://imgur.com/1ZcRyrc.png\" style=\"float: left; margin: 20px; height: 55px\">\n",
    "\n",
    "# Extra material for statistics"
   ]
  },
  {
   "cell_type": "markdown",
   "metadata": {
    "slideshow": {
     "slide_type": "slide"
    }
   },
   "source": [
    "# Examples and exceptions to the rules"
   ]
  },
  {
   "cell_type": "markdown",
   "metadata": {
    "slideshow": {
     "slide_type": "slide"
    }
   },
   "source": [
    "## 1. Is the skew of a distribution always positive when the mean is larger than the median?"
   ]
  },
  {
   "cell_type": "markdown",
   "metadata": {
    "slideshow": {
     "slide_type": "subslide"
    }
   },
   "source": [
    "Actually no, there are some exception to this rule of thumb:\n",
    "\n",
    "https://ww2.amstat.org/publications/jse/v13n2/vonhippel.html\n",
    "\n",
    "Discrete distributions tend to break the rule\n",
    "\n",
    "So, the take-away is, plot the ditribution of your data and visually check which tail is the longest."
   ]
  },
  {
   "cell_type": "markdown",
   "metadata": {
    "slideshow": {
     "slide_type": "slide"
    }
   },
   "source": [
    "## 2. How can we compare two distributions?"
   ]
  },
  {
   "cell_type": "markdown",
   "metadata": {
    "slideshow": {
     "slide_type": "subslide"
    }
   },
   "source": [
    "We learned that a t-test will provide us with a p-value, which, if very small, will reject the null-hypothesis in which we assume that the two ditributions are similar.\n",
    "\n",
    "https://docs.scipy.org/doc/scipy-0.15.1/reference/generated/scipy.stats.ttest_ind.html\n",
    "\n",
    "but...\n",
    "\n",
    "- the distributions must be normal: i.e. they can be described by their mean and standard deviation\n",
    "- the distributions must be continuous: the values are continuous, not discrete (so they won't necessarily cluster on a limited set of values)\n",
    "\n",
    "\n",
    "If not you can use a Kolmogorov-Smirnov test:\n",
    "\n",
    "https://docs.scipy.org/doc/scipy-0.14.0/reference/generated/scipy.stats.kstest.html\n",
    "\n",
    "or a Wilcoxon Signed Rank test:\n",
    "\n",
    "https://docs.scipy.org/doc/scipy-0.14.0/reference/generated/scipy.stats.wilcoxon.html\n",
    "\n",
    "Examples:\n",
    "\n",
    "http://www.physics.csbsju.edu/stats/KS-test.html\n",
    "\n",
    "http://www.statisticssolutions.com/how-to-conduct-the-wilcox-sign-test/"
   ]
  },
  {
   "cell_type": "markdown",
   "metadata": {
    "slideshow": {
     "slide_type": "slide"
    }
   },
   "source": [
    "## 3. Examples from meaningful data"
   ]
  },
  {
   "cell_type": "markdown",
   "metadata": {
    "slideshow": {
     "slide_type": "subslide"
    }
   },
   "source": [
    "Gapminder is a non-profit foundation which collects and studies data on Global Health. \n",
    "\n",
    "<img src=\"images/gapminder_Logo.png\" style=\"float: left; margin: 20px; height: 55px\">\n"
   ]
  },
  {
   "cell_type": "markdown",
   "metadata": {
    "slideshow": {
     "slide_type": "subslide"
    }
   },
   "source": [
    "In the statistics folder of this lesson, you can find files about:\n",
    "\n",
    "- life expectancy\n",
    "- GDP per capita\n",
    "- % of 1 year-old immunised with dtp3\n",
    "- world population (per country)"
   ]
  },
  {
   "cell_type": "markdown",
   "metadata": {
    "slideshow": {
     "slide_type": "subslide"
    }
   },
   "source": [
    "You are required to find correlations between GDP, life expectancy and child immunisation."
   ]
  },
  {
   "cell_type": "markdown",
   "metadata": {
    "slideshow": {
     "slide_type": "subslide"
    }
   },
   "source": [
    "1. Sample the data, i.e. choose a number of countries to use.\n",
    "2. Select a meaningful number of countries (what's the total number?)\n",
    "3. Select countries at random (which features shall I use?)\n",
    "\n",
    "Hint: the csv are contained in folder and you have to join columns from different tables"
   ]
  },
  {
   "cell_type": "markdown",
   "metadata": {
    "slideshow": {
     "slide_type": "subslide"
    }
   },
   "source": [
    "### Example 1\n",
    "\n",
    "Check if a high GDP leads to high life expectancy"
   ]
  },
  {
   "cell_type": "markdown",
   "metadata": {
    "slideshow": {
     "slide_type": "subslide"
    }
   },
   "source": [
    "### Example 2\n",
    "\n",
    "Check if high life expectancy leads to high GDP"
   ]
  },
  {
   "cell_type": "markdown",
   "metadata": {
    "slideshow": {
     "slide_type": "subslide"
    }
   },
   "source": [
    "### Example 3\n",
    "\n",
    "Check if large population in a country correlates with large number of child immunisation"
   ]
  }
 ],
 "metadata": {
  "celltoolbar": "Slideshow",
  "kernelspec": {
   "display_name": "Python 3",
   "language": "python",
   "name": "python3"
  },
  "language_info": {
   "codemirror_mode": {
    "name": "ipython",
    "version": 3
   },
   "file_extension": ".py",
   "mimetype": "text/x-python",
   "name": "python",
   "nbconvert_exporter": "python",
   "pygments_lexer": "ipython3",
   "version": "3.6.5"
  }
 },
 "nbformat": 4,
 "nbformat_minor": 2
}
