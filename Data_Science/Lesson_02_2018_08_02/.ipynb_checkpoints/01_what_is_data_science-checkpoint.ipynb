{
 "cells": [
  {
   "cell_type": "markdown",
   "metadata": {
    "slideshow": {
     "slide_type": "slide"
    }
   },
   "source": [
    "<img src=\"http://imgur.com/1ZcRyrc.png\" style=\"float: left; margin: 20px; height: 55px\">\n",
    "\n",
    "# What is Data Science? `#DAT25`"
   ]
  },
  {
   "cell_type": "markdown",
   "metadata": {
    "slideshow": {
     "slide_type": "subslide"
    }
   },
   "source": [
    "# Ice-breaker\n",
    "\n",
    "Have you thought again at the TFL problem from the last lesson when you used (if you used) any TFL services? Did you think of other possible data to use or collect?\n",
    "\n",
    "Please discuss with your neighbours"
   ]
  },
  {
   "cell_type": "markdown",
   "metadata": {
    "slideshow": {
     "slide_type": "subslide"
    }
   },
   "source": [
    "# Learning Objectives\n",
    "\n",
    "- Define the Data Science Workflow and common Machine Learning concepts.\n",
    "- Identify which type of predictive problem applies to a given task.\n",
    "- Introduction to git technology"
   ]
  },
  {
   "cell_type": "markdown",
   "metadata": {
    "slideshow": {
     "slide_type": "subslide"
    }
   },
   "source": [
    "# A brief re-cap from last lesson\n",
    "\n",
    "- [A data scientist can be](#ds_types)\n",
    "- [A data scientist must have](#ds_skills)\n",
    "- [The data science workflow is based on](#ds_workflow)\n"
   ]
  },
  {
   "cell_type": "markdown",
   "metadata": {
    "slideshow": {
     "slide_type": "subslide"
    }
   },
   "source": [
    "<a id=\"ds_types\"> </a>\n",
    "\n",
    "## A data scientist can be:\n",
    "\n",
    "- type **A**: academic background, solves high-level analytical problems, strong theoretical expertise\n",
    "- type **B**: hands-on experience, good in coding, works in small organisations, has to produce more tangible outcomes\n",
    "\n",
    "In other words, DS type **A** work mostly in research, DS type **B** work mostly in development."
   ]
  },
  {
   "cell_type": "markdown",
   "metadata": {
    "slideshow": {
     "slide_type": "subslide"
    }
   },
   "source": [
    "<a id=\"ds_skills\"> </a>\n",
    "\n",
    "## A data scientist must have:\n",
    "\n",
    "- hacking skills\n",
    "- math & stats knowledge\n",
    "- substantive expertise\n"
   ]
  },
  {
   "cell_type": "markdown",
   "metadata": {
    "slideshow": {
     "slide_type": "subslide"
    }
   },
   "source": [
    "<a id=\"ds_workflow\"> </a>\n",
    "\n",
    "## The Data Science workflow is based on:\n",
    "\n",
    "- Frame\n",
    "- Prepare\n",
    "- Analyse\n",
    "- Interpret\n",
    "- Communicate"
   ]
  },
  {
   "cell_type": "markdown",
   "metadata": {
    "slideshow": {
     "slide_type": "subslide"
    }
   },
   "source": [
    "### [Part 1: What are the Data Science characteristics?](#part1)\n",
    "\n",
    "- [Data Science problems](#ds-problems)\n",
    "- [Activity: Data Science problems](#ds-problems-activity)\n",
    "- [Supervised vs. Unsupervised Learning](#supervised)\n"
   ]
  },
  {
   "cell_type": "markdown",
   "metadata": {
    "slideshow": {
     "slide_type": "subslide"
    }
   },
   "source": [
    "### [Part 2: A brief introduction to git](#part2)"
   ]
  },
  {
   "cell_type": "markdown",
   "metadata": {
    "slideshow": {
     "slide_type": "subslide"
    }
   },
   "source": [
    "### [Exercise](#lab)"
   ]
  },
  {
   "cell_type": "markdown",
   "metadata": {
    "slideshow": {
     "slide_type": "subslide"
    }
   },
   "source": [
    "### [What next?](#what-next)"
   ]
  },
  {
   "cell_type": "markdown",
   "metadata": {
    "slideshow": {
     "slide_type": "slide"
    }
   },
   "source": [
    "<a id=\"part1\"> </a>\n",
    "# Part 1: What are the Data Science characteristics?\n"
   ]
  },
  {
   "cell_type": "markdown",
   "metadata": {
    "slideshow": {
     "slide_type": "subslide"
    }
   },
   "source": [
    "<a id=\"ds-problems\"> </a>\n",
    "\n",
    "## Data Science Problems\n",
    "\n",
    "Example questions for Data Science:\n",
    "\n",
    "- how many products will we sell tomorrow?\n",
    "- is this picture a hot dog or not a hot dog?\n",
    "- based on this user's purchase history, which other users should we target with similar ads?\n",
    "- is there something suspicious about this credit card transaction?\n",
    "- should we launch this ad in summer or in winter?\n",
    "- if you listen to this artist, which other artists are you likely to enjoy?"
   ]
  },
  {
   "cell_type": "markdown",
   "metadata": {
    "slideshow": {
     "slide_type": "subslide"
    }
   },
   "source": [
    "### How many products will we sell tomorrow?\n",
    "\n",
    "This is a <strong style=\"color:green\">regression</strong> problem, because the answer is a number on a **continuous** range"
   ]
  },
  {
   "cell_type": "markdown",
   "metadata": {
    "slideshow": {
     "slide_type": "subslide"
    }
   },
   "source": [
    "### Is this picture a hot dog or not a hot dog?\n",
    "\n",
    "This is a <strong style=\"color:green\">classification</strong> problem, because the answer is one of a **discrete set** of answers."
   ]
  },
  {
   "cell_type": "markdown",
   "metadata": {
    "slideshow": {
     "slide_type": "subslide"
    }
   },
   "source": [
    "### Based on this user's purchase history, which other users should we target with similar ads?\n",
    "\n",
    "This is a <strong style=\"color:green\">clustering</strong> problem, because we are **grouping together** users **without knowing the groups in advance**."
   ]
  },
  {
   "cell_type": "markdown",
   "metadata": {
    "slideshow": {
     "slide_type": "subslide"
    }
   },
   "source": [
    "### Is there something suspicious about this credit card transaction?\n",
    "\n",
    "This is an <strong style=\"color:green\">anomaly detection</strong> problem, because we are looking for things that are **outside some definition of \"normal\"**."
   ]
  },
  {
   "cell_type": "markdown",
   "metadata": {
    "slideshow": {
     "slide_type": "subslide"
    }
   },
   "source": [
    "### Should we launch this ad in summer or in winter?\n",
    "\n",
    "This is an <strong style=\"color:green\">decision making</strong> problem, because we are looking to predict the best outcome out of several scenarios."
   ]
  },
  {
   "cell_type": "markdown",
   "metadata": {
    "slideshow": {
     "slide_type": "subslide"
    }
   },
   "source": [
    "### If you listen to this artist, which other artist are you likely to enjoy?\n",
    "\n",
    "This question requires a <strong style=\"color:green\">recommendation algorithm</strong>, because we want to suggest possible solutions to the problem and there is not only one answer."
   ]
  },
  {
   "cell_type": "markdown",
   "metadata": {
    "slideshow": {
     "slide_type": "subslide"
    }
   },
   "source": [
    "<a id=\"ds-problems-activity\"> </a>\n",
    "\n",
    "## Activity: Data Science Problems\n",
    "\n",
    "In pairs, think of 2 examples each of a(n):\n",
    "\n",
    "- regression task\n",
    "- classification task\n",
    "- clustering task\n",
    "- anomaly detection task\n",
    "- decision making task\n",
    "- recommendation algorithm task"
   ]
  },
  {
   "cell_type": "markdown",
   "metadata": {
    "slideshow": {
     "slide_type": "subslide"
    }
   },
   "source": [
    "Remember:\n",
    "\n",
    "- Regression = **predicting continuous outcome**\n",
    "    - e.g. predicting tomorrow's sales\n",
    "- Classification = **telling the difference between discrete outcomes**\n",
    "    - e.g. is this a picture of a hot dog or not?\n",
    "- Clustering = **finding similar things without a \"true\" answer**\n",
    "    - finding similar users based on purchases\n",
    "- Anomaly detection = **finding \"strange\" things**\n",
    "    - identifying if a credit card transaction is suspicious (fraudulent)\n",
    "- Decision making = **finding different solutions and ranking them**\n",
    "    - deciding which season is the best time to launch an ad\n",
    "- Recommendation algorithm = **finding different solutions which can satisfy the requirements**\n",
    "    - identifying a number of solutions which relate to the known one\n"
   ]
  },
  {
   "cell_type": "markdown",
   "metadata": {
    "slideshow": {
     "slide_type": "slide"
    }
   },
   "source": [
    "<a id=\"supervised\"> </a>\n",
    "## Supervised vs. Unsupervised"
   ]
  },
  {
   "cell_type": "markdown",
   "metadata": {
    "slideshow": {
     "slide_type": "fragment"
    }
   },
   "source": [
    "**Supervised** learning means **learning from examples i.e. past data**."
   ]
  },
  {
   "cell_type": "markdown",
   "metadata": {
    "slideshow": {
     "slide_type": "fragment"
    }
   },
   "source": [
    "**Unsupervised** learning means **we don't really know any answers ahead of time**."
   ]
  },
  {
   "cell_type": "markdown",
   "metadata": {
    "slideshow": {
     "slide_type": "fragment"
    }
   },
   "source": [
    "**Regression**, **classification** and **decision making** are all <strong style=\"color:green\">supervised</strong>."
   ]
  },
  {
   "cell_type": "markdown",
   "metadata": {
    "slideshow": {
     "slide_type": "fragment"
    }
   },
   "source": [
    "**Clustering**, **anomaly detection** and **recommendation algorithm** are all <strong style=\"color:green\">unsupervised</strong>."
   ]
  },
  {
   "cell_type": "markdown",
   "metadata": {
    "slideshow": {
     "slide_type": "slide"
    }
   },
   "source": [
    "<a id=\"part2\"> </a>\n",
    "\n",
    "# Part 2: Introduction to git"
   ]
  },
  {
   "cell_type": "markdown",
   "metadata": {
    "slideshow": {
     "slide_type": "subslide"
    }
   },
   "source": [
    "# One Solution: Git\n",
    "\n",
    "![](assets/git-xkcd.png)\n",
    "\n",
    "from [https://xkcd.com/1597](https://xkcd.com/1597)"
   ]
  },
  {
   "cell_type": "markdown",
   "metadata": {
    "slideshow": {
     "slide_type": "subslide"
    }
   },
   "source": [
    "## What's the difference between Git and GitHub?"
   ]
  },
  {
   "cell_type": "markdown",
   "metadata": {
    "slideshow": {
     "slide_type": "slide"
    }
   },
   "source": [
    "### Git\n",
    "\n",
    "- the underlying source control system\n",
    "- allows repositories, commits, branches\n",
    "- open source"
   ]
  },
  {
   "cell_type": "markdown",
   "metadata": {
    "slideshow": {
     "slide_type": "slide"
    }
   },
   "source": [
    "### GitHub\n",
    "\n",
    "- a company that lets you host Git\n",
    "- free (if your material is public)\n",
    "- alternatives include **BitBucket** (which allows free private repositories)\n",
    "- GitHub Enterprise is a paid version to have a separate, private GitHub\n",
    "- additional features e.g. wikis and issue tracker"
   ]
  },
  {
   "cell_type": "markdown",
   "metadata": {
    "slideshow": {
     "slide_type": "slide"
    }
   },
   "source": [
    "# Step 1: Create a repository"
   ]
  },
  {
   "cell_type": "markdown",
   "metadata": {
    "slideshow": {
     "slide_type": "slide"
    }
   },
   "source": [
    "A **repository** (or \"repo\") is a self-contained \"folder\" of files. Think of it as a **project**."
   ]
  },
  {
   "cell_type": "markdown",
   "metadata": {
    "slideshow": {
     "slide_type": "slide"
    }
   },
   "source": [
    "Let's create a repository for you to store your own work.\n",
    "\n",
    "*Note: if you've forked `dat25` you can use that fork for your work, but remember it is **public***"
   ]
  },
  {
   "cell_type": "markdown",
   "metadata": {
    "slideshow": {
     "slide_type": "slide"
    }
   },
   "source": [
    "![](assets/create_new_repo.png)"
   ]
  },
  {
   "cell_type": "markdown",
   "metadata": {
    "slideshow": {
     "slide_type": "slide"
    }
   },
   "source": [
    "![](assets/new_repo.png)"
   ]
  },
  {
   "cell_type": "markdown",
   "metadata": {
    "slideshow": {
     "slide_type": "slide"
    }
   },
   "source": [
    "### What's that `.gitignore` file?\n",
    "\n",
    "It is a hidden file that tells Git what files to **not version**.\n",
    "\n",
    "Why?\n",
    "\n",
    "- generated files that you don't need\n",
    "    - e.g. Jupyter creates \"checkpoints\" that you may not care about\n",
    "- code artefacts (Python creates some)\n",
    "- it's nice to have the option!"
   ]
  },
  {
   "cell_type": "markdown",
   "metadata": {
    "slideshow": {
     "slide_type": "slide"
    }
   },
   "source": [
    "### Give the teaching team access\n",
    "\n",
    "Go to Settings -> Collaborators\n",
    "\n",
    "![](assets/collaborators.png)"
   ]
  },
  {
   "cell_type": "markdown",
   "metadata": {
    "slideshow": {
     "slide_type": "subslide"
    }
   },
   "source": [
    "# Step 2: Get a local copy\n"
   ]
  },
  {
   "cell_type": "markdown",
   "metadata": {
    "slideshow": {
     "slide_type": "fragment"
    }
   },
   "source": [
    "Your repository only exists in GitHub Enterprise. It is a **remote** repository.\n",
    "\n",
    "To work on it, you need a copy on your machine.\n"
   ]
  },
  {
   "cell_type": "markdown",
   "metadata": {
    "slideshow": {
     "slide_type": "fragment"
    }
   },
   "source": [
    "To get a local copy, you **clone**.\n",
    "\n",
    "In a terminal/command prompt navigate to a folder where you want a copy of your repository and type:\n",
    "\n",
    "`git clone <your_url_here>`\n"
   ]
  },
  {
   "cell_type": "markdown",
   "metadata": {
    "slideshow": {
     "slide_type": "fragment"
    }
   },
   "source": [
    "# Step 3: Make a change\n",
    "\n",
    "Open your automatically created `README.md` (which will get displayed by default in GitHub) and add some text.\n",
    "\n",
    "Maybe write who you are and what the purpose of this repository is!"
   ]
  },
  {
   "cell_type": "markdown",
   "metadata": {
    "slideshow": {
     "slide_type": "fragment"
    }
   },
   "source": [
    "# Step 4: \"Saving\" your changes"
   ]
  },
  {
   "cell_type": "markdown",
   "metadata": {
    "slideshow": {
     "slide_type": "fragment"
    }
   },
   "source": [
    "In Git, there are **three** stages to saving your work.\n"
   ]
  },
  {
   "cell_type": "markdown",
   "metadata": {
    "slideshow": {
     "slide_type": "fragment"
    }
   },
   "source": [
    "1 - \"Stage\" your work = prepare it for a commit. This step will look like it's done nothing."
   ]
  },
  {
   "cell_type": "markdown",
   "metadata": {
    "slideshow": {
     "slide_type": "fragment"
    }
   },
   "source": [
    "2 -  \"Commit\" your work. Your changes are now part of your **local** repository.\n"
   ]
  },
  {
   "cell_type": "markdown",
   "metadata": {
    "slideshow": {
     "slide_type": "fragment"
    }
   },
   "source": [
    "3 - \"Push\" your work. Your commit will be sent to the **remote** repository.\n"
   ]
  },
  {
   "cell_type": "markdown",
   "metadata": {
    "slideshow": {
     "slide_type": "subslide"
    }
   },
   "source": [
    "2.5 - If you are collaborating with someone, or have copies of your work on multiple machines, it's good practice to \"pull\" before you \"push\".\n",
    "\n",
    "This brings down changes from the **remote** repository to the **local** one that have happened since you **cloned**.\n"
   ]
  },
  {
   "cell_type": "markdown",
   "metadata": {
    "slideshow": {
     "slide_type": "subslide"
    }
   },
   "source": [
    "### The Three Steps\n",
    "\n",
    "#### 1 - \"Stage\"\n",
    "\n",
    "To see any pending changes, type:\n",
    "\n",
    "`git status`\n"
   ]
  },
  {
   "cell_type": "markdown",
   "metadata": {
    "slideshow": {
     "slide_type": "subslide"
    }
   },
   "source": [
    "To see what those changes actually are:\n",
    "\n",
    "`git diff`"
   ]
  },
  {
   "cell_type": "markdown",
   "metadata": {
    "slideshow": {
     "slide_type": "subslide"
    }
   },
   "source": [
    "Now type\n",
    "\n",
    "`git add README.md`\n",
    "\n",
    "to \"stage\" the changes you've made to that file.\n",
    "\n",
    "If you start typing the name of `README.md` you can press `TAB` to autocomplete it (great for long Jupyter notebook filenames).\n",
    "\n",
    "*Note: if you **remove** a file, you still need to `add` its removal as a change!*"
   ]
  },
  {
   "cell_type": "markdown",
   "metadata": {
    "slideshow": {
     "slide_type": "subslide"
    }
   },
   "source": [
    "Check\n",
    "\n",
    "`git status`\n",
    "\n",
    "again. Notice your file is green and it says \"Changes to be committed\""
   ]
  },
  {
   "cell_type": "markdown",
   "metadata": {
    "slideshow": {
     "slide_type": "subslide"
    }
   },
   "source": [
    "#### 2 - Commit\n",
    "\n",
    "You're ready to commit!\n",
    "\n",
    "`git commit -m \"Add a commit message\"`"
   ]
  },
  {
   "cell_type": "markdown",
   "metadata": {
    "slideshow": {
     "slide_type": "subslide"
    }
   },
   "source": [
    "#### 3 - \"Push\"\n",
    "\n",
    "I said it's good practice to pull, so let's do that.\n",
    "\n",
    "`git pull`\n",
    "\n",
    "***Note: this is also how you should get the latest course materials!***"
   ]
  },
  {
   "cell_type": "markdown",
   "metadata": {
    "slideshow": {
     "slide_type": "subslide"
    }
   },
   "source": [
    "Now:\n",
    "\n",
    "`git push`"
   ]
  },
  {
   "cell_type": "markdown",
   "metadata": {
    "slideshow": {
     "slide_type": "subslide"
    }
   },
   "source": [
    "Technically you should specify:\n",
    "\n",
    "- which remote repository to push to (you can have multiple at once)\n",
    "- which **branch** to push to\n",
    "\n",
    "Then the command becomes:\n",
    "\n",
    "`git push <remote> <branch>`\n",
    "\n",
    "e.g. `git push origin master`\n"
   ]
  },
  {
   "cell_type": "markdown",
   "metadata": {
    "slideshow": {
     "slide_type": "subslide"
    }
   },
   "source": [
    "### Branching\n"
   ]
  },
  {
   "cell_type": "markdown",
   "metadata": {
    "slideshow": {
     "slide_type": "subslide"
    }
   },
   "source": [
    "![](assets/branching.svg)"
   ]
  },
  {
   "cell_type": "markdown",
   "metadata": {
    "slideshow": {
     "slide_type": "subslide"
    }
   },
   "source": [
    "# Summary of commands\n",
    "\n",
    "`clone`: gets a local copy of a **remote** repository<br>\n",
    "`status`: show pending local changes<br>\n",
    "`add`: stage a local change<br>\n",
    "`commit`: commit a set of staged changes<br>\n",
    "`push`: push your commits up to the remote repository<br>\n",
    "`pull`: pull updates from the remote repository<br>"
   ]
  },
  {
   "cell_type": "markdown",
   "metadata": {
    "slideshow": {
     "slide_type": "slide"
    }
   },
   "source": [
    "# Useful links"
   ]
  },
  {
   "cell_type": "markdown",
   "metadata": {
    "slideshow": {
     "slide_type": "slide"
    }
   },
   "source": [
    "## Git GUI\n",
    "\n",
    "If you don't want to use the command line, you can use a nice desktop application to manage your work:\n",
    "\n",
    "- [GitHub Desktop](https://desktop.github.com/)\n",
    "- [SourceTree](https://www.sourcetreeapp.com/)\n",
    "- [Git Kraken](https://www.gitkraken.com/)"
   ]
  },
  {
   "cell_type": "markdown",
   "metadata": {
    "slideshow": {
     "slide_type": "slide"
    }
   },
   "source": [
    "## Git cheat sheet\n",
    "\n",
    "We all need one of these.\n",
    "\n",
    "[https://www.git-tower.com/blog/git-cheat-sheet](https://www.git-tower.com/blog/git-cheat-sheet)"
   ]
  },
  {
   "cell_type": "markdown",
   "metadata": {
    "slideshow": {
     "slide_type": "slide"
    }
   },
   "source": [
    "## When things go wrong...\n",
    "\n",
    "[Oh, s***, git!](http://ohshitgit.com/)"
   ]
  },
  {
   "cell_type": "markdown",
   "metadata": {
    "slideshow": {
     "slide_type": "slide"
    }
   },
   "source": [
    "## Miscellaneous\n",
    "\n",
    "A way to practise Git in the browser: [https://learngitbranching.js.org](https://learngitbranching.js.org)"
   ]
  },
  {
   "cell_type": "markdown",
   "metadata": {
    "slideshow": {
     "slide_type": "subslide"
    }
   },
   "source": [
    "### BREAK"
   ]
  },
  {
   "cell_type": "markdown",
   "metadata": {
    "slideshow": {
     "slide_type": "slide"
    }
   },
   "source": [
    "<a id=\"lab\"> </a>\n",
    "# Exercise\n",
    "\n",
    "Identify how you can tackle the following use-cases by indicating the type of Data Science Problem they represent. If these problem can be solved with Machine Learning, please devise whether they are supervised or unsupervised problems.\n"
   ]
  },
  {
   "cell_type": "markdown",
   "metadata": {
    "slideshow": {
     "slide_type": "slide"
    }
   },
   "source": [
    "## Use case 1\n",
    "\n",
    "An hospital specialised in skin-related diseases wants to **increase** the number of patients they can treat. They would like to know in a accurate and fast way, whether or not moles need to be removed surgically, in order to optimise the surgical procedures.\n",
    "Currently a team of doctors visit the patients one by one, monitoring the moles by eye and therefore identifying whether or not the moles need to be treated.\n",
    "\n",
    "A consultancy firm proposes to take pictures of the moles and send them to doctors, in order to collect their feedback.\n",
    "Once the feedbacks and the visual characteristics of the pictures are matched, they claim that an algorithm would be able, automatically, to sort out moles that need treatment from those which don't.\n",
    "\n",
    "Main points:\n",
    "- having an algorithm sorting out moles would increase the number of visited patients per day, by speeding up the monitoring procedures\n",
    "- the cost would be less than hiring new doctors\n",
    "- in case of inconclusive result from the algorithm a doctor will always be available to visit the patient\n",
    "\n",
    "Questions\n",
    "\n",
    "1) What kind(s) of Data Science Problem is this use case?\n",
    "\n",
    "2) If Machine Learning can be applied, would it be a Supervised or Unsupervised Problem?"
   ]
  },
  {
   "cell_type": "markdown",
   "metadata": {
    "slideshow": {
     "slide_type": "slide"
    }
   },
   "source": [
    "## Use case 2\n",
    "\n",
    "A car factory is designing a new line of luxury cars and plans to install a number of optional extras which should potentially push the sales. Among those they include **bluetooth connectivity**, **adaptive cruise control**, **voice control** and **heated seats**.\n",
    "However, the engineers and the designers explain that the production costs of the cars will increase drastically if ALL of these extras are installed. For these reasons they have to choose 2 extras instead of 4.\n",
    "\n",
    "The same consultancy firm proposes a study to determine which extras should be chosen to maximise the sales.\n",
    "They will use sales data from other car factories which produce similar vehicles.\n",
    "\n",
    "\n",
    "Main points:\n",
    "- to find out what extras customers prefer, the company may run some marketing survey but normally this will take time and won't collect many feedbacks\n",
    "- choosing to install 2 pair of extras in different cars (A/B test) may result in one model selling very well and other models selling very poorly\n",
    "- choosing to install all of the extras will force the company to increase the car price, risking poor sales\n",
    "\n",
    "Questions\n",
    "\n",
    "1) What kind(s) of Data Science Problem is this use case?\n",
    "\n",
    "2) If Machine Learning can be applied, would it be a Supervised or Unsupervised Problem?"
   ]
  },
  {
   "cell_type": "markdown",
   "metadata": {
    "slideshow": {
     "slide_type": "slide"
    }
   },
   "source": [
    "<a id=\"what-next\"> </a>\n",
    "# What next?\n",
    "\n",
    "- Introduction to Python"
   ]
  },
  {
   "cell_type": "code",
   "execution_count": null,
   "metadata": {},
   "outputs": [],
   "source": []
  }
 ],
 "metadata": {
  "anaconda-cloud": {},
  "celltoolbar": "Slideshow",
  "kernelspec": {
   "display_name": "Python 3",
   "language": "python",
   "name": "python3"
  },
  "language_info": {
   "codemirror_mode": {
    "name": "ipython",
    "version": 3
   },
   "file_extension": ".py",
   "mimetype": "text/x-python",
   "name": "python",
   "nbconvert_exporter": "python",
   "pygments_lexer": "ipython3",
   "version": "3.6.5"
  }
 },
 "nbformat": 4,
 "nbformat_minor": 2
}
