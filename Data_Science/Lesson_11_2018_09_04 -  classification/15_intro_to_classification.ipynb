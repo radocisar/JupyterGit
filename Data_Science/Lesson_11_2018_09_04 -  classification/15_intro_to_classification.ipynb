{
 "cells": [
  {
   "cell_type": "markdown",
   "metadata": {
    "slideshow": {
     "slide_type": "slide"
    }
   },
   "source": [
    "<img src=\"http://imgur.com/1ZcRyrc.png\" style=\"float: left; margin: 20px; height: 55px\">\n",
    "\n",
    "# Introduction to Classification"
   ]
  },
  {
   "cell_type": "markdown",
   "metadata": {
    "slideshow": {
     "slide_type": "subslide"
    }
   },
   "source": [
    "## Icebreaker\n",
    "\n",
    "To get into the mindset of classification, discuss **two** examples of classification with your neighbour.\n",
    "\n",
    "If it's related to your own project, even better!"
   ]
  },
  {
   "cell_type": "markdown",
   "metadata": {
    "slideshow": {
     "slide_type": "slide"
    }
   },
   "source": [
    "# Learning Objectives / Agenda"
   ]
  },
  {
   "cell_type": "markdown",
   "metadata": {
    "slideshow": {
     "slide_type": "fragment"
    }
   },
   "source": [
    "### Introduction to Classification\n",
    "### kNN\n",
    "### Precision and accuracy"
   ]
  },
  {
   "cell_type": "markdown",
   "metadata": {
    "slideshow": {
     "slide_type": "subslide"
    }
   },
   "source": [
    "## Introduction to Classification"
   ]
  },
  {
   "cell_type": "code",
   "execution_count": 1,
   "metadata": {
    "slideshow": {
     "slide_type": "skip"
    }
   },
   "outputs": [],
   "source": [
    "import pandas as pd\n",
    "import matplotlib.pyplot as plt\n",
    "\n",
    "%matplotlib inline"
   ]
  },
  {
   "cell_type": "code",
   "execution_count": 2,
   "metadata": {
    "slideshow": {
     "slide_type": "fragment"
    }
   },
   "outputs": [
    {
     "data": {
      "text/plain": [
       "dict_keys(['data', 'target', 'target_names', 'DESCR', 'feature_names'])"
      ]
     },
     "execution_count": 2,
     "metadata": {},
     "output_type": "execute_result"
    }
   ],
   "source": [
    "from sklearn.datasets import load_iris\n",
    "\n",
    "iris = load_iris()\n",
    "iris.keys()"
   ]
  },
  {
   "cell_type": "markdown",
   "metadata": {
    "slideshow": {
     "slide_type": "subslide"
    }
   },
   "source": [
    "Making iris a DataFrame"
   ]
  },
  {
   "cell_type": "code",
   "execution_count": 3,
   "metadata": {
    "slideshow": {
     "slide_type": "fragment"
    }
   },
   "outputs": [
    {
     "data": {
      "text/html": [
       "<div>\n",
       "<style scoped>\n",
       "    .dataframe tbody tr th:only-of-type {\n",
       "        vertical-align: middle;\n",
       "    }\n",
       "\n",
       "    .dataframe tbody tr th {\n",
       "        vertical-align: top;\n",
       "    }\n",
       "\n",
       "    .dataframe thead th {\n",
       "        text-align: right;\n",
       "    }\n",
       "</style>\n",
       "<table border=\"1\" class=\"dataframe\">\n",
       "  <thead>\n",
       "    <tr style=\"text-align: right;\">\n",
       "      <th></th>\n",
       "      <th>sepal length (cm)</th>\n",
       "      <th>sepal width (cm)</th>\n",
       "      <th>petal length (cm)</th>\n",
       "      <th>petal width (cm)</th>\n",
       "      <th>target</th>\n",
       "    </tr>\n",
       "  </thead>\n",
       "  <tbody>\n",
       "    <tr>\n",
       "      <th>0</th>\n",
       "      <td>5.1</td>\n",
       "      <td>3.5</td>\n",
       "      <td>1.4</td>\n",
       "      <td>0.2</td>\n",
       "      <td>setosa</td>\n",
       "    </tr>\n",
       "    <tr>\n",
       "      <th>1</th>\n",
       "      <td>4.9</td>\n",
       "      <td>3.0</td>\n",
       "      <td>1.4</td>\n",
       "      <td>0.2</td>\n",
       "      <td>setosa</td>\n",
       "    </tr>\n",
       "    <tr>\n",
       "      <th>2</th>\n",
       "      <td>4.7</td>\n",
       "      <td>3.2</td>\n",
       "      <td>1.3</td>\n",
       "      <td>0.2</td>\n",
       "      <td>setosa</td>\n",
       "    </tr>\n",
       "    <tr>\n",
       "      <th>3</th>\n",
       "      <td>4.6</td>\n",
       "      <td>3.1</td>\n",
       "      <td>1.5</td>\n",
       "      <td>0.2</td>\n",
       "      <td>setosa</td>\n",
       "    </tr>\n",
       "    <tr>\n",
       "      <th>4</th>\n",
       "      <td>5.0</td>\n",
       "      <td>3.6</td>\n",
       "      <td>1.4</td>\n",
       "      <td>0.2</td>\n",
       "      <td>setosa</td>\n",
       "    </tr>\n",
       "  </tbody>\n",
       "</table>\n",
       "</div>"
      ],
      "text/plain": [
       "   sepal length (cm)  sepal width (cm)  petal length (cm)  petal width (cm)  \\\n",
       "0                5.1               3.5                1.4               0.2   \n",
       "1                4.9               3.0                1.4               0.2   \n",
       "2                4.7               3.2                1.3               0.2   \n",
       "3                4.6               3.1                1.5               0.2   \n",
       "4                5.0               3.6                1.4               0.2   \n",
       "\n",
       "   target  \n",
       "0  setosa  \n",
       "1  setosa  \n",
       "2  setosa  \n",
       "3  setosa  \n",
       "4  setosa  "
      ]
     },
     "execution_count": 3,
     "metadata": {},
     "output_type": "execute_result"
    }
   ],
   "source": [
    "df = pd.DataFrame(iris.data, columns=iris.feature_names)\n",
    "df[\"target\"] = iris.target\n",
    "df[\"target\"] = df[\"target\"].map({idx:name for idx, name in enumerate(iris.target_names)})\n",
    "df.head()"
   ]
  },
  {
   "cell_type": "code",
   "execution_count": 8,
   "metadata": {
    "slideshow": {
     "slide_type": "subslide"
    }
   },
   "outputs": [
    {
     "data": {
      "image/png": "[encoded data removed]",
      "text/plain": [
       "<Figure size 432x288 with 1 Axes>"
      ]
     },
     "metadata": {},
     "output_type": "display_data"
    }
   ],
   "source": [
    "setosa_df = df[df[\"target\"] == \"setosa\"].copy()\n",
    "versicolor_df = df[df[\"target\"] == \"versicolor\"].copy()\n",
    "virginica_df = df[df[\"target\"] == \"virginica\"].copy()\n",
    "\n",
    "\n",
    "plt.scatter(setosa_df[\"petal width (cm)\"], setosa_df[\"petal length (cm)\"], alpha=0.8, s=90, c=\"blue\", label=\"setosa\")\n",
    "plt.scatter(versicolor_df[\"petal width (cm)\"], versicolor_df[\"petal length (cm)\"], alpha=0.8, s=90, c=\"yellow\", label=\"versicolor\")\n",
    "plt.scatter(virginica_df[\"petal width (cm)\"], virginica_df[\"petal length (cm)\"], alpha=0.8, s=90, c=\"green\", label=\"virginica\")\n",
    "plt.grid()\n",
    "plt.xlabel(\"petal width (cm)\")\n",
    "plt.ylabel(\"petal length (cm)\")\n",
    "plt.legend(loc=2)\n",
    "plt.show()"
   ]
  },
  {
   "cell_type": "markdown",
   "metadata": {
    "slideshow": {
     "slide_type": "subslide"
    }
   },
   "source": [
    "What class is this new point?"
   ]
  },
  {
   "cell_type": "code",
   "execution_count": 10,
   "metadata": {
    "slideshow": {
     "slide_type": "subslide"
    }
   },
   "outputs": [
    {
     "data": {
      "image/png": "[encoded data removed]",
      "text/plain": [
       "<Figure size 432x288 with 1 Axes>"
      ]
     },
     "metadata": {},
     "output_type": "display_data"
    }
   ],
   "source": [
    "plt.scatter(setosa_df[\"petal width (cm)\"], setosa_df[\"petal length (cm)\"], alpha=0.8, s=90, c=\"blue\", label=\"setosa\")\n",
    "plt.scatter(versicolor_df[\"petal width (cm)\"], versicolor_df[\"petal length (cm)\"], alpha=0.8, s=90, c=\"yellow\", label=\"versicolor\")\n",
    "plt.scatter(virginica_df[\"petal width (cm)\"], virginica_df[\"petal length (cm)\"], alpha=0.8, s=90, c=\"green\", label=\"virginica\")\n",
    "plt.scatter([0.5], [2.3], c=\"k\", marker=\"x\", s=150, linewidth=4);plt.grid()\n",
    "plt.xlabel(\"petal width (cm)\")\n",
    "plt.ylabel(\"petal length (cm)\")\n",
    "plt.legend(loc=2)\n",
    "plt.show()"
   ]
  },
  {
   "cell_type": "markdown",
   "metadata": {
    "slideshow": {
     "slide_type": "subslide"
    }
   },
   "source": [
    "What about this one?"
   ]
  },
  {
   "cell_type": "code",
   "execution_count": 11,
   "metadata": {
    "slideshow": {
     "slide_type": "subslide"
    }
   },
   "outputs": [
    {
     "data": {
      "image/png": "[encoded data removed]",
      "text/plain": [
       "<Figure size 432x288 with 1 Axes>"
      ]
     },
     "metadata": {},
     "output_type": "display_data"
    }
   ],
   "source": [
    "plt.scatter(setosa_df[\"petal width (cm)\"], setosa_df[\"petal length (cm)\"], alpha=0.8, s=90, c=\"blue\", label=\"setosa\")\n",
    "plt.scatter(versicolor_df[\"petal width (cm)\"], versicolor_df[\"petal length (cm)\"], alpha=0.8, s=90, c=\"yellow\", label=\"versicolor\")\n",
    "plt.scatter(virginica_df[\"petal width (cm)\"], virginica_df[\"petal length (cm)\"], alpha=0.8, s=90, c=\"green\", label=\"virginica\")\n",
    "plt.scatter([1.7], [5.4], c=\"k\", marker=\"x\", s=150, linewidth=4);plt.grid()\n",
    "plt.xlabel(\"petal width (cm)\")\n",
    "plt.ylabel(\"petal length (cm)\")\n",
    "plt.legend(loc=2)\n",
    "plt.show()"
   ]
  },
  {
   "cell_type": "markdown",
   "metadata": {
    "slideshow": {
     "slide_type": "subslide"
    }
   },
   "source": [
    "### Exercise\n",
    "\n",
    "Could we construct a \"classifier\" manually based on this plot?\n",
    "\n",
    "With a partner, discuss and fill in the function at the bottom of notebook 16."
   ]
  },
  {
   "cell_type": "markdown",
   "metadata": {
    "slideshow": {
     "slide_type": "slide"
    }
   },
   "source": [
    "# K Nearest Neighbours"
   ]
  },
  {
   "cell_type": "code",
   "execution_count": 14,
   "metadata": {
    "slideshow": {
     "slide_type": "subslide"
    }
   },
   "outputs": [
    {
     "data": {
      "image/png": "[encoded data removed]",
      "text/plain": [
       "<Figure size 432x288 with 1 Axes>"
      ]
     },
     "metadata": {},
     "output_type": "display_data"
    }
   ],
   "source": [
    "plt.scatter(setosa_df[\"petal width (cm)\"], setosa_df[\"petal length (cm)\"], alpha=0.8, s=90, c=\"blue\", label=\"setosa\")\n",
    "plt.scatter(versicolor_df[\"petal width (cm)\"], versicolor_df[\"petal length (cm)\"], alpha=0.8, s=90, c=\"yellow\", label=\"versicolor\")\n",
    "plt.scatter(virginica_df[\"petal width (cm)\"], virginica_df[\"petal length (cm)\"], alpha=0.8, s=90, c=\"green\", label=\"virginica\")\n",
    "plt.grid()\n",
    "plt.xlabel(\"petal width (cm)\")\n",
    "plt.ylabel(\"petal length (cm)\")\n",
    "plt.legend(loc=2)\n",
    "plt.show()"
   ]
  },
  {
   "cell_type": "markdown",
   "metadata": {
    "slideshow": {
     "slide_type": "fragment"
    }
   },
   "source": [
    "The boundary between `versicolor` and `virginica` is hard to separate using \"if-then\" rules only"
   ]
  },
  {
   "cell_type": "markdown",
   "metadata": {
    "slideshow": {
     "slide_type": "subslide"
    }
   },
   "source": [
    "#### Idea\n",
    "\n",
    "- what about looking at a new point's neighbourhood to determine its class?"
   ]
  },
  {
   "cell_type": "markdown",
   "metadata": {
    "slideshow": {
     "slide_type": "fragment"
    }
   },
   "source": [
    "- this is what KNN does"
   ]
  },
  {
   "cell_type": "markdown",
   "metadata": {
    "slideshow": {
     "slide_type": "subslide"
    }
   },
   "source": [
    "### The algorithm"
   ]
  },
  {
   "cell_type": "markdown",
   "metadata": {
    "slideshow": {
     "slide_type": "fragment"
    }
   },
   "source": [
    "- choose a value $k$"
   ]
  },
  {
   "cell_type": "markdown",
   "metadata": {
    "slideshow": {
     "slide_type": "fragment"
    }
   },
   "source": [
    "- for a point we want to predict, find its $k$ neighbours"
   ]
  },
  {
   "cell_type": "markdown",
   "metadata": {
    "slideshow": {
     "slide_type": "fragment"
    }
   },
   "source": [
    "- the default is Euclidean distance, but there are other options"
   ]
  },
  {
   "cell_type": "markdown",
   "metadata": {
    "slideshow": {
     "slide_type": "fragment"
    }
   },
   "source": [
    "- take the most frequent class in its $k$ neighbours: that's your prediction!"
   ]
  },
  {
   "cell_type": "markdown",
   "metadata": {
    "slideshow": {
     "slide_type": "subslide"
    }
   },
   "source": [
    "What is $k$ an example of?"
   ]
  },
  {
   "cell_type": "markdown",
   "metadata": {
    "slideshow": {
     "slide_type": "fragment"
    }
   },
   "source": [
    "$k$ is another example of a **hyperparameter**."
   ]
  },
  {
   "cell_type": "markdown",
   "metadata": {
    "slideshow": {
     "slide_type": "fragment"
    }
   },
   "source": [
    "The preferred value of $k$ is usually **odd**. Why?"
   ]
  },
  {
   "cell_type": "markdown",
   "metadata": {
    "slideshow": {
     "slide_type": "subslide"
    }
   },
   "source": [
    "What if there **is** a tie?"
   ]
  },
  {
   "cell_type": "markdown",
   "metadata": {
    "slideshow": {
     "slide_type": "fragment"
    }
   },
   "source": [
    "- flip a coin (bad)"
   ]
  },
  {
   "cell_type": "markdown",
   "metadata": {
    "slideshow": {
     "slide_type": "fragment"
    }
   },
   "source": [
    "- sort out the tie by weighting observations by distance (better!)"
   ]
  },
  {
   "cell_type": "markdown",
   "metadata": {
    "slideshow": {
     "slide_type": "fragment"
    }
   },
   "source": [
    "- this is **probably** what `scikit-learn` does (here's a discussion: [https://stats.stackexchange.com/questions/144718/how-does-scikit-learn-resolve-ties-in-the-knn-classification](https://stats.stackexchange.com/questions/144718/how-does-scikit-learn-resolve-ties-in-the-knn-classification))"
   ]
  },
  {
   "cell_type": "markdown",
   "metadata": {
    "slideshow": {
     "slide_type": "fragment"
    }
   },
   "source": [
    "- other ideas include adding/taking away neighbours until the tie is broken"
   ]
  },
  {
   "cell_type": "markdown",
   "metadata": {
    "slideshow": {
     "slide_type": "slide"
    }
   },
   "source": [
    "## Explanation"
   ]
  },
  {
   "cell_type": "markdown",
   "metadata": {
    "slideshow": {
     "slide_type": "subslide"
    }
   },
   "source": [
    "In the following scatter plot, a dataset formed of blue and red samples is shown\n",
    "\n",
    "<img src=\"assets/images/knn_1.png\" style=\"float: left; margin: 20px; height: 300px\">"
   ]
  },
  {
   "cell_type": "markdown",
   "metadata": {
    "slideshow": {
     "slide_type": "subslide"
    }
   },
   "source": [
    "A new sample is recorded, but it's not labelled. Which class does it belong to? Is this a red or a blue?\n",
    "\n",
    "<img src=\"assets/images/knn_2.png\" style=\"float: left; margin: 20px; height: 300px\">"
   ]
  },
  {
   "cell_type": "markdown",
   "metadata": {
    "slideshow": {
     "slide_type": "subslide"
    }
   },
   "source": [
    "Let's check its nearest neighbours, in this case `k=5`\n",
    "\n",
    "<img src=\"assets/images/knn_3.png\" style=\"float: left; margin: 20px; height: 300px\">"
   ]
  },
  {
   "cell_type": "markdown",
   "metadata": {
    "slideshow": {
     "slide_type": "subslide"
    }
   },
   "source": [
    "The k-Nearest Neighbours have the following characteristics:\n",
    "\n",
    "<img src=\"assets/images/knn_4.png\" style=\"float: left; margin: 20px; height: 300px\">\n",
    "\n",
    "| Sample | Class | Distance |\n",
    "| --- | --- | --- |\n",
    "| A | Blue | 1.7532 |\n",
    "| B | Blue | 2.0927 |\n",
    "| C | Red | 3.2397 |\n",
    "| D | Red | 3.4082 |\n",
    "| E | Red | 3.243 |\n",
    "\n"
   ]
  },
  {
   "cell_type": "markdown",
   "metadata": {
    "slideshow": {
     "slide_type": "subslide"
    }
   },
   "source": [
    "### Options\n",
    "\n",
    "- 3 neighbours are red, 2 are blue, the sample is red\n",
    "- blue neighbours have a average shorter distance, the sample is blue\n",
    "- number of neighbours and distance must be weighted\n",
    "- let's change `k` and see what happens\n",
    "- let's pick the kNN for each class and check the average distance then\n",
    "\n",
    "...\n",
    "\n"
   ]
  },
  {
   "cell_type": "markdown",
   "metadata": {
    "slideshow": {
     "slide_type": "subslide"
    }
   },
   "source": [
    "## Advantages"
   ]
  },
  {
   "cell_type": "markdown",
   "metadata": {
    "slideshow": {
     "slide_type": "fragment"
    }
   },
   "source": [
    "- simple to understand"
   ]
  },
  {
   "cell_type": "markdown",
   "metadata": {
    "slideshow": {
     "slide_type": "fragment"
    }
   },
   "source": [
    "- there is no \"training\" as such: we have to check the neighbours on the fly"
   ]
  },
  {
   "cell_type": "markdown",
   "metadata": {
    "slideshow": {
     "slide_type": "fragment"
    }
   },
   "source": [
    "- it can also be used for regression: **how?**"
   ]
  },
  {
   "cell_type": "markdown",
   "metadata": {
    "slideshow": {
     "slide_type": "subslide"
    }
   },
   "source": [
    "## Disadvantages"
   ]
  },
  {
   "cell_type": "markdown",
   "metadata": {
    "slideshow": {
     "slide_type": "fragment"
    }
   },
   "source": [
    "- prediction can take longer for large datasets: **why?**"
   ]
  },
  {
   "cell_type": "markdown",
   "metadata": {
    "slideshow": {
     "slide_type": "fragment"
    }
   },
   "source": [
    "- it doesn't tell us anything about feature importance"
   ]
  },
  {
   "cell_type": "markdown",
   "metadata": {
    "slideshow": {
     "slide_type": "fragment"
    }
   },
   "source": [
    "- works worse with more columns (in high-dimensional space, everything is far away...)"
   ]
  },
  {
   "cell_type": "markdown",
   "metadata": {
    "slideshow": {
     "slide_type": "subslide"
    }
   },
   "source": [
    "## KNN on Iris"
   ]
  },
  {
   "cell_type": "code",
   "execution_count": 18,
   "metadata": {
    "slideshow": {
     "slide_type": "fragment"
    }
   },
   "outputs": [
    {
     "data": {
      "text/plain": [
       "0.9777777777777777"
      ]
     },
     "execution_count": 18,
     "metadata": {},
     "output_type": "execute_result"
    }
   ],
   "source": [
    "from sklearn.model_selection import train_test_split\n",
    "from sklearn.neighbors import KNeighborsClassifier\n",
    "from sklearn.metrics import accuracy_score\n",
    "\n",
    "X_train, X_test, y_train, y_test = train_test_split(df.drop(\"target\", axis=1),\n",
    "                                                    df[\"target\"],\n",
    "                                                    test_size=0.3,\n",
    "                                                    random_state=1)\n",
    "knn = KNeighborsClassifier(n_neighbors=7)\n",
    "knn.fit(X_train, y_train)\n",
    "y_pred = knn.predict(X_test)\n",
    "accuracy_score(y_test, y_pred)"
   ]
  },
  {
   "cell_type": "markdown",
   "metadata": {
    "slideshow": {
     "slide_type": "slide"
    }
   },
   "source": [
    "## Precision and accuracy"
   ]
  },
  {
   "cell_type": "markdown",
   "metadata": {
    "slideshow": {
     "slide_type": "subslide"
    }
   },
   "source": [
    "When working with classification, our predictions can be either true or false in relation to a class prediction and these figures help us define the quality of our model.\n",
    "\n",
    "If we want to classify, for example, whether a loan application will be `successful` or `rejected` we can have the following figures:\n",
    "\n",
    "- True Positives (**TP**): applications we classified as successful that were actually successful\n",
    "- False Positives (**FP**): applications we classified as successful that were actually rejected\n",
    "- True Negatives (**TN**): applications we classified as unsuccessful that were actually rejected\n",
    "- False Negatives (**FN**): applications we classified as unsuccessful that were actually successful\n"
   ]
  },
  {
   "cell_type": "markdown",
   "metadata": {
    "slideshow": {
     "slide_type": "subslide"
    }
   },
   "source": [
    "Starting from these results we can measure our model's **precision** and **accuracy**.\n",
    "\n",
    "The **precision** is calculated as:\n",
    "\n",
    "$$ precision = {\\frac {TP} {TP + FP}}$$\n",
    "\n",
    "The **accuracy** is calculated as:\n",
    "\n",
    "$$ accuracy = {\\frac {TP + TN} {TP + FP + TN + FN}}$$"
   ]
  },
  {
   "cell_type": "markdown",
   "metadata": {
    "slideshow": {
     "slide_type": "subslide"
    }
   },
   "source": [
    "Since your model will have to be a compromise between optimising precision and accuracy, you may have to choose.\n",
    "\n",
    "The choice will depend on your priorities:\n",
    "\n",
    "A) I'd rather flag as `successful` only the applications that I'm sure will be successful\n",
    "\n",
    "B) I'd rather not miss any `successful` applications\n",
    "\n",
    "<img src=\"assets/images/prec_acc_1.png\" style=\"float: left; margin: 20px; height: 300px\">\n",
    "\n",
    "`successful` = red\n",
    "\n",
    "`rejected` = blue"
   ]
  },
  {
   "cell_type": "markdown",
   "metadata": {
    "slideshow": {
     "slide_type": "subslide"
    }
   },
   "source": [
    "Option A)\n",
    "\n",
    "<img src=\"assets/images/prec_acc_2.png\" style=\"float: left; margin: 20px; height: 300px\">\n",
    "\n",
    "- TP = 6\n",
    "- FP = 0\n",
    "- TN = 16\n",
    "- FN = 8\n",
    "\n",
    "`precision` = 100%\n",
    "\n",
    "`accuracy` = 73.33%"
   ]
  },
  {
   "cell_type": "markdown",
   "metadata": {
    "slideshow": {
     "slide_type": "subslide"
    }
   },
   "source": [
    "Option B)\n",
    "\n",
    "<img src=\"assets/images/prec_acc_3.png\" style=\"float: left; margin: 20px; height: 300px\">\n",
    "\n",
    "- TP = 14\n",
    "- FP = 5\n",
    "- TN = 11\n",
    "- FN = 0\n",
    "\n",
    "`precision` = 73.68%\n",
    "\n",
    "`accuracy` = 83.33%"
   ]
  }
 ],
 "metadata": {
  "celltoolbar": "Slideshow",
  "kernelspec": {
   "display_name": "Python 3",
   "language": "python",
   "name": "python3"
  },
  "language_info": {
   "codemirror_mode": {
    "name": "ipython",
    "version": 3
   },
   "file_extension": ".py",
   "mimetype": "text/x-python",
   "name": "python",
   "nbconvert_exporter": "python",
   "pygments_lexer": "ipython3",
   "version": "3.6.5"
  }
 },
 "nbformat": 4,
 "nbformat_minor": 2
}
