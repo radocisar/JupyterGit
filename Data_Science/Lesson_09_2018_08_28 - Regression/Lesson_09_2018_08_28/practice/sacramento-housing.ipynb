{
 "cells": [
  {
   "cell_type": "markdown",
   "metadata": {},
   "source": [
    "<img src=\"http://imgur.com/1ZcRyrc.png\" style=\"float: left; margin: 20px; height: 55px\">\n",
    "\n",
    "# Linear Regression exercise"
   ]
  },
  {
   "cell_type": "markdown",
   "metadata": {},
   "source": [
    "We're going to use another house price example, this time from Sacramento.\n",
    "\n",
    "### 1 - Use the filepath below to read in your DataFrame"
   ]
  },
  {
   "cell_type": "code",
   "execution_count": 112,
   "metadata": {},
   "outputs": [
    {
     "data": {
      "text/html": [
       "<div>\n",
       "<style scoped>\n",
       "    .dataframe tbody tr th:only-of-type {\n",
       "        vertical-align: middle;\n",
       "    }\n",
       "\n",
       "    .dataframe tbody tr th {\n",
       "        vertical-align: top;\n",
       "    }\n",
       "\n",
       "    .dataframe thead th {\n",
       "        text-align: right;\n",
       "    }\n",
       "</style>\n",
       "<table border=\"1\" class=\"dataframe\">\n",
       "  <thead>\n",
       "    <tr style=\"text-align: right;\">\n",
       "      <th></th>\n",
       "      <th>street</th>\n",
       "      <th>city</th>\n",
       "      <th>zip</th>\n",
       "      <th>state</th>\n",
       "      <th>beds</th>\n",
       "      <th>baths</th>\n",
       "      <th>sq__ft</th>\n",
       "      <th>type</th>\n",
       "      <th>sale_date</th>\n",
       "      <th>price</th>\n",
       "      <th>latitude</th>\n",
       "      <th>longitude</th>\n",
       "    </tr>\n",
       "  </thead>\n",
       "  <tbody>\n",
       "    <tr>\n",
       "      <th>0</th>\n",
       "      <td>3526 HIGH ST</td>\n",
       "      <td>SACRAMENTO</td>\n",
       "      <td>95838</td>\n",
       "      <td>CA</td>\n",
       "      <td>2</td>\n",
       "      <td>1</td>\n",
       "      <td>836</td>\n",
       "      <td>Residential</td>\n",
       "      <td>Wed May 21 00:00:00 EDT 2008</td>\n",
       "      <td>59222</td>\n",
       "      <td>38.631913</td>\n",
       "      <td>-121.434879</td>\n",
       "    </tr>\n",
       "    <tr>\n",
       "      <th>1</th>\n",
       "      <td>51 OMAHA CT</td>\n",
       "      <td>SACRAMENTO</td>\n",
       "      <td>95823</td>\n",
       "      <td>CA</td>\n",
       "      <td>3</td>\n",
       "      <td>1</td>\n",
       "      <td>1167</td>\n",
       "      <td>Residential</td>\n",
       "      <td>Wed May 21 00:00:00 EDT 2008</td>\n",
       "      <td>68212</td>\n",
       "      <td>38.478902</td>\n",
       "      <td>-121.431028</td>\n",
       "    </tr>\n",
       "    <tr>\n",
       "      <th>2</th>\n",
       "      <td>2796 BRANCH ST</td>\n",
       "      <td>SACRAMENTO</td>\n",
       "      <td>95815</td>\n",
       "      <td>CA</td>\n",
       "      <td>2</td>\n",
       "      <td>1</td>\n",
       "      <td>796</td>\n",
       "      <td>Residential</td>\n",
       "      <td>Wed May 21 00:00:00 EDT 2008</td>\n",
       "      <td>68880</td>\n",
       "      <td>38.618305</td>\n",
       "      <td>-121.443839</td>\n",
       "    </tr>\n",
       "  </tbody>\n",
       "</table>\n",
       "</div>"
      ],
      "text/plain": [
       "           street        city    zip state  beds  baths  sq__ft         type  \\\n",
       "0    3526 HIGH ST  SACRAMENTO  95838    CA     2      1     836  Residential   \n",
       "1     51 OMAHA CT  SACRAMENTO  95823    CA     3      1    1167  Residential   \n",
       "2  2796 BRANCH ST  SACRAMENTO  95815    CA     2      1     796  Residential   \n",
       "\n",
       "                      sale_date  price   latitude   longitude  \n",
       "0  Wed May 21 00:00:00 EDT 2008  59222  38.631913 -121.434879  \n",
       "1  Wed May 21 00:00:00 EDT 2008  68212  38.478902 -121.431028  \n",
       "2  Wed May 21 00:00:00 EDT 2008  68880  38.618305 -121.443839  "
      ]
     },
     "execution_count": 112,
     "metadata": {},
     "output_type": "execute_result"
    }
   ],
   "source": [
    "import pandas as pd\n",
    "import seaborn as sns\n",
    "import matplotlib.pyplot as plt\n",
    "%matplotlib inline\n",
    "house_prices_csv = '../assets/data/sacramento_real_estate_transactions.csv'\n",
    "house_prices=pd.read_csv(house_prices_csv)\n",
    "house_prices.head(3)"
   ]
  },
  {
   "cell_type": "markdown",
   "metadata": {},
   "source": [
    "### 2 - Conduct exploratory data analysis on this data set.\n",
    "\n",
    "Report any notable findings here and any steps you take to clean/process data.\n",
    "\n",
    "    Note: These EDA checks should be done on every data set we give you, as it will be the first thing you do on a new dataset in the real world."
   ]
  },
  {
   "cell_type": "code",
   "execution_count": 115,
   "metadata": {},
   "outputs": [
    {
     "data": {
      "text/plain": [
       "Index(['street', 'city', 'zip', 'state', 'beds', 'baths', 'sq__ft', 'type',\n",
       "       'sale_date', 'price', 'latitude', 'longitude'],\n",
       "      dtype='object')"
      ]
     },
     "execution_count": 115,
     "metadata": {},
     "output_type": "execute_result"
    }
   ],
   "source": [
    "house_prices.columns\n"
   ]
  },
  {
   "cell_type": "code",
   "execution_count": 114,
   "metadata": {},
   "outputs": [
    {
     "data": {
      "text/html": [
       "<div>\n",
       "<style scoped>\n",
       "    .dataframe tbody tr th:only-of-type {\n",
       "        vertical-align: middle;\n",
       "    }\n",
       "\n",
       "    .dataframe tbody tr th {\n",
       "        vertical-align: top;\n",
       "    }\n",
       "\n",
       "    .dataframe thead th {\n",
       "        text-align: right;\n",
       "    }\n",
       "</style>\n",
       "<table border=\"1\" class=\"dataframe\">\n",
       "  <thead>\n",
       "    <tr style=\"text-align: right;\">\n",
       "      <th></th>\n",
       "      <th>street</th>\n",
       "      <th>city</th>\n",
       "      <th>zip</th>\n",
       "      <th>state</th>\n",
       "      <th>beds</th>\n",
       "      <th>baths</th>\n",
       "      <th>sq__ft</th>\n",
       "      <th>type</th>\n",
       "      <th>sale_date</th>\n",
       "      <th>price</th>\n",
       "      <th>latitude</th>\n",
       "      <th>longitude</th>\n",
       "    </tr>\n",
       "  </thead>\n",
       "  <tbody>\n",
       "  </tbody>\n",
       "</table>\n",
       "</div>"
      ],
      "text/plain": [
       "Empty DataFrame\n",
       "Columns: [street, city, zip, state, beds, baths, sq__ft, type, sale_date, price, latitude, longitude]\n",
       "Index: []"
      ]
     },
     "execution_count": 114,
     "metadata": {},
     "output_type": "execute_result"
    }
   ],
   "source": [
    "#dropping negative and 0 sq_ft from dataframe\n",
    "\n",
    "house_prices=house_prices[house_prices.sq__ft>0]\n",
    "\n",
    "house_prices[house_prices['sq__ft']<=0]\n"
   ]
  },
  {
   "cell_type": "markdown",
   "metadata": {},
   "source": [
    "### 3 - Our goal will be to predict price. Choose *two* variables that you think might make good predictors of price."
   ]
  },
  {
   "cell_type": "code",
   "execution_count": null,
   "metadata": {},
   "outputs": [],
   "source": [
    "#sq ft and beds"
   ]
  },
  {
   "cell_type": "markdown",
   "metadata": {},
   "source": [
    "### 4 - Based on your answer to 3, explore the relationships between your chosen predictors and the target"
   ]
  },
  {
   "cell_type": "code",
   "execution_count": 126,
   "metadata": {},
   "outputs": [
    {
     "data": {
      "image/png": "[encoded data removed]",
      "text/plain": [
       "<Figure size 720x432 with 1 Axes>"
      ]
     },
     "metadata": {},
     "output_type": "display_data"
    },
    {
     "data": {
      "image/png": "[encoded data removed]",
      "text/plain": [
       "<Figure size 432x288 with 1 Axes>"
      ]
     },
     "metadata": {},
     "output_type": "display_data"
    }
   ],
   "source": [
    "house_prices.plot(kind='scatter', x='beds', y='price', alpha=0.2, figsize=(10, 6))\n",
    "plt.grid()\n",
    "plt.show()\n",
    "\n",
    "#sns.lmplot(x='beds', y='price', data=house_prices, aspect=1.5, scatter_kws={'alpha':0.2})\n",
    "all_prices=house_prices.groupby(\"beds\")['price'].mean()\n",
    "plt.plot(all_prices.index,all_prices)\n",
    "plt.grid()\n",
    "plt.xlabel('beds')\n",
    "plt.ylabel('price')\n",
    "plt.show()"
   ]
  },
  {
   "cell_type": "code",
   "execution_count": 123,
   "metadata": {},
   "outputs": [
    {
     "data": {
      "image/png": "[encoded data removed]",
      "text/plain": [
       "<Figure size 720x432 with 1 Axes>"
      ]
     },
     "metadata": {},
     "output_type": "display_data"
    }
   ],
   "source": [
    "house_prices.plot(kind='scatter', x='sq__ft', y='price', alpha=0.2, figsize=(10, 6))\n",
    "plt.grid()\n",
    "plt.show()"
   ]
  },
  {
   "cell_type": "markdown",
   "metadata": {},
   "source": [
    "### 5 - Build a linear model using the predictors you chose in question 3.\n",
    "\n",
    "Make sure to:\n",
    "\n",
    "- do a train/test split\n",
    "- fit your model\n",
    "- evaluate your model (with an appropriate metric)"
   ]
  },
  {
   "cell_type": "code",
   "execution_count": 128,
   "metadata": {},
   "outputs": [
    {
     "name": "stdout",
     "output_type": "stream",
     "text": [
      "569 244\n",
      "569 244\n",
      "     beds  sq__ft\n",
      "0       2     836\n",
      "1       3    1167\n",
      "2       2     796\n",
      "3       2     852\n",
      "4       2     797\n",
      "5       3    1122\n",
      "6       3    1104\n",
      "7       3    1177\n",
      "8       2     941\n",
      "9       3    1146\n",
      "10      3     909\n",
      "11      3    1289\n",
      "12      1     871\n",
      "13      3    1020\n",
      "14      2    1022\n",
      "15      2    1134\n",
      "16      2     844\n",
      "17      2     795\n",
      "18      2     588\n",
      "19      3    1356\n",
      "20      3    1118\n",
      "21      4    1329\n",
      "22      4    1240\n",
      "23      3    1601\n",
      "24      3     901\n",
      "25      3    1088\n",
      "26      3     963\n",
      "27      3    1119\n",
      "28      4    1380\n",
      "29      3    1248\n",
      "..    ...     ...\n",
      "952     3    1296\n",
      "953     2    1189\n",
      "954     2     795\n",
      "955     3    1371\n",
      "956     3    1310\n",
      "957     3    1262\n",
      "958     4    1740\n",
      "959     3    1517\n",
      "960     3    1450\n",
      "961     3    1416\n",
      "962     3     888\n",
      "963     3    1882\n",
      "964     3    1302\n",
      "965     3    1418\n",
      "967     4    1319\n",
      "968     4    1770\n",
      "969     4    1627\n",
      "971     3    1040\n",
      "972     3     960\n",
      "974     3    1456\n",
      "975     3    1450\n",
      "976     3    1358\n",
      "977     4    1329\n",
      "978     4    1715\n",
      "979     3    1262\n",
      "980     4    2280\n",
      "981     3    1477\n",
      "982     3    1216\n",
      "983     4    1685\n",
      "984     3    1362\n",
      "\n",
      "[813 rows x 2 columns]\n"
     ]
    }
   ],
   "source": [
    "from sklearn.model_selection import train_test_split\n",
    "X=house_prices[[\"beds\",\"sq__ft\"]]\n",
    "y=house_prices[\"price\"]\n",
    "X_train, X_test, y_train, y_test = train_test_split(X, y, test_size=0.3, random_state=42)\n",
    "\n",
    "print(len(X_train), len(X_test))\n",
    "print(len(y_train), len(y_test))\n",
    "print(X)"
   ]
  },
  {
   "cell_type": "code",
   "execution_count": 129,
   "metadata": {},
   "outputs": [
    {
     "data": {
      "text/plain": [
       "LinearRegression(copy_X=True, fit_intercept=True, n_jobs=1, normalize=False)"
      ]
     },
     "execution_count": 129,
     "metadata": {},
     "output_type": "execute_result"
    }
   ],
   "source": [
    "from sklearn.linear_model import LinearRegression\n",
    "\n",
    "model = LinearRegression()\n",
    "\n",
    "model.fit(X_train, y_train)"
   ]
  },
  {
   "cell_type": "markdown",
   "metadata": {},
   "source": [
    "### 6 - Extract the coefficients and the intercept from your model. What is your interpretation of these?"
   ]
  },
  {
   "cell_type": "code",
   "execution_count": 137,
   "metadata": {},
   "outputs": [
    {
     "name": "stdout",
     "output_type": "stream",
     "text": [
      "50280.46668224101\n",
      "[-8790.08783331   130.93205207]\n"
     ]
    },
    {
     "data": {
      "text/plain": [
       "'for each extra bedroom the price drops 8790, \\nwhich does not make sense, but somewhat consistent \\n. For each sq feet the price \\ngoes up 130, which does make sense (is this correct)'"
      ]
     },
     "execution_count": 137,
     "metadata": {},
     "output_type": "execute_result"
    }
   ],
   "source": [
    "#print(model.coef_)\n",
    "print(model.intercept_)\n",
    "'''intercept of 50280 means that the price of 1 bed \n",
    "property is on average 50280 (is that correct understanding)'''\n",
    "print(model.coef_)\n",
    "'''for each extra bedroom the price drops 8790, \n",
    "which does not make sense, but somewhat consistent \n",
    "with the graph results which I got above\n",
    ". For each sq feet the price \n",
    "goes up 130, which does make sense (is this correct)'''"
   ]
  },
  {
   "cell_type": "code",
   "execution_count": 138,
   "metadata": {},
   "outputs": [
    {
     "data": {
      "text/plain": [
       "array([299111.73629548, 194121.8708773 , 192943.48240864, 227753.76791566,\n",
       "       208524.39660533, 228146.56407188, 251731.97378944, 150914.29369318,\n",
       "       260748.64503807, 240846.97312297, 231568.43777019, 177886.29642024,\n",
       "       232336.38973822, 217296.84409423, 188622.72469023, 195937.2792619 ,\n",
       "       313496.6216791 , 180129.78164989, 115038.91142517, 192925.84206422,\n",
       "       479649.39575982, 202239.65810583, 215332.86331313, 178296.73292087,\n",
       "       140998.73842446, 168738.69311954, 166495.20788988, 206298.55172009,\n",
       "       192681.61830449, 226706.31149907, 304741.81453462, 188997.88050203,\n",
       "       262188.89761088, 188247.56887842, 147396.76863163, 233532.41855129,\n",
       "       174743.92717048, 242435.79809226, 217558.70819837, 175267.65537877,\n",
       "       191503.22983583, 157871.33279747, 156151.57577611, 292582.77403624,\n",
       "       273335.7623815 , 270830.4130477 , 210881.17354265, 209571.85302192,\n",
       "       194383.73498144, 242418.15774784, 303039.69785767, 362351.91744677,\n",
       "       200912.69724068, 308294.62028501, 222010.39796886, 197020.01636732,\n",
       "       225545.56337483, 307116.23181635, 250797.80908052, 180897.73361792,\n",
       "       310764.68892998, 261028.14948663, 380700.04508141, 189408.31700267,\n",
       "       262843.55787124, 140177.86542319, 527963.32297478, 217296.84409423,\n",
       "       225676.4954269 , 144891.41929782, 325690.94286631, 162323.02256796,\n",
       "       247655.43983077, 313645.19407559, 170030.37329585, 174743.92717048,\n",
       "       186807.31630562, 496801.49458139, 332071.33272906, 247655.43983077,\n",
       "       250666.87702845, 348996.84813532, 213761.67868826, 146462.6039227 ,\n",
       "       286000.89074376, 174106.90725453, 190455.77341925, 192009.31769971,\n",
       "       167149.86815024, 202763.38631412, 166888.0040461 , 179326.54899304,\n",
       "       223302.07814518, 222254.62172859, 175660.45153499, 289047.60863027,\n",
       "       123322.9113946 , 243614.18656091, 342973.97373996, 127364.16466445,\n",
       "       211143.03764679, 179064.68488889, 181552.39387828, 182599.85029487,\n",
       "       361060.23727045, 145432.78785053, 157199.03219269, 370076.90851908,\n",
       "       208280.1728456 , 227509.54415593, 280798.88934966, 177755.36436816,\n",
       "       156823.87638089, 185218.49133633, 209309.98891777, 380289.60858078,\n",
       "       297950.98817124, 142927.43851673, 186510.17151264, 304872.74658669,\n",
       "       199751.94911644, 385509.25031929, 159948.60528623, 208524.39660533,\n",
       "       228277.49612395, 222403.19412508, 265724.06301685, 154580.39115123,\n",
       "       196347.71576254, 187313.4041695 , 158918.78921406, 194121.8708773 ,\n",
       "       284316.41441122, 201715.92989753, 182320.34584631, 299111.73629548,\n",
       "       200799.40553302, 179177.97659655, 200406.6093768 , 142159.4865487 ,\n",
       "       220570.14539606, 328030.07945921, 151062.86608967, 189539.24905474,\n",
       "       293481.65805634, 189408.31700267, 178017.22847231, 160079.5373383 ,\n",
       "       325690.94286631, 165316.81942122, 279323.35608803, 267051.02388199,\n",
       "       197115.66773056, 136922.20446578, 153681.50713113, 206542.77547982,\n",
       "       180915.37396233, 140177.86542319, 298867.51253575, 236543.85574897,\n",
       "       185218.49133633, 170554.10150414, 262319.82966295, 179177.97659655,\n",
       "       257475.34373625, 136791.27241371, 301450.87288838, 321596.76856322,\n",
       "       217427.7761463 , 142683.214757  , 184843.33552452, 264414.74249612,\n",
       "       210357.44533436, 141897.62244456, 198180.76449156, 142683.214757  ,\n",
       "       236936.65190519, 263760.08223575, 244382.13852894, 437899.71149293,\n",
       "       208000.66839704, 216118.45562557, 189128.81255411, 460402.38410508,\n",
       "       183254.51055523, 152258.89490274, 171470.62586866, 153681.50713113,\n",
       "       188622.72469023, 182992.64645109, 270830.4130477 , 269128.29637075,\n",
       "       175660.45153499, 173172.74254561, 305527.40684706, 217933.86401018,\n",
       "       201454.06579339, 197918.90038741, 297802.41577475, 187575.26827364,\n",
       "       194776.53113766, 134827.29163261, 179457.48104511, 242941.88595613,\n",
       "       214660.56270835, 222926.92233337, 136023.32044568, 189670.18110681,\n",
       "       208506.75626092, 284054.55030708, 222909.28198896, 239668.58465431,\n",
       "       225938.35953105, 182713.14200253, 161519.7899111 , 204823.01845846,\n",
       "       396542.82338225, 204709.7267508 , 167673.59635854, 159311.58537028,\n",
       "       195806.34720983, 252892.72191369, 205661.53180414, 150670.06993345,\n",
       "       215856.59152142, 276329.55923477, 323988.82618936, 345705.90648908,\n",
       "       204709.7267508 , 358144.45143602, 351633.12952119, 168459.18867098,\n",
       "       164662.15916086, 153271.0706305 , 207346.00813668, 221748.53386471,\n",
       "       216790.75623035, 459896.2962412 , 238376.90447799, 328327.22425219,\n",
       "       173696.4707539 , 229997.25314532, 225266.05892627, 136791.27241371])"
      ]
     },
     "execution_count": 138,
     "metadata": {},
     "output_type": "execute_result"
    }
   ],
   "source": [
    "y_pred = model.predict(X_test)\n",
    "y_pred"
   ]
  },
  {
   "cell_type": "code",
   "execution_count": 141,
   "metadata": {},
   "outputs": [
    {
     "data": {
      "text/plain": [
       "273    292000\n",
       "709    216033\n",
       "247    236250\n",
       "334    839000\n",
       "654    165000\n",
       "Name: price, dtype: int64"
      ]
     },
     "execution_count": 141,
     "metadata": {},
     "output_type": "execute_result"
    }
   ],
   "source": [
    "y_test.head(5)"
   ]
  },
  {
   "cell_type": "markdown",
   "metadata": {},
   "source": [
    "### 7 - What is your interpretation of your chosen error metric?"
   ]
  },
  {
   "cell_type": "code",
   "execution_count": 143,
   "metadata": {},
   "outputs": [
    {
     "name": "stdout",
     "output_type": "stream",
     "text": [
      "MAE model: 54971.76250147016\n",
      "MAE (dumb model): 81156.99064363711\n",
      "MSE model: 6935364975.869877\n",
      "MSE (dump model): 12893708428.180677\n",
      "RMSE model: 83278.8387038981\n",
      "RMSE (dump model): 113550.46643753022\n"
     ]
    }
   ],
   "source": [
    "from sklearn import metrics\n",
    "import numpy as np\n",
    "\n",
    "y_pred_mean = [y_train.mean()] * len(y_test)\n",
    "\n",
    "#average absolute value of errors\n",
    "print('MAE model:', metrics.mean_absolute_error(y_test, y_pred))\n",
    "print('MAE (dumb model):',metrics.mean_absolute_error(y_test, y_pred_mean))\n",
    "\n",
    "#squares large errors\n",
    "print('MSE model:', metrics.mean_squared_error(y_test, y_pred))\n",
    "print('MSE (dump model):', metrics.mean_squared_error(y_test, y_pred_mean))\n",
    "\n",
    "#square root out of MSE\n",
    "print('RMSE model:', np.sqrt(metrics.mean_squared_error(y_test, y_pred)))\n",
    "print('RMSE (dump model):', np.sqrt(metrics.mean_squared_error(y_test, y_pred_mean)))"
   ]
  },
  {
   "cell_type": "markdown",
   "metadata": {},
   "source": [
    "### 8 - Does your model do better than a model that predicts the average price for everything?"
   ]
  },
  {
   "cell_type": "code",
   "execution_count": 142,
   "metadata": {},
   "outputs": [
    {
     "name": "stdout",
     "output_type": "stream",
     "text": [
      "RMSE (model): 83278.8387038981\n",
      "RMSE: (dumb model): 113550.46643753022\n"
     ]
    }
   ],
   "source": [
    "'''as per cell above, probable better'''"
   ]
  },
  {
   "cell_type": "markdown",
   "metadata": {},
   "source": [
    "### 9 - If you haven't already, add *type* as an additional predictor, making sure to deal with it accordingly"
   ]
  },
  {
   "cell_type": "code",
   "execution_count": 148,
   "metadata": {},
   "outputs": [
    {
     "data": {
      "image/png": "[encoded data removed]",
      "text/plain": [
       "<Figure size 432x288 with 1 Axes>"
      ]
     },
     "metadata": {},
     "output_type": "display_data"
    }
   ],
   "source": [
    "'''it did not work because it is not numeric...\n",
    "I guess there is smth else I should have done to it?'''\n",
    "all_prices=house_prices.groupby(\"type\")['price'].mean()\n",
    "plt.plot(all_prices.index,all_prices)\n",
    "plt.grid()\n",
    "plt.xlabel('type')\n",
    "plt.ylabel('price')\n",
    "plt.show()\n"
   ]
  },
  {
   "cell_type": "code",
   "execution_count": 150,
   "metadata": {},
   "outputs": [
    {
     "name": "stdout",
     "output_type": "stream",
     "text": [
      "569 244\n",
      "569 244\n",
      "     beds  sq__ft         type\n",
      "0       2     836  Residential\n",
      "1       3    1167  Residential\n",
      "2       2     796  Residential\n",
      "3       2     852  Residential\n",
      "4       2     797  Residential\n",
      "5       3    1122        Condo\n",
      "6       3    1104  Residential\n",
      "7       3    1177  Residential\n",
      "8       2     941        Condo\n",
      "9       3    1146  Residential\n",
      "10      3     909  Residential\n",
      "11      3    1289  Residential\n",
      "12      1     871  Residential\n",
      "13      3    1020  Residential\n",
      "14      2    1022  Residential\n",
      "15      2    1134        Condo\n",
      "16      2     844  Residential\n",
      "17      2     795        Condo\n",
      "18      2     588  Residential\n",
      "19      3    1356  Residential\n",
      "20      3    1118  Residential\n",
      "21      4    1329  Residential\n",
      "22      4    1240  Residential\n",
      "23      3    1601  Residential\n",
      "24      3     901  Residential\n",
      "25      3    1088  Residential\n",
      "26      3     963  Residential\n",
      "27      3    1119  Residential\n",
      "28      4    1380  Residential\n",
      "29      3    1248  Residential\n",
      "..    ...     ...          ...\n",
      "952     3    1296  Residential\n",
      "953     2    1189  Residential\n",
      "954     2     795  Residential\n",
      "955     3    1371  Residential\n",
      "956     3    1310  Residential\n",
      "957     3    1262  Residential\n",
      "958     4    1740  Residential\n",
      "959     3    1517  Residential\n",
      "960     3    1450  Residential\n",
      "961     3    1416  Residential\n",
      "962     3     888  Residential\n",
      "963     3    1882  Residential\n",
      "964     3    1302  Residential\n",
      "965     3    1418  Residential\n",
      "967     4    1319  Residential\n",
      "968     4    1770  Residential\n",
      "969     4    1627  Residential\n",
      "971     3    1040  Residential\n",
      "972     3     960  Residential\n",
      "974     3    1456  Residential\n",
      "975     3    1450  Residential\n",
      "976     3    1358  Residential\n",
      "977     4    1329  Residential\n",
      "978     4    1715  Residential\n",
      "979     3    1262  Residential\n",
      "980     4    2280  Residential\n",
      "981     3    1477  Residential\n",
      "982     3    1216  Residential\n",
      "983     4    1685  Residential\n",
      "984     3    1362  Residential\n",
      "\n",
      "[813 rows x 3 columns]\n"
     ]
    }
   ],
   "source": [
    "from sklearn.model_selection import train_test_split\n",
    "\n",
    "X = house_prices[[\"beds\",\"sq__ft\",\"type\"]]\n",
    "y = house_prices[\"price\"]\n",
    "\n",
    "X_train, X_test, y_train, y_test = train_test_split(X, y, test_size=0.3, random_state=42)\n",
    "\n",
    "print(len(X_train), len(X_test))\n",
    "print(len(y_train), len(y_test))\n",
    "print(X)"
   ]
  },
  {
   "cell_type": "markdown",
   "metadata": {},
   "source": [
    "### 10 - Reflect on your model. What are some possible issues with the predictors you used?"
   ]
  },
  {
   "cell_type": "code",
   "execution_count": 151,
   "metadata": {},
   "outputs": [
    {
     "ename": "ValueError",
     "evalue": "could not convert string to float: 'Residential'",
     "output_type": "error",
     "traceback": [
      "\u001b[1;31m---------------------------------------------------------------------------\u001b[0m",
      "\u001b[1;31mValueError\u001b[0m                                Traceback (most recent call last)",
      "\u001b[1;32m<ipython-input-151-0a93a051ca11>\u001b[0m in \u001b[0;36m<module>\u001b[1;34m()\u001b[0m\n\u001b[0;32m      3\u001b[0m \u001b[0mmodel\u001b[0m \u001b[1;33m=\u001b[0m \u001b[0mLinearRegression\u001b[0m\u001b[1;33m(\u001b[0m\u001b[1;33m)\u001b[0m\u001b[1;33m\u001b[0m\u001b[0m\n\u001b[0;32m      4\u001b[0m \u001b[1;33m\u001b[0m\u001b[0m\n\u001b[1;32m----> 5\u001b[1;33m \u001b[0mmodel\u001b[0m\u001b[1;33m.\u001b[0m\u001b[0mfit\u001b[0m\u001b[1;33m(\u001b[0m\u001b[0mX_train\u001b[0m\u001b[1;33m,\u001b[0m \u001b[0my_train\u001b[0m\u001b[1;33m)\u001b[0m\u001b[1;33m\u001b[0m\u001b[0m\n\u001b[0m",
      "\u001b[1;32m~\\Anaconda3\\lib\\site-packages\\sklearn\\linear_model\\base.py\u001b[0m in \u001b[0;36mfit\u001b[1;34m(self, X, y, sample_weight)\u001b[0m\n\u001b[0;32m    480\u001b[0m         \u001b[0mn_jobs_\u001b[0m \u001b[1;33m=\u001b[0m \u001b[0mself\u001b[0m\u001b[1;33m.\u001b[0m\u001b[0mn_jobs\u001b[0m\u001b[1;33m\u001b[0m\u001b[0m\n\u001b[0;32m    481\u001b[0m         X, y = check_X_y(X, y, accept_sparse=['csr', 'csc', 'coo'],\n\u001b[1;32m--> 482\u001b[1;33m                          y_numeric=True, multi_output=True)\n\u001b[0m\u001b[0;32m    483\u001b[0m \u001b[1;33m\u001b[0m\u001b[0m\n\u001b[0;32m    484\u001b[0m         \u001b[1;32mif\u001b[0m \u001b[0msample_weight\u001b[0m \u001b[1;32mis\u001b[0m \u001b[1;32mnot\u001b[0m \u001b[1;32mNone\u001b[0m \u001b[1;32mand\u001b[0m \u001b[0mnp\u001b[0m\u001b[1;33m.\u001b[0m\u001b[0matleast_1d\u001b[0m\u001b[1;33m(\u001b[0m\u001b[0msample_weight\u001b[0m\u001b[1;33m)\u001b[0m\u001b[1;33m.\u001b[0m\u001b[0mndim\u001b[0m \u001b[1;33m>\u001b[0m \u001b[1;36m1\u001b[0m\u001b[1;33m:\u001b[0m\u001b[1;33m\u001b[0m\u001b[0m\n",
      "\u001b[1;32m~\\Anaconda3\\lib\\site-packages\\sklearn\\utils\\validation.py\u001b[0m in \u001b[0;36mcheck_X_y\u001b[1;34m(X, y, accept_sparse, dtype, order, copy, force_all_finite, ensure_2d, allow_nd, multi_output, ensure_min_samples, ensure_min_features, y_numeric, warn_on_dtype, estimator)\u001b[0m\n\u001b[0;32m    571\u001b[0m     X = check_array(X, accept_sparse, dtype, order, copy, force_all_finite,\n\u001b[0;32m    572\u001b[0m                     \u001b[0mensure_2d\u001b[0m\u001b[1;33m,\u001b[0m \u001b[0mallow_nd\u001b[0m\u001b[1;33m,\u001b[0m \u001b[0mensure_min_samples\u001b[0m\u001b[1;33m,\u001b[0m\u001b[1;33m\u001b[0m\u001b[0m\n\u001b[1;32m--> 573\u001b[1;33m                     ensure_min_features, warn_on_dtype, estimator)\n\u001b[0m\u001b[0;32m    574\u001b[0m     \u001b[1;32mif\u001b[0m \u001b[0mmulti_output\u001b[0m\u001b[1;33m:\u001b[0m\u001b[1;33m\u001b[0m\u001b[0m\n\u001b[0;32m    575\u001b[0m         y = check_array(y, 'csr', force_all_finite=True, ensure_2d=False,\n",
      "\u001b[1;32m~\\Anaconda3\\lib\\site-packages\\sklearn\\utils\\validation.py\u001b[0m in \u001b[0;36mcheck_array\u001b[1;34m(array, accept_sparse, dtype, order, copy, force_all_finite, ensure_2d, allow_nd, ensure_min_samples, ensure_min_features, warn_on_dtype, estimator)\u001b[0m\n\u001b[0;32m    446\u001b[0m         \u001b[1;31m# make sure we actually converted to numeric:\u001b[0m\u001b[1;33m\u001b[0m\u001b[1;33m\u001b[0m\u001b[0m\n\u001b[0;32m    447\u001b[0m         \u001b[1;32mif\u001b[0m \u001b[0mdtype_numeric\u001b[0m \u001b[1;32mand\u001b[0m \u001b[0marray\u001b[0m\u001b[1;33m.\u001b[0m\u001b[0mdtype\u001b[0m\u001b[1;33m.\u001b[0m\u001b[0mkind\u001b[0m \u001b[1;33m==\u001b[0m \u001b[1;34m\"O\"\u001b[0m\u001b[1;33m:\u001b[0m\u001b[1;33m\u001b[0m\u001b[0m\n\u001b[1;32m--> 448\u001b[1;33m             \u001b[0marray\u001b[0m \u001b[1;33m=\u001b[0m \u001b[0marray\u001b[0m\u001b[1;33m.\u001b[0m\u001b[0mastype\u001b[0m\u001b[1;33m(\u001b[0m\u001b[0mnp\u001b[0m\u001b[1;33m.\u001b[0m\u001b[0mfloat64\u001b[0m\u001b[1;33m)\u001b[0m\u001b[1;33m\u001b[0m\u001b[0m\n\u001b[0m\u001b[0;32m    449\u001b[0m         \u001b[1;32mif\u001b[0m \u001b[1;32mnot\u001b[0m \u001b[0mallow_nd\u001b[0m \u001b[1;32mand\u001b[0m \u001b[0marray\u001b[0m\u001b[1;33m.\u001b[0m\u001b[0mndim\u001b[0m \u001b[1;33m>=\u001b[0m \u001b[1;36m3\u001b[0m\u001b[1;33m:\u001b[0m\u001b[1;33m\u001b[0m\u001b[0m\n\u001b[0;32m    450\u001b[0m             raise ValueError(\"Found array with dim %d. %s expected <= 2.\"\n",
      "\u001b[1;31mValueError\u001b[0m: could not convert string to float: 'Residential'"
     ]
    }
   ],
   "source": [
    "from sklearn.linear_model import LinearRegression\n",
    "\n",
    "model = LinearRegression()\n",
    "\n",
    "model.fit(X_train, y_train)"
   ]
  }
 ],
 "metadata": {
  "kernelspec": {
   "display_name": "Python 3",
   "language": "python",
   "name": "python3"
  },
  "language_info": {
   "codemirror_mode": {
    "name": "ipython",
    "version": 3
   },
   "file_extension": ".py",
   "mimetype": "text/x-python",
   "name": "python",
   "nbconvert_exporter": "python",
   "pygments_lexer": "ipython3",
   "version": "3.6.5"
  }
 },
 "nbformat": 4,
 "nbformat_minor": 2
}
