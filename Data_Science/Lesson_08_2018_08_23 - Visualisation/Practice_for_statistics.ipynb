{
 "cells": [
  {
   "cell_type": "markdown",
   "metadata": {},
   "source": [
    "# Practice plotting and statistics\n",
    "\n",
    "Use the Fifa 2018 dataframe to show descriptive statistics and plotting distributions\n",
    "\n",
    "Use the App Store dataframe to show inferential statistics (sampling, CI, p-values)"
   ]
  },
  {
   "cell_type": "markdown",
   "metadata": {},
   "source": [
    "# Descriptive statistics"
   ]
  },
  {
   "cell_type": "markdown",
   "metadata": {},
   "source": [
    "### 1. Open the FIFA 2018 Statistics dataframe"
   ]
  },
  {
   "cell_type": "markdown",
   "metadata": {},
   "source": [
    "- Date: Match Date\n",
    "- Team: Playing Team\n",
    "- Opponent: Opponent Team\n",
    "- Goal Scored: Number of goals scored by this team\n",
    "- Ball Possession %: Amount of time ball was in control by the team\n",
    "- Attempts: Number of attempts to score goal\n",
    "- On-Target: Number of shots on-target\n",
    "- Off-Target: Number of shots that went off-target\n",
    "- Blocked: Number of opponent team's attempts blocked by the team\n",
    "- Corners: Number of corner shots used\n",
    "- Offsides: Number of off-side events\n",
    "- Free Kicks: Number of free-kicks used\n",
    "- Saves: Number saves by the goal keeper\n",
    "- Pass Accuracy %: Percentage of passes that reached the same team player as aimed\n",
    "- Passes: Total number of passes by the team\n",
    "- Distance Covered (Kms): Total distance covered by the team members in this game\n",
    "- Fouls Committed: Number of fouls committed by the team members\n",
    "- Yellow Card: Number of Yellow warning received\n",
    "- Yellow & Red: Number of Yellow & Red warning received\n",
    "- Red: Number of Red cards received\n",
    "- Man of the Match: Did this team member win Man of the Match?\n",
    "- 1st Goal: When did the team score the 1st goal?\n",
    "- Round: Stage of the match\n",
    "- PSO: Was there a penalty shootout (PSO) in this match?\n",
    "- Goals in PSO: Number of goals scored in the Penalty shootout\n",
    "- Own goals: Number of own goals\n",
    "- Own goal Time: When did the team score own goal?\n"
   ]
  },
  {
   "cell_type": "markdown",
   "metadata": {},
   "source": [
    "### 2. Calculate the mean and median values for 'Attempts', 'On-Target' and 'Off-Target'\n",
    "\n",
    "Hint: use numpy"
   ]
  },
  {
   "cell_type": "code",
   "execution_count": 8,
   "metadata": {},
   "outputs": [
    {
     "data": {
      "text/html": [
       "<div>\n",
       "<style scoped>\n",
       "    .dataframe tbody tr th:only-of-type {\n",
       "        vertical-align: middle;\n",
       "    }\n",
       "\n",
       "    .dataframe tbody tr th {\n",
       "        vertical-align: top;\n",
       "    }\n",
       "\n",
       "    .dataframe thead th {\n",
       "        text-align: right;\n",
       "    }\n",
       "</style>\n",
       "<table border=\"1\" class=\"dataframe\">\n",
       "  <thead>\n",
       "    <tr style=\"text-align: right;\">\n",
       "      <th></th>\n",
       "      <th>Date</th>\n",
       "      <th>Team</th>\n",
       "      <th>Opponent</th>\n",
       "      <th>Goal Scored</th>\n",
       "      <th>Ball Possession %</th>\n",
       "      <th>Attempts</th>\n",
       "      <th>On-Target</th>\n",
       "      <th>Off-Target</th>\n",
       "      <th>Blocked</th>\n",
       "      <th>Corners</th>\n",
       "      <th>...</th>\n",
       "      <th>Yellow Card</th>\n",
       "      <th>Yellow &amp; Red</th>\n",
       "      <th>Red</th>\n",
       "      <th>Man of the Match</th>\n",
       "      <th>1st Goal</th>\n",
       "      <th>Round</th>\n",
       "      <th>PSO</th>\n",
       "      <th>Goals in PSO</th>\n",
       "      <th>Own goals</th>\n",
       "      <th>Own goal Time</th>\n",
       "    </tr>\n",
       "  </thead>\n",
       "  <tbody>\n",
       "    <tr>\n",
       "      <th>0</th>\n",
       "      <td>14-06-2018</td>\n",
       "      <td>Russia</td>\n",
       "      <td>Saudi Arabia</td>\n",
       "      <td>5</td>\n",
       "      <td>40</td>\n",
       "      <td>13</td>\n",
       "      <td>7</td>\n",
       "      <td>3</td>\n",
       "      <td>3</td>\n",
       "      <td>6</td>\n",
       "      <td>...</td>\n",
       "      <td>0</td>\n",
       "      <td>0</td>\n",
       "      <td>0</td>\n",
       "      <td>Yes</td>\n",
       "      <td>12.0</td>\n",
       "      <td>Group Stage</td>\n",
       "      <td>No</td>\n",
       "      <td>0</td>\n",
       "      <td>NaN</td>\n",
       "      <td>NaN</td>\n",
       "    </tr>\n",
       "    <tr>\n",
       "      <th>1</th>\n",
       "      <td>14-06-2018</td>\n",
       "      <td>Saudi Arabia</td>\n",
       "      <td>Russia</td>\n",
       "      <td>0</td>\n",
       "      <td>60</td>\n",
       "      <td>6</td>\n",
       "      <td>0</td>\n",
       "      <td>3</td>\n",
       "      <td>3</td>\n",
       "      <td>2</td>\n",
       "      <td>...</td>\n",
       "      <td>0</td>\n",
       "      <td>0</td>\n",
       "      <td>0</td>\n",
       "      <td>No</td>\n",
       "      <td>NaN</td>\n",
       "      <td>Group Stage</td>\n",
       "      <td>No</td>\n",
       "      <td>0</td>\n",
       "      <td>NaN</td>\n",
       "      <td>NaN</td>\n",
       "    </tr>\n",
       "    <tr>\n",
       "      <th>2</th>\n",
       "      <td>15-06-2018</td>\n",
       "      <td>Egypt</td>\n",
       "      <td>Uruguay</td>\n",
       "      <td>0</td>\n",
       "      <td>43</td>\n",
       "      <td>8</td>\n",
       "      <td>3</td>\n",
       "      <td>3</td>\n",
       "      <td>2</td>\n",
       "      <td>0</td>\n",
       "      <td>...</td>\n",
       "      <td>2</td>\n",
       "      <td>0</td>\n",
       "      <td>0</td>\n",
       "      <td>No</td>\n",
       "      <td>NaN</td>\n",
       "      <td>Group Stage</td>\n",
       "      <td>No</td>\n",
       "      <td>0</td>\n",
       "      <td>NaN</td>\n",
       "      <td>NaN</td>\n",
       "    </tr>\n",
       "    <tr>\n",
       "      <th>3</th>\n",
       "      <td>15-06-2018</td>\n",
       "      <td>Uruguay</td>\n",
       "      <td>Egypt</td>\n",
       "      <td>1</td>\n",
       "      <td>57</td>\n",
       "      <td>14</td>\n",
       "      <td>4</td>\n",
       "      <td>6</td>\n",
       "      <td>4</td>\n",
       "      <td>5</td>\n",
       "      <td>...</td>\n",
       "      <td>0</td>\n",
       "      <td>0</td>\n",
       "      <td>0</td>\n",
       "      <td>Yes</td>\n",
       "      <td>89.0</td>\n",
       "      <td>Group Stage</td>\n",
       "      <td>No</td>\n",
       "      <td>0</td>\n",
       "      <td>NaN</td>\n",
       "      <td>NaN</td>\n",
       "    </tr>\n",
       "    <tr>\n",
       "      <th>4</th>\n",
       "      <td>15-06-2018</td>\n",
       "      <td>Morocco</td>\n",
       "      <td>Iran</td>\n",
       "      <td>0</td>\n",
       "      <td>64</td>\n",
       "      <td>13</td>\n",
       "      <td>3</td>\n",
       "      <td>6</td>\n",
       "      <td>4</td>\n",
       "      <td>5</td>\n",
       "      <td>...</td>\n",
       "      <td>1</td>\n",
       "      <td>0</td>\n",
       "      <td>0</td>\n",
       "      <td>No</td>\n",
       "      <td>NaN</td>\n",
       "      <td>Group Stage</td>\n",
       "      <td>No</td>\n",
       "      <td>0</td>\n",
       "      <td>1.0</td>\n",
       "      <td>90.0</td>\n",
       "    </tr>\n",
       "  </tbody>\n",
       "</table>\n",
       "<p>5 rows × 27 columns</p>\n",
       "</div>"
      ],
      "text/plain": [
       "         Date          Team      Opponent  Goal Scored  Ball Possession %  \\\n",
       "0  14-06-2018        Russia  Saudi Arabia            5                 40   \n",
       "1  14-06-2018  Saudi Arabia        Russia            0                 60   \n",
       "2  15-06-2018         Egypt       Uruguay            0                 43   \n",
       "3  15-06-2018       Uruguay         Egypt            1                 57   \n",
       "4  15-06-2018       Morocco          Iran            0                 64   \n",
       "\n",
       "   Attempts  On-Target  Off-Target  Blocked  Corners      ...        \\\n",
       "0        13          7           3        3        6      ...         \n",
       "1         6          0           3        3        2      ...         \n",
       "2         8          3           3        2        0      ...         \n",
       "3        14          4           6        4        5      ...         \n",
       "4        13          3           6        4        5      ...         \n",
       "\n",
       "   Yellow Card  Yellow & Red  Red  Man of the Match  1st Goal        Round  \\\n",
       "0            0             0    0               Yes      12.0  Group Stage   \n",
       "1            0             0    0                No       NaN  Group Stage   \n",
       "2            2             0    0                No       NaN  Group Stage   \n",
       "3            0             0    0               Yes      89.0  Group Stage   \n",
       "4            1             0    0                No       NaN  Group Stage   \n",
       "\n",
       "   PSO  Goals in PSO  Own goals  Own goal Time  \n",
       "0   No             0        NaN            NaN  \n",
       "1   No             0        NaN            NaN  \n",
       "2   No             0        NaN            NaN  \n",
       "3   No             0        NaN            NaN  \n",
       "4   No             0        1.0           90.0  \n",
       "\n",
       "[5 rows x 27 columns]"
      ]
     },
     "execution_count": 8,
     "metadata": {},
     "output_type": "execute_result"
    }
   ],
   "source": [
    "import numpy as np\n",
    "import pandas as pd\n",
    "fifa=pd.read_csv('datasets/FIFA 2018 Statistics.csv')\n",
    "fifa.head(5)"
   ]
  },
  {
   "cell_type": "code",
   "execution_count": 198,
   "metadata": {},
   "outputs": [
    {
     "name": "stdout",
     "output_type": "stream",
     "text": [
      "Attempts mean:  12.59375\n",
      "Attempts median:  12.0\n",
      "On-target mean:  3.9140625\n",
      "On-target median:  3.5\n",
      "Off-target mean:  5.2734375\n",
      "Off-target median:  5.0\n",
      "34\n",
      "0\n",
      "0\n",
      "116\n",
      "116\n"
     ]
    }
   ],
   "source": [
    "#Printing Means and Averages\n",
    "print(\"Attempts mean: \",np.mean(fifa.Attempts))\n",
    "print(\"Attempts median: \", np.median(fifa.Attempts))\n",
    "\n",
    "print(\"On-target mean: \", np.mean(fifa['On-Target']))\n",
    "print(\"On-target median: \", np.median(fifa['On-Target']))\n",
    "\n",
    "print(\"Off-target mean: \",np.mean(fifa['Off-Target']))\n",
    "print(\"Off-target median: \", np.median(fifa['Off-Target']))\n",
    "\n",
    "#count missing values for next task\n",
    "print (fifa['1st Goal'].isna().sum())\n",
    "print(fifa['Ball Possession %'].isnull().sum())\n",
    "print(fifa['Pass Accuracy %'].isna().sum())\n",
    "print(fifa['Own goals'].isna().sum())\n",
    "print(fifa['Own goal Time'].isna().sum())"
   ]
  },
  {
   "cell_type": "markdown",
   "metadata": {},
   "source": [
    "### 3. Given the results you obtained, can you establish whether these data are skewed?\n",
    "Hint: compare the mean and median"
   ]
  },
  {
   "cell_type": "code",
   "execution_count": null,
   "metadata": {},
   "outputs": [],
   "source": [
    "#all these data are positively skewed"
   ]
  },
  {
   "cell_type": "markdown",
   "metadata": {},
   "source": [
    "### 4. Calculate the skew for each of the data you extracted\n",
    "Hint: use scipy"
   ]
  },
  {
   "cell_type": "code",
   "execution_count": 4,
   "metadata": {},
   "outputs": [
    {
     "name": "stdout",
     "output_type": "stream",
     "text": [
      "Goal Scored               1.132232\n",
      "Ball Possession                NaN\n",
      "Attempts                  0.645828\n",
      "On-Target                 0.792629\n",
      "Off-Target                0.279919\n",
      "Blocked                   0.942771\n",
      "Corners                   0.302464\n",
      "Offsides                  0.819830\n",
      "Free Kicks                0.098830\n",
      "Saves                     0.934101\n",
      "Pass Accuracy                  NaN\n",
      "Passes                    0.764886\n",
      "Distance Covered (Kms)    1.752356\n",
      "Fouls Committed           0.265283\n",
      "Yellow Card               0.796280\n",
      "Yellow & Red              7.811266\n",
      "Red                       7.811266\n",
      "1st Goal                  0.582476\n",
      "Goals in PSO              3.857635\n",
      "Own goals                 2.787493\n",
      "Own goal Time             4.218042\n",
      "dtype: float64\n"
     ]
    },
    {
     "name": "stderr",
     "output_type": "stream",
     "text": [
      "C:\\Users\\olgad\\Anaconda3\\lib\\site-packages\\pandas\\core\\indexing.py:1472: FutureWarning: \n",
      "Passing list-likes to .loc or [] with any missing label will raise\n",
      "KeyError in the future, you can use .reindex() as an alternative.\n",
      "\n",
      "See the documentation here:\n",
      "https://pandas.pydata.org/pandas-docs/stable/indexing.html#deprecate-loc-reindex-listlike\n",
      "  return self._getitem_tuple(key)\n"
     ]
    },
    {
     "data": {
      "text/plain": [
       "'I do not get why skew cannot be calculated for ball possesison and Pass Accuracy, \\nthough the number of na values there is none, according to previous cell'"
      ]
     },
     "execution_count": 4,
     "metadata": {},
     "output_type": "execute_result"
    }
   ],
   "source": [
    "from scipy import stats\n",
    "lst=['Goal Scored','Ball Possession','Attempts','On-Target','Off-Target','Blocked','Corners','Offsides','Free Kicks','Saves','Pass Accuracy', 'Passes', 'Distance Covered (Kms)','Fouls Committed', 'Yellow Card','Yellow & Red','Red','1st Goal','Goals in PSO','Own goals','Own goal Time']\n",
    "\n",
    "fifa['1st Goal'].fillna(value=0,inplace=True)\n",
    "fifa['Own goals'].fillna(value=0,inplace=True)\n",
    "fifa['Own goal Time'].fillna(value=0,inplace=True)\n",
    "skew_=fifa.loc[:,lst].apply(stats.skew)\n",
    "print(skew_)\n",
    "'''I do not get why skew cannot be calculated for ball possesison and Pass Accuracy, \n",
    "though the number of na values there is none, according to previous cell'''"
   ]
  },
  {
   "cell_type": "code",
   "execution_count": 5,
   "metadata": {},
   "outputs": [
    {
     "name": "stdout",
     "output_type": "stream",
     "text": [
      "Goal Scored               1.132232\n",
      "Ball Possession           0.002204\n",
      "Attempts                  0.645828\n",
      "On-Target                 0.792629\n",
      "Off-Target                0.279919\n",
      "Blocked                   0.942771\n",
      "Corners                   0.302464\n",
      "Offsides                  0.819830\n",
      "Free Kicks                0.098830\n",
      "Saves                     0.934101\n",
      "Pass Accuracy            -0.691037\n",
      "Passes                    0.764886\n",
      "Distance Covered (Kms)    1.752356\n",
      "Fouls Committed           0.265283\n",
      "Yellow Card               0.796280\n",
      "Yellow & Red              7.811266\n",
      "Red                       7.811266\n",
      "1st Goal                  0.582476\n",
      "Goals in PSO              3.857635\n",
      "Own goals                 2.787493\n",
      "Own goal Time             4.218042\n",
      "dtype: float64\n"
     ]
    }
   ],
   "source": [
    "update_columns = ['Date', \n",
    "                  'Team', \n",
    "                  'Opponent', \n",
    "                  'Goal Scored', \n",
    "                  'Ball Possession',\n",
    "                  'Attempts',\n",
    "                  'On-Target', \n",
    "                  'Off-Target',\n",
    "                  'Blocked',\n",
    "                  'Corners',\n",
    "                  'Offsides',\n",
    "                  'Free Kicks',\n",
    "                  'Saves',\n",
    "                  'Pass Accuracy',\n",
    "                  'Passes',\n",
    "                  'Distance Covered (Kms)',\n",
    "                  'Fouls Committed',\n",
    "                  'Yellow Card',\n",
    "                  'Yellow & Red',\n",
    "                  'Red',\n",
    "                  'Man of the Match',\n",
    "                  '1st Goal',\n",
    "                  'Round',\n",
    "                  'PSO',\n",
    "                  'Goals in PSO',\n",
    "                  'Own goals',\n",
    "                  'Own goal Time']\n",
    "fifa.columns = update_columns\n",
    "skew_=fifa.loc[:,lst].apply(stats.skew)\n",
    "print(skew_)"
   ]
  },
  {
   "cell_type": "code",
   "execution_count": null,
   "metadata": {},
   "outputs": [],
   "source": [
    "### 5. Plot the histograms for each of the extracted columns\n",
    "\n",
    "Hint: choose an acceptable number of bins"
   ]
  },
  {
   "cell_type": "code",
   "execution_count": 9,
   "metadata": {},
   "outputs": [
    {
     "data": {
      "image/png": "[encoded data removed]",
      "text/plain": [
       "<Figure size 432x288 with 1 Axes>"
      ]
     },
     "metadata": {},
     "output_type": "display_data"
    },
    {
     "data": {
      "image/png": "[encoded data removed]",
      "text/plain": [
       "<Figure size 432x288 with 1 Axes>"
      ]
     },
     "metadata": {},
     "output_type": "display_data"
    },
    {
     "data": {
      "image/png": "[encoded data removed]",
      "text/plain": [
       "<Figure size 432x288 with 1 Axes>"
      ]
     },
     "metadata": {},
     "output_type": "display_data"
    },
    {
     "data": {
      "image/png": "[encoded data removed]",
      "text/plain": [
       "<Figure size 432x288 with 1 Axes>"
      ]
     },
     "metadata": {},
     "output_type": "display_data"
    },
    {
     "data": {
      "image/png": "[encoded data removed]",
      "text/plain": [
       "<Figure size 432x288 with 1 Axes>"
      ]
     },
     "metadata": {},
     "output_type": "display_data"
    },
    {
     "data": {
      "image/png": "[encoded data removed]",
      "text/plain": [
       "<Figure size 432x288 with 1 Axes>"
      ]
     },
     "metadata": {},
     "output_type": "display_data"
    },
    {
     "data": {
      "image/png": "[encoded data removed]",
      "text/plain": [
       "<Figure size 432x288 with 1 Axes>"
      ]
     },
     "metadata": {},
     "output_type": "display_data"
    },
    {
     "data": {
      "image/png": "[encoded data removed]",
      "text/plain": [
       "<Figure size 432x288 with 1 Axes>"
      ]
     },
     "metadata": {},
     "output_type": "display_data"
    },
    {
     "data": {
      "image/png": "[encoded data removed]",
      "text/plain": [
       "<Figure size 432x288 with 1 Axes>"
      ]
     },
     "metadata": {},
     "output_type": "display_data"
    },
    {
     "data": {
      "image/png": "[encoded data removed]",
      "text/plain": [
       "<Figure size 432x288 with 1 Axes>"
      ]
     },
     "metadata": {},
     "output_type": "display_data"
    },
    {
     "data": {
      "image/png": "[encoded data removed]",
      "text/plain": [
       "<Figure size 432x288 with 1 Axes>"
      ]
     },
     "metadata": {},
     "output_type": "display_data"
    },
    {
     "data": {
      "image/png": "[encoded data removed]",
      "text/plain": [
       "<Figure size 432x288 with 1 Axes>"
      ]
     },
     "metadata": {},
     "output_type": "display_data"
    },
    {
     "data": {
      "image/png": "[encoded data removed]",
      "text/plain": [
       "<Figure size 432x288 with 1 Axes>"
      ]
     },
     "metadata": {},
     "output_type": "display_data"
    },
    {
     "data": {
      "image/png": "[encoded data removed]",
      "text/plain": [
       "<Figure size 432x288 with 1 Axes>"
      ]
     },
     "metadata": {},
     "output_type": "display_data"
    },
    {
     "data": {
      "image/png": "[encoded data removed]",
      "text/plain": [
       "<Figure size 432x288 with 1 Axes>"
      ]
     },
     "metadata": {},
     "output_type": "display_data"
    },
    {
     "data": {
      "image/png": "[encoded data removed]",
      "text/plain": [
       "<Figure size 432x288 with 1 Axes>"
      ]
     },
     "metadata": {},
     "output_type": "display_data"
    },
    {
     "data": {
      "image/png": "[encoded data removed]",
      "text/plain": [
       "<Figure size 432x288 with 1 Axes>"
      ]
     },
     "metadata": {},
     "output_type": "display_data"
    },
    {
     "data": {
      "image/png": "[encoded data removed]",
      "text/plain": [
       "<Figure size 432x288 with 1 Axes>"
      ]
     },
     "metadata": {},
     "output_type": "display_data"
    },
    {
     "data": {
      "image/png": "[encoded data removed]",
      "text/plain": [
       "<Figure size 432x288 with 1 Axes>"
      ]
     },
     "metadata": {},
     "output_type": "display_data"
    },
    {
     "data": {
      "image/png": "[encoded data removed]",
      "text/plain": [
       "<Figure size 432x288 with 1 Axes>"
      ]
     },
     "metadata": {},
     "output_type": "display_data"
    },
    {
     "data": {
      "image/png": "[encoded data removed]",
      "text/plain": [
       "<Figure size 432x288 with 1 Axes>"
      ]
     },
     "metadata": {},
     "output_type": "display_data"
    },
    {
     "name": "stdout",
     "output_type": "stream",
     "text": [
      "max must be larger than min in range parameter.\n"
     ]
    },
    {
     "data": {
      "image/png": "[encoded data removed]",
      "text/plain": [
       "<Figure size 432x288 with 1 Axes>"
      ]
     },
     "metadata": {},
     "output_type": "display_data"
    },
    {
     "data": {
      "image/png": "[encoded data removed]",
      "text/plain": [
       "<Figure size 432x288 with 1 Axes>"
      ]
     },
     "metadata": {},
     "output_type": "display_data"
    },
    {
     "data": {
      "image/png": "[encoded data removed]",
      "text/plain": [
       "<Figure size 432x288 with 1 Axes>"
      ]
     },
     "metadata": {},
     "output_type": "display_data"
    },
    {
     "name": "stdout",
     "output_type": "stream",
     "text": [
      "max must be larger than min in range parameter.\n",
      "max must be larger than min in range parameter.\n"
     ]
    },
    {
     "data": {
      "image/png": "[encoded data removed]",
      "text/plain": [
       "<Figure size 432x288 with 1 Axes>"
      ]
     },
     "metadata": {},
     "output_type": "display_data"
    }
   ],
   "source": [
    "'''Talk about this one with Faye'''\n",
    "\n",
    "import matplotlib.pyplot as plt\n",
    "import seaborn as sns\n",
    "%matplotlib inline\n",
    "\n",
    "for i,col in enumerate(fifa.columns):\n",
    "    try:\n",
    "        plt.hist(fifa[col],bins=10)\n",
    "        plt.show()\n",
    "        #plt.figure(i)\n",
    "        #sns.distplot(fifa[col])\n",
    "    except Exception as e:\n",
    "        print(e)\n"
   ]
  },
  {
   "cell_type": "markdown",
   "metadata": {},
   "source": [
    "### 6. Now repeat points 2, 3, 4 and 5 for the category 'Yellow Card' and 'Red'\n",
    "\n",
    "Do you expect to find different results?"
   ]
  },
  {
   "cell_type": "code",
   "execution_count": 10,
   "metadata": {},
   "outputs": [
    {
     "name": "stdout",
     "output_type": "stream",
     "text": [
      "Yellow Card mean:  1.6953125\n",
      "Yellow Card median:  2.0\n",
      "0.7962804633718196\n"
     ]
    },
    {
     "data": {
      "text/plain": [
       "'Question: if median is smaller, data is negatively skewed. \\nHow do I interpret 0.796..skew in this context?'"
      ]
     },
     "execution_count": 10,
     "metadata": {},
     "output_type": "execute_result"
    }
   ],
   "source": [
    "#Printing Means and Averages.  What does this skew mean?\n",
    "print(\"Yellow Card mean: \",np.mean(fifa['Yellow Card']))\n",
    "print(\"Yellow Card median: \", np.median(fifa['Yellow Card']))\n",
    "print(stats.skew(fifa['Yellow Card']))\n",
    "\n",
    "'''Question: if median is smaller, data is negatively skewed. \n",
    "How do I interpret 0.796..skew in this context?'''"
   ]
  },
  {
   "cell_type": "code",
   "execution_count": null,
   "metadata": {},
   "outputs": [],
   "source": [
    "### 7. Plot a scatter of 'Attempts' vs 'On-target' together with a scatter of 'Attempts' vs 'Off-Target' in different colours"
   ]
  },
  {
   "cell_type": "code",
   "execution_count": 15,
   "metadata": {},
   "outputs": [
    {
     "data": {
      "image/png": "[encoded data removed]",
      "text/plain": [
       "<Figure size 720x360 with 1 Axes>"
      ]
     },
     "metadata": {},
     "output_type": "display_data"
    }
   ],
   "source": [
    "plt.scatter(fifa[\"Attempts\"], fifa[\"On-Target\"], s=40, c='red', alpha=0.9)\n",
    "plt.scatter(fifa[\"Attempts\"], fifa[\"Off-Target\"], s=40, c='blue', alpha=0.9)\n",
    "#plt.figure(figsize = (10,5))\n",
    "plt.xlabel(\"Attempts\")\n",
    "plt.ylabel(\"On/Off-Target\")\n",
    "plt.legend(\"legend\")\n",
    "plt.grid()\n",
    "plt.show()\n",
    "\n",
    "\n",
    "plt.rcParams['figure.figsize'] = [10, 5]"
   ]
  },
  {
   "cell_type": "markdown",
   "metadata": {},
   "source": [
    "### EXTRA: groupby team and find the team with the highest ratio of attempts on target\n",
    "\n",
    "Hint: start by dividing the 'On-Target' value by the 'Attempts' value"
   ]
  },
  {
   "cell_type": "code",
   "execution_count": 101,
   "metadata": {},
   "outputs": [
    {
     "data": {
      "text/plain": [
       "Team\n",
       "Russia    0.413043\n",
       "dtype: float64"
      ]
     },
     "execution_count": 101,
     "metadata": {},
     "output_type": "execute_result"
    }
   ],
   "source": [
    "'''Why lambda below does not work'''\n",
    "#fifa['ratio_of_attempts']=fifa.apply(lambda row: row['On-Target']/row['Attempts'],axis=1)\n",
    "\n",
    "'''Is it correct do do like this?'''\n",
    "ratio_of_attempts=fifa.groupby('Team')['On-Target'].sum()/fifa.groupby('Team')['Attempts'].sum()\n",
    "ratio_of_attempts.sort_values(ascending=False).head(1)\n",
    "\n",
    "#other ways of division\n",
    "#fifa['ratio_of_attempts'] = np.divide(fifa['On-Target'], fifa['Attempts'])\n",
    "#fifa.groupby(['Team'])['ratio_of_attempts'].mean().sort_values(ascending = False).head(1)"
   ]
  },
  {
   "cell_type": "markdown",
   "metadata": {},
   "source": [
    "# Inferential statistics"
   ]
  },
  {
   "cell_type": "markdown",
   "metadata": {},
   "source": [
    "### 1. Open the AppleStore dataframe"
   ]
  },
  {
   "cell_type": "code",
   "execution_count": 17,
   "metadata": {},
   "outputs": [
    {
     "name": "stdout",
     "output_type": "stream",
     "text": [
      "<class 'pandas.core.frame.DataFrame'>\n",
      "Int64Index: 7197 entries, 1 to 11097\n",
      "Data columns (total 16 columns):\n",
      "id                  7197 non-null int64\n",
      "track_name          7197 non-null object\n",
      "size_bytes          7197 non-null int64\n",
      "currency            7197 non-null object\n",
      "price               7197 non-null float64\n",
      "rating_count_tot    7197 non-null int64\n",
      "rating_count_ver    7197 non-null int64\n",
      "user_rating         7197 non-null float64\n",
      "user_rating_ver     7197 non-null float64\n",
      "ver                 7197 non-null object\n",
      "cont_rating         7197 non-null object\n",
      "prime_genre         7197 non-null object\n",
      "sup_devices.num     7197 non-null int64\n",
      "ipadSc_urls.num     7197 non-null int64\n",
      "lang.num            7197 non-null int64\n",
      "vpp_lic             7197 non-null int64\n",
      "dtypes: float64(3), int64(8), object(5)\n",
      "memory usage: 955.9+ KB\n"
     ]
    }
   ],
   "source": [
    "import numpy as np\n",
    "import pandas as pd\n",
    "apple_store=pd.read_csv('datasets/AppleStore.csv',index_col = 0)\n",
    "apple_store.info()"
   ]
  },
  {
   "cell_type": "code",
   "execution_count": null,
   "metadata": {},
   "outputs": [],
   "source": [
    "### 2. Sample at random 300 data points from 'user_rating' and 'user_rating_ver'\n",
    "Hint: use scipy"
   ]
  },
  {
   "cell_type": "code",
   "execution_count": 109,
   "metadata": {},
   "outputs": [
    {
     "name": "stdout",
     "output_type": "stream",
     "text": [
      "6757    4.5\n",
      "5152    4.5\n",
      "1854    4.5\n",
      "3791    3.5\n",
      "3084    3.5\n",
      "6645    4.0\n",
      "7057    0.0\n",
      "151     4.0\n",
      "5342    3.0\n",
      "3459    4.5\n",
      "5874    3.0\n",
      "4200    4.5\n",
      "1389    4.5\n",
      "3235    4.5\n",
      "6806    4.5\n",
      "3445    0.0\n",
      "1847    3.5\n",
      "6874    2.5\n",
      "5102    5.0\n",
      "2221    4.5\n",
      "4272    4.0\n",
      "5085    0.0\n",
      "2389    3.0\n",
      "4368    4.5\n",
      "1182    4.5\n",
      "1463    4.5\n",
      "1543    4.5\n",
      "4430    4.0\n",
      "4360    4.0\n",
      "3047    4.0\n",
      "       ... \n",
      "4389    4.5\n",
      "4412    4.5\n",
      "3229    4.5\n",
      "6402    4.0\n",
      "7175    4.5\n",
      "5206    5.0\n",
      "5983    0.0\n",
      "7025    5.0\n",
      "4958    4.5\n",
      "5363    0.0\n",
      "1684    3.5\n",
      "5269    4.0\n",
      "487     4.0\n",
      "4569    4.5\n",
      "3468    4.5\n",
      "416     4.0\n",
      "4363    0.0\n",
      "3895    4.5\n",
      "3906    4.5\n",
      "6481    2.0\n",
      "5757    0.0\n",
      "4815    0.0\n",
      "4207    5.0\n",
      "5143    4.5\n",
      "3094    4.5\n",
      "1901    2.5\n",
      "6588    2.0\n",
      "316     4.5\n",
      "4212    0.0\n",
      "96      3.5\n",
      "Name: user_rating, Length: 300, dtype: float64\n",
      "272     5.0\n",
      "4898    4.5\n",
      "1421    4.5\n",
      "1705    5.0\n",
      "6129    4.5\n",
      "641     5.0\n",
      "3149    0.0\n",
      "6202    4.5\n",
      "6430    4.0\n",
      "2596    2.5\n",
      "3188    4.5\n",
      "6237    3.0\n",
      "3464    5.0\n",
      "3535    4.5\n",
      "5896    5.0\n",
      "4398    4.5\n",
      "6681    4.5\n",
      "1837    4.5\n",
      "911     0.0\n",
      "2952    4.0\n",
      "2181    0.0\n",
      "6079    4.5\n",
      "1658    4.5\n",
      "3522    4.5\n",
      "4791    0.0\n",
      "7065    5.0\n",
      "3623    4.5\n",
      "6553    3.5\n",
      "1000    0.0\n",
      "6046    4.5\n",
      "       ... \n",
      "1305    5.0\n",
      "2576    4.5\n",
      "1229    4.0\n",
      "3037    0.0\n",
      "6584    2.0\n",
      "2979    4.5\n",
      "1721    4.5\n",
      "3333    4.5\n",
      "4922    5.0\n",
      "2747    4.5\n",
      "3046    4.0\n",
      "3331    4.5\n",
      "876     4.0\n",
      "2495    3.0\n",
      "5793    0.0\n",
      "1703    4.0\n",
      "2996    4.0\n",
      "360     0.0\n",
      "6438    2.0\n",
      "1749    5.0\n",
      "5267    0.0\n",
      "4513    4.5\n",
      "6697    1.0\n",
      "3413    4.5\n",
      "1847    3.5\n",
      "4599    0.0\n",
      "4687    0.0\n",
      "7184    0.0\n",
      "4036    5.0\n",
      "2385    4.0\n",
      "Name: user_rating_ver, Length: 300, dtype: float64\n"
     ]
    }
   ],
   "source": [
    "#is that the right way to sample?\n",
    "user_rating_sample = apple_store.user_rating.sample(300)\n",
    "print(user_rating_sample)\n",
    "\n",
    "user_rating_ver_sample = apple_store.user_rating_ver.sample(300)\n",
    "print(user_rating_ver_sample)"
   ]
  },
  {
   "cell_type": "markdown",
   "metadata": {},
   "source": [
    "### 3. Calculate mean and standard deviation for those samples\n",
    "Hint: use numpy"
   ]
  },
  {
   "cell_type": "code",
   "execution_count": 113,
   "metadata": {},
   "outputs": [
    {
     "name": "stdout",
     "output_type": "stream",
     "text": [
      "St.dev for user rating sample is:  1.5712512706615542  and mean is  3.4816666666666665\n",
      "St.dev for user rating ver sample is:  1.7878447608472308  and mean is  3.4816666666666665\n"
     ]
    }
   ],
   "source": [
    "print(\"St.dev for user rating sample is: \", np.std(user_rating_sample), \" and mean is \", np.mean(user_rating_sample))\n",
    "print(\"St.dev for user rating ver sample is: \", np.std(user_rating_ver_sample), \" and mean is \", np.mean(user_rating_sample))"
   ]
  },
  {
   "cell_type": "markdown",
   "metadata": {},
   "source": [
    "### 4. Assuming that your confidence correspond to the ratio of data you sampled over the total number of data, calculate the Confidence Interval of your samples\n",
    "Hint: count how many **valid** entries you have for each column\n",
    "If you realise that null values are present and you sampled some of them, go back to point 2, clean the data and repeat the operations"
   ]
  },
  {
   "cell_type": "code",
   "execution_count": 163,
   "metadata": {},
   "outputs": [
    {
     "name": "stdout",
     "output_type": "stream",
     "text": [
      "0\n",
      "7197\n",
      "7197\n",
      "300\n",
      "0.041684035014589414\n",
      "(1.4947733021886858, 1.5052266978113142)\n"
     ]
    },
    {
     "data": {
      "text/plain": [
       "'On top of all that I do not really understand what this \\nconfidence interval even means in this case'"
      ]
     },
     "execution_count": 163,
     "metadata": {},
     "output_type": "execute_result"
    }
   ],
   "source": [
    "'''I am not sure if 0.0 is actually considered to be a null or not\n",
    "I can see that 0.0 is not being counted as a null value. When I tried\n",
    "to replace it with just 0 it does not get replaced either'''\n",
    "\n",
    "#all of below comes out as zeros\n",
    "\n",
    "print(apple_store['user_rating'].isna().sum())\n",
    "#print(apple_store['user_rating'].isnull().sum())\n",
    "#print(apple_store['user_rating_ver'].isna().sum())\n",
    "\n",
    "#assigning to a _clean dataframe to try replace with zeros again\n",
    "apple_store_clean=apple_store\n",
    "apple_store_clean['user_rating'].replace(0.0,0,inplace=True)\n",
    "apple_store_clean.head(100)\n",
    "\n",
    "#making the ration since I can't figure out how to remove 0.0\n",
    "print(apple_store_clean['user_rating'].count())\n",
    "print(apple_store_clean['user_rating_ver'].count())\n",
    "print(user_rating_sample.count())\n",
    "ratio=user_rating_sample.count()/apple_store_clean['user_rating'].count()\n",
    "print(ratio)\n",
    "\n",
    "#confidence interval \n",
    "print(stats.norm.interval(ratio,loc=1.5,scale=0.1))\n",
    "'''On top of all that I do not really understand what this \n",
    "confidence interval even means in this case'''"
   ]
  },
  {
   "cell_type": "markdown",
   "metadata": {},
   "source": [
    "### 5. Repeat the same operation (i.e. calculate the CI) but this time sample (at random) 100, 500 and 1000 points"
   ]
  },
  {
   "cell_type": "code",
   "execution_count": 177,
   "metadata": {},
   "outputs": [
    {
     "name": "stdout",
     "output_type": "stream",
     "text": [
      "7197\n",
      "0.013894678338196471\n",
      "0.06947339169098235\n",
      "0.1389467833819647\n",
      "CI 100 is : (1.498258472292666, 1.501741527707334)\n",
      "CI 500 is : (1.4912817699967655, 1.5087182300032345)\n",
      "CI 1000 is : (1.4912817699967655, 1.5087182300032345)\n"
     ]
    }
   ],
   "source": [
    "#sampling at random again\n",
    "\n",
    "#this one is again 0...\n",
    "apple_store['user_rating'].isna().sum()\n",
    "\n",
    "#making sure it is the same number as before...\n",
    "user_rating_entries=apple_store['user_rating'].count()\n",
    "print(user_rating_entries)\n",
    "\n",
    "user_rating_sample_100 = apple_store.user_rating.sample(100)\n",
    "user_rating_sample_500 = apple_store.user_rating.sample(500)\n",
    "user_rating_sample_1000 = apple_store.user_rating.sample(1000)\n",
    "#print(user_rating_sample_100,user_rating_sample_500,user_rating_sample_1000)\n",
    "\n",
    "#calculating ratios\n",
    "ratio_100=user_rating_sample_100.count()/apple_store['user_rating'].count()\n",
    "print(ratio_100)\n",
    "ratio_500=user_rating_sample_500.count()/apple_store['user_rating'].count()\n",
    "print(ratio_500)\n",
    "ratio_1000=user_rating_sample_1000.count()/apple_store['user_rating'].count()\n",
    "print(ratio_1000)\n",
    "\n",
    "#confidence interval \n",
    "print(\"CI 100 is :\", stats.norm.in\n",
    "      terval(ratio_100,loc=1.5,scale=0.1))\n",
    "print(\"CI 500 is :\", stats.norm.interval(ratio_500,loc=1.5,scale=0.1))\n",
    "print(\"CI 1000 is :\", stats.norm.interval(ratio_500,loc=1.5,scale=0.1))"
   ]
  },
  {
   "cell_type": "markdown",
   "metadata": {},
   "source": [
    "### 6. Given the null hypothesis that 'user_rating' and 'user_rating_ver' are similar, perform a T-test to confirm or reject the null hypothesis\n",
    "Hint: use scipy to calculate the p-values"
   ]
  },
  {
   "cell_type": "code",
   "execution_count": 179,
   "metadata": {},
   "outputs": [
    {
     "name": "stdout",
     "output_type": "stream",
     "text": [
      "1.090619171407567e-22\n"
     ]
    }
   ],
   "source": [
    "#H0=the columns are similar, H1=columns are different\n",
    "#small number means it is extremely unlikely that the difference is due to chance\n",
    "from scipy import stats\n",
    "t_statistic, p_value=stats.ttest_ind(apple_store['user_rating'],apple_store['user_rating_ver'])\n",
    "print(p_value)"
   ]
  },
  {
   "cell_type": "markdown",
   "metadata": {},
   "source": [
    "### EXTRA: using scattering plots, sampling and T-test are you able to find a correspondence between the price of the apps and their rating\n",
    "\n",
    "Hint: if you compare the values through the T-test, you may have to rescale them or create ratios between them, so that their range will be comparable\n",
    "Hint 2: when you plot data, always add legend, axis labels, units (if needed) and title"
   ]
  },
  {
   "cell_type": "code",
   "execution_count": 185,
   "metadata": {},
   "outputs": [
    {
     "name": "stdout",
     "output_type": "stream",
     "text": [
      "1.5763739948114323e-11\n"
     ]
    }
   ],
   "source": [
    "'''T-test. H0=there is no effect of price on rating. H1=there \n",
    "is effect of price on rating'''\n",
    "\n",
    "#making a sample\n",
    "price_sample=apple_store.price.sample(100)\n",
    "user_rating_sample = apple_store.user_rating.sample(100)\n",
    "#print(price_sample,user_rating_sample)\n",
    "\n",
    "#making a T-test on the sample\n",
    "t_statistic, p_value=stats.ttest_ind(price_sample,user_rating_sample)\n",
    "print(p_value)"
   ]
  },
  {
   "cell_type": "code",
   "execution_count": null,
   "metadata": {},
   "outputs": [],
   "source": [
    "'''This number is small enough. This means the H0 is likely to be wrong. \n",
    "Therefore, there is an effect of price on user rating. Is that correct?'''"
   ]
  },
  {
   "cell_type": "code",
   "execution_count": 193,
   "metadata": {},
   "outputs": [
    {
     "data": {
      "image/png": "[encoded data removed]",
      "text/plain": [
       "<Figure size 720x360 with 1 Axes>"
      ]
     },
     "metadata": {},
     "output_type": "display_data"
    }
   ],
   "source": [
    "plt.scatter(price_sample,user_rating_sample,s=90,c='magenta',alpha=0.9)\n",
    "plt.xlabel(\"price\")\n",
    "plt.ylabel(\"user_rating\")\n",
    "plt.xlim(0,10)\n",
    "plt.ylim(0,5)\n",
    "plt.grid()\n",
    "plt.show()\n",
    "\n",
    "plt.rcParams['figure.figsize'] = [10, 5]"
   ]
  },
  {
   "cell_type": "code",
   "execution_count": null,
   "metadata": {},
   "outputs": [],
   "source": [
    "'''can we say that if the price of the app is lower'''"
   ]
  }
 ],
 "metadata": {
  "kernelspec": {
   "display_name": "Python 3",
   "language": "python",
   "name": "python3"
  },
  "language_info": {
   "codemirror_mode": {
    "name": "ipython",
    "version": 3
   },
   "file_extension": ".py",
   "mimetype": "text/x-python",
   "name": "python",
   "nbconvert_exporter": "python",
   "pygments_lexer": "ipython3",
   "version": "3.6.5"
  }
 },
 "nbformat": 4,
 "nbformat_minor": 2
}
