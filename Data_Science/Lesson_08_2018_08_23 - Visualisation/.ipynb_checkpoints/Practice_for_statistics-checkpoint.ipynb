{
 "cells": [
  {
   "cell_type": "markdown",
   "metadata": {},
   "source": [
    "# Practice plotting and statistics\n",
    "\n",
    "Use the Fifa 2018 dataframe to show descriptive statistics and plotting distributions\n",
    "\n",
    "Use the App Store dataframe to show inferential statistics (sampling, CI, p-values)"
   ]
  },
  {
   "cell_type": "markdown",
   "metadata": {},
   "source": [
    "# Descriptive statistics"
   ]
  },
  {
   "cell_type": "markdown",
   "metadata": {},
   "source": [
    "### 1. Open the FIFA 2018 Statistics dataframe"
   ]
  },
  {
   "cell_type": "markdown",
   "metadata": {},
   "source": [
    "- Date: Match Date\n",
    "- Team: Playing Team\n",
    "- Opponent: Opponent Team\n",
    "- Goal Scored: Number of goals scored by this team\n",
    "- Ball Possession %: Amount of time ball was in control by the team\n",
    "- Attempts: Number of attempts to score goal\n",
    "- On-Target: Number of shots on-target\n",
    "- Off-Target: Number of shots that went off-target\n",
    "- Blocked: Number of opponent team's attempts blocked by the team\n",
    "- Corners: Number of corner shots used\n",
    "- Offsides: Number of off-side events\n",
    "- Free Kicks: Number of free-kicks used\n",
    "- Saves: Number saves by the goal keeper\n",
    "- Pass Accuracy %: Percentage of passes that reached the same team player as aimed\n",
    "- Passes: Total number of passes by the team\n",
    "- Distance Covered (Kms): Total distance covered by the team members in this game\n",
    "- Fouls Committed: Number of fouls committed by the team members\n",
    "- Yellow Card: Number of Yellow warning received\n",
    "- Yellow & Red: Number of Yellow & Red warning received\n",
    "- Red: Number of Red cards received\n",
    "- Man of the Match: Did this team member win Man of the Match?\n",
    "- 1st Goal: When did the team score the 1st goal?\n",
    "- Round: Stage of the match\n",
    "- PSO: Was there a penalty shootout (PSO) in this match?\n",
    "- Goals in PSO: Number of goals scored in the Penalty shootout\n",
    "- Own goals: Number of own goals\n",
    "- Own goal Time: When did the team score own goal?\n"
   ]
  },
  {
   "cell_type": "markdown",
   "metadata": {},
   "source": [
    "### 2. Calculate the mean and median values for 'Attempts', 'On-Target' and 'Off-Target'\n",
    "\n",
    "Hint: use numpy"
   ]
  },
  {
   "cell_type": "code",
   "execution_count": null,
   "metadata": {},
   "outputs": [],
   "source": []
  },
  {
   "cell_type": "markdown",
   "metadata": {},
   "source": [
    "### 3. Given the results you obtained, can you establish whether these data are skewed?\n",
    "Hint: compare the mean and median"
   ]
  },
  {
   "cell_type": "markdown",
   "metadata": {},
   "source": [
    "### 4. Calculate the skew for each of the data you extracted\n",
    "Hint: use scipy"
   ]
  },
  {
   "cell_type": "markdown",
   "metadata": {},
   "source": [
    "### 5. Plot the histograms for each of the extracted columns\n",
    "\n",
    "Hint: choose an acceptable number of bins"
   ]
  },
  {
   "cell_type": "markdown",
   "metadata": {},
   "source": [
    "### 6. Now repeat points 2, 3, 4 and 5 for the category 'Yellow Card' and 'Red'\n",
    "\n",
    "Do you expect to find different results?"
   ]
  },
  {
   "cell_type": "markdown",
   "metadata": {},
   "source": [
    "### 7. Plot a scatter of 'Attempts' vs 'On-target' together with a scatter of 'Attempts' vs 'Off-Target' in different colours"
   ]
  },
  {
   "cell_type": "markdown",
   "metadata": {},
   "source": [
    "### EXTRA: groupby team and find the team with the highest ratio of attempts on target\n",
    "\n",
    "Hint: start by dividing the 'On-Target' value by the 'Attempts' value"
   ]
  },
  {
   "cell_type": "markdown",
   "metadata": {},
   "source": [
    "# Inferential statistics"
   ]
  },
  {
   "cell_type": "markdown",
   "metadata": {},
   "source": [
    "### 1. Open the AppleStore dataframe"
   ]
  },
  {
   "cell_type": "markdown",
   "metadata": {},
   "source": [
    "### 2. Sample at random 300 data points from 'user_rating' and 'user_rating_ver'\n",
    "Hint: use scipy"
   ]
  },
  {
   "cell_type": "markdown",
   "metadata": {},
   "source": [
    "### 3. Calculate mean and standard deviation for those samples\n",
    "Hint: use numpy"
   ]
  },
  {
   "cell_type": "markdown",
   "metadata": {},
   "source": [
    "### 4. Assuming that your confidence correspond to the ratio of data you sampled over the total number of data, calculate the Confidence Interval of your samples\n",
    "Hint: count how many **valid** entries you have for each column\n",
    "If you realise that null values are present and you sampled some of them, go back to point 2, clean the data and repeat the operations"
   ]
  },
  {
   "cell_type": "markdown",
   "metadata": {},
   "source": [
    "### 5. Repeat the same operation (i.e. calculate the CI) but this time sample (at random) 100, 500 and 1000 points"
   ]
  },
  {
   "cell_type": "markdown",
   "metadata": {},
   "source": [
    "### 6. Given the null hypothesis that 'user_rating' and 'user_rating_ver' are similar, perform a T-test to confirm or reject the null hypothesis\n",
    "Hint: use scipy to calculate the p-values"
   ]
  },
  {
   "cell_type": "markdown",
   "metadata": {},
   "source": [
    "### EXTRA: using scattering plots, sampling and T-test are you able to find a correspondence between the price of the apps and their rating\n",
    "\n",
    "Hint: if you compare the values through the T-test, you may have to rescale them or create ratios between them, so that their range will be comparable\n",
    "Hint 2: when you plot data, always add legend, axis labels, units (if needed) and title"
   ]
  },
  {
   "cell_type": "code",
   "execution_count": null,
   "metadata": {},
   "outputs": [],
   "source": []
  }
 ],
 "metadata": {
  "kernelspec": {
   "display_name": "Python 3",
   "language": "python",
   "name": "python3"
  },
  "language_info": {
   "codemirror_mode": {
    "name": "ipython",
    "version": 3
   },
   "file_extension": ".py",
   "mimetype": "text/x-python",
   "name": "python",
   "nbconvert_exporter": "python",
   "pygments_lexer": "ipython3",
   "version": "3.6.5"
  }
 },
 "nbformat": 4,
 "nbformat_minor": 2
}
