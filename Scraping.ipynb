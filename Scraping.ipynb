{
 "cells": [
  {
   "cell_type": "code",
   "execution_count": null,
   "metadata": {},
   "outputs": [],
   "source": [
    "import requests\n",
    "from bs4 import BeautifulSoup"
   ]
  },
  {
   "cell_type": "code",
   "execution_count": null,
   "metadata": {},
   "outputs": [],
   "source": [
    "URL = \"http://insideairbnb.com/get-the-data.html\"\n",
    "headers = {\"User-Agent\":\"Mozilla/5.0 (Windows NT 10.0; Win64; x64) AppleWebKit/537.36 (KHTML, like Gecko) Chrome/70.0.3538.102 Safari/537.36 Edge/18.18362\"}\n",
    "result = requests.get(URL,headers=headers)\n",
    "result"
   ]
  },
  {
   "cell_type": "code",
   "execution_count": 90,
   "metadata": {},
   "outputs": [
    {
     "data": {
      "text/plain": [
       "3"
      ]
     },
     "execution_count": 90,
     "metadata": {},
     "output_type": "execute_result"
    }
   ],
   "source": [
    "soup = BeautifulSoup(result.content, \"lxml\")\n",
    "# print(soup.prettify())\n",
    "# amenities = soup.find(id=\"site-content\")\n",
    "# print(soup.find_all(\"div\",class_=\"contentContainer\"))\n",
    "listings_links = {}\n",
    "reviews_links = {}\n",
    "for city in soup.find(\"div\",class_=\"contentContainer\").find_all(\"table\"): # [0].table\n",
    "    for dataset in city.tbody.find_all(\"tr\",class_=\"\"):\n",
    "        check = dataset.a[\"onclick\"].split(\";\")[1].split(\",\")[3]\n",
    "        city_name = city[\"class\"][3]\n",
    "        if (\"listings\" in check) and (\"visualisation\" not in check):\n",
    "            listings_links[city_name] = dataset.a[\"href\"]\n",
    "        if (\"reviews\" in check) and (\"visualisation\" not in check):\n",
    "            reviews_links[city_name] = dataset.a[\"href\"]\n",
    "\n",
    "            \n",
    "#         for td in city.find_all(\"td\"):\n",
    "#             if count %\"Detailed\" in td.text:\n",
    "#             print(td.text)\n",
    "\n",
    "    \n",
    "#         link = content.tbody.find(\"tr\",class_=\"\").a[\"href\"]\n",
    "#         links.append(link)\n",
    "## link = listings[0].tbody.find_all(\"tr\",class_=\"\")\n",
    "# print(links)\n",
    "## print(link[0].a[\"href\"])\n",
    "3# print(amenities.prettify())"
   ]
  },
  {
   "cell_type": "code",
   "execution_count": 93,
   "metadata": {},
   "outputs": [
    {
     "data": {
      "text/plain": [
       "103"
      ]
     },
     "execution_count": 93,
     "metadata": {},
     "output_type": "execute_result"
    }
   ],
   "source": [
    "len(reviews_links)"
   ]
  }
 ],
 "metadata": {
  "kernelspec": {
   "display_name": "Python 3",
   "language": "python",
   "name": "python3"
  },
  "language_info": {
   "codemirror_mode": {
    "name": "ipython",
    "version": 3
   },
   "file_extension": ".py",
   "mimetype": "text/x-python",
   "name": "python",
   "nbconvert_exporter": "python",
   "pygments_lexer": "ipython3",
   "version": "3.7.1"
  }
 },
 "nbformat": 4,
 "nbformat_minor": 2
}
